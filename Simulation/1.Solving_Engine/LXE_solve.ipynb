{
 "metadata": {
  "language_info": {
   "codemirror_mode": {
    "name": "ipython",
    "version": 3
   },
   "file_extension": ".py",
   "mimetype": "text/x-python",
   "name": "python",
   "nbconvert_exporter": "python",
   "pygments_lexer": "ipython3",
   "version": "3.6.5"
  },
  "orig_nbformat": 2,
  "kernelspec": {
   "name": "python3",
   "display_name": "Python 3.6.5 64-bit ('base': conda)",
   "metadata": {
    "interpreter": {
     "hash": "dca0ade3e726a953b501b15e8e990130d2b7799f14cfd9f4271676035ebe5511"
    }
   }
  }
 },
 "nbformat": 4,
 "nbformat_minor": 2,
 "cells": [
  {
   "source": [
    "# LXE Solving\n",
    "Here we solve for muons creating sound waves in liquid xenon. This is going to be great!"
   ],
   "cell_type": "markdown",
   "metadata": {}
  },
  {
   "cell_type": "code",
   "execution_count": 89,
   "metadata": {},
   "outputs": [],
   "source": [
    "# Import libraries\n",
    "import numpy as np\n",
    "import matplotlib.pyplot as plt\n",
    "import scipy.constants as const\n",
    "from fem import *\n",
    "\n",
    "# Load the text file with the properties of Xenon\n",
    "prop_Xe = get_properties('./fluids/LXE.txt')\n",
    "prop_mu = get_properties('./particles/muon.txt')\n",
    "\n",
    "# Now we will define the appropriate constants in SI units\n",
    "K       = prop_Xe['bulk_modulus']\n",
    "c       = prop_Xe['sound_speed']\n",
    "Cp      = prop_Xe['specific_heat_p']\n",
    "beta    = prop_Xe['thermal_expansion']\n",
    "mu      = prop_Xe['viscocity']\n",
    "rho_0   = prop_Xe['rest_density']\n",
    "I       = prop_Xe['ionization_potential']\n",
    "Z       = prop_Xe['atomic_number']\n",
    "M       = prop_Xe['molar_mass']\n",
    "n       = rho_0/M*const.Avogadro                        # Particle density\n",
    "s       = n**(-1/3)                                     # Inter-particle distance \n",
    "v       = prop_mu['speed']                              # Speed of particle\n",
    "z       = prop_mu['charge']/const.elementary_charge     # Numer Charge of compound\n",
    "cc      = const.c                                       # Speed of light\n",
    "ne      = const.Avogadro * Z * rho_0/M                  # Electron Densiry\n",
    "me      = const.electron_mass                           # Electron Mass\n",
    "e       = -const.elementary_charge                      # Electron Charge\n",
    "e0      = const.epsilon_0                               # Permitivity\n",
    "bb      = v/cc                                          # Particle Relative speed\n",
    "\n",
    "# dE/dx the bethe bloch formula for the particle\n",
    "dEdx    = 4*np.pi/me * ne * z**2/v**2 *(e**2/(4*np.pi*e0))**2* (np.log(2*me*v**2/(I*(1-bb**2))) - bb**2)\n",
    "\n",
    "# Control Constants\n",
    "# They are scaling factors for the nondimensionalization\n",
    "# To be altered each time so that to assist with the process\n",
    "lam = 1e4\n",
    "tau = 1e3\n",
    "\n",
    "# Derived constants\n",
    "w0      = K/mu                              # Attenuation Frequency\n",
    "T       = tau/w0                            # Standard Time unit\n",
    "L       = lam*T*c                           # Standard Length unit\n",
    "P       = beta*v**2*L**3*T/(s**5*Cp)*dEdx   # Standard Pressure Unit\n",
    "\n",
    "# Nondimensionalized source function\n",
    "F = lambda r,z,t: (z-v*t*T/L) * np.exp(-(L/s)**2/2 *(r**2+ (z-v*t*T/L)**2))"
   ]
  },
  {
   "cell_type": "code",
   "execution_count": 90,
   "metadata": {},
   "outputs": [
    {
     "output_type": "stream",
     "name": "stdout",
     "text": [
      "Physical Constants\n--------------------------------------------\nw0\t= 7.451e+10 Hz\ns\t= 4.189e-09 m\nc\t= 6.535e+02 m/s\n\nSimulation Constants\n--------------------------------------------\nT\t= 1.342e-08 s\nL\t= 8.770e-02 m\nP\t= 1.464e+29 Pa\n\nCharacteristic Source Constants\n--------------------------------------------\nstd\t= 4.776e-08 L\nv\t= 1.835e+01 L/T\n"
     ]
    }
   ],
   "source": [
    "# Here are the values for some characteristic constants for Xenon\n",
    "print('''Physical Constants\n",
    "--------------------------------------------''')\n",
    "print('w0\\t= %.3e Hz'%w0)\n",
    "print('s\\t= %.3e m'%s)\n",
    "print('c\\t= %.3e m/s'%c)\n",
    "print('''\n",
    "Simulation Constants\n",
    "--------------------------------------------''')\n",
    "print('T\\t= %.3e s'%T)\n",
    "print('L\\t= %.3e m'%L)\n",
    "print('P\\t= %.3e Pa'%P)\n",
    "print('''\n",
    "Characteristic Source Constants\n",
    "--------------------------------------------''')\n",
    "print('std\\t= %.3e L'%(s/L))\n",
    "print('v\\t= %.3e L/T'%(v*T/L))"
   ]
  },
  {
   "cell_type": "code",
   "execution_count": 65,
   "metadata": {},
   "outputs": [],
   "source": [
    "# Now we have everything to create our numerical scheme so let's start\n"
   ]
  },
  {
   "cell_type": "code",
   "execution_count": null,
   "metadata": {},
   "outputs": [],
   "source": []
  }
 ]
}