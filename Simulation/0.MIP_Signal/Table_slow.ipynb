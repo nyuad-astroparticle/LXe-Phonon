{
 "cells": [
  {
   "cell_type": "markdown",
   "metadata": {},
   "source": [
    "# Tabling slow\n",
    "\n",
    "This is the script to create the table of measurements in section 4."
   ]
  },
  {
   "cell_type": "code",
   "execution_count": 2,
   "metadata": {},
   "outputs": [
    {
     "name": "stdout",
     "output_type": "stream",
     "text": [
      "CUDA GPU Acceleration is unavailable for your system : (\n",
      "\u001b[93mCupy Not available in your system. No GPU Support\u001b[0m\n"
     ]
    }
   ],
   "source": [
    "# import libraries\n",
    "import numpy as np\n",
    "import matplotlib.pyplot as plt\n",
    "from scipy.optimize import minimize, NonlinearConstraint\n",
    "import matplotlib.transforms as mtransforms\n",
    "import os\n",
    "from pyphonon import *\n",
    "\n",
    "# Check for GPU support\n",
    "try:\n",
    "    import cupy as cp\n",
    "    import numpy as np\n",
    "    GPU = True\n",
    "    print(bcolors.OKGREEN+'GPU Support Enabled'+bcolors.ENDC)\n",
    "except ImportError:\n",
    "    import numpy as np\n",
    "    GPU = False\n",
    "    print(bcolors.WARNING+'Cupy Not available in your system. No GPU Support'+bcolors.ENDC)\n",
    "\n",
    "# Ignore large warnings\n",
    "import sys\n",
    "if not sys.warnoptions:\n",
    "    import warnings\n",
    "    warnings.simplefilter(\"ignore\")\n",
    "\n",
    "# Set some flags and environment variables\n",
    "data_dir     = './data/'\n",
    "fluid_dir    = 'fluids/'\n",
    "particle_dir = 'particles/'\n",
    "\n",
    "%matplotlib widget"
   ]
  },
  {
   "cell_type": "code",
   "execution_count": 3,
   "metadata": {},
   "outputs": [],
   "source": [
    "# Collect the fluids and particles from the directories\n",
    "fluid_files     = [data_dir+fluid_dir+f for f in os.listdir(data_dir+fluid_dir)]\n",
    "fluid_names     = [f.replace('.txt','') for f in os.listdir(data_dir+fluid_dir)]\n",
    "particle_files  = [data_dir+particle_dir+f for f in os.listdir(data_dir+particle_dir)]\n",
    "particle_names  = [f.replace('.txt','') for f in os.listdir(data_dir+particle_dir)]\n",
    "fluids          = [fluid(fname,name=n) for fname,n in zip(fluid_files,fluid_names)] \n",
    "particles       = [particle(fname,name=n) for fname,n in zip(particle_files,particle_names)]"
   ]
  },
  {
   "cell_type": "code",
   "execution_count": 4,
   "metadata": {},
   "outputs": [
    {
     "name": "stdout",
     "output_type": "stream",
     "text": [
      "\u001b[1mGenerating Estimator for order 0\u001b[0m\n",
      "Assembling the estimator using multiprocessing on 20 cores\n",
      "Permuations created successfully\n",
      "\tSend the slow data to the pool\n",
      "CUDA GPU Acceleration is unavailable for your system : (\n",
      "\t\u001b[96mSlow:\u001b[0m 0, 0 \u001b[92mDone!\u001b[0m\n",
      "Pool closed Successfully\n",
      "recasting functions\n"
     ]
    },
    {
     "data": {
      "application/vnd.jupyter.widget-view+json": {
       "model_id": "51c683d60ce9408999591a8f5847ad28",
       "version_major": 2,
       "version_minor": 0
      },
      "text/plain": [
       "  0%|          | 0/1 [00:00<?, ?it/s]"
      ]
     },
     "metadata": {},
     "output_type": "display_data"
    },
    {
     "name": "stdout",
     "output_type": "stream",
     "text": [
      "\u001b[1m\u001b[4mEstimator Generated Successfully\u001b[0m\n"
     ]
    }
   ],
   "source": [
    "# Create an estimator\n",
    "\n",
    "# Simulator parameters\n",
    "max_order   = 0\n",
    "n_cores     = 20\n",
    "slow        = True\n",
    "\n",
    "# Create estimator\n",
    "E = estimator(max_order=max_order,n_cores=n_cores,slow=slow,GPU=GPU)"
   ]
  },
  {
   "cell_type": "code",
   "execution_count": 5,
   "metadata": {},
   "outputs": [
    {
     "name": "stdout",
     "output_type": "stream",
     "text": [
      "\u001b[1mGenerating Estimator for order 1\u001b[0m\n",
      "Assembling the estimator using multiprocessing on 20 cores\n",
      "Permuations created successfully\n",
      "\tSend the slow data to the pool\n",
      "CUDA GPU Acceleration is unavailable for your system : (\n",
      "CUDA GPU Acceleration is unavailable for your system : (\n",
      "CUDA GPU Acceleration is unavailable for your system : (\n",
      "\t\u001b[96mSlow:\u001b[0m 0, 0 \u001b[92mDone!\u001b[0m\n",
      "\t\u001b[96mSlow:\u001b[0m 1, 0 \u001b[92mDone!\u001b[0m\n",
      "\t\u001b[96mSlow:\u001b[0m 1, 1 \u001b[92mDone!\u001b[0m\n",
      "Pool closed Successfully\n",
      "recasting functions\n"
     ]
    },
    {
     "data": {
      "application/vnd.jupyter.widget-view+json": {
       "model_id": "6a1503cccba7451d96108236cc65fc57",
       "version_major": 2,
       "version_minor": 0
      },
      "text/plain": [
       "  0%|          | 0/3 [00:00<?, ?it/s]"
      ]
     },
     "metadata": {},
     "output_type": "display_data"
    },
    {
     "name": "stdout",
     "output_type": "stream",
     "text": [
      "\u001b[1m\u001b[4mEstimator Generated Successfully\u001b[0m\n"
     ]
    }
   ],
   "source": [
    "# Create a better estimator\n",
    "\n",
    "# Simulator parameters\n",
    "max_order   = 1\n",
    "n_cores     = 20\n",
    "slow        = True\n",
    "\n",
    "# Create estimator\n",
    "G = estimator(max_order=max_order,n_cores=n_cores,slow=slow,GPU=GPU)"
   ]
  },
  {
   "cell_type": "code",
   "execution_count": 13,
   "metadata": {},
   "outputs": [],
   "source": [
    "#### HELPER FUNCTIONS #####\n",
    "\n",
    "# Get the values for multiple fluids\n",
    "def max_pressure_fluids(r,v,fluids,particle,E=E,G=G):\n",
    "    # Set the particle's velocity\n",
    "    particle(v)\n",
    "\n",
    "    # Arrays to store stuff\n",
    "    fmax    = []\n",
    "    pres    = []\n",
    "    results = []\n",
    "    \n",
    "    # For each fluid\n",
    "    for fluid in tqdm(fluids):\n",
    "        # Get viscosity coefficient\n",
    "        l = fluid.viscosity_coefficient()*fluid.sound_speed\n",
    "        V = particle.speed/fluid.sound_speed\n",
    "\n",
    "        # Find the maximum at zero order\n",
    "        fun,x,res = max_pressure(r,V,l,E=E)\n",
    "\n",
    "        # Plug it in to the corrected order\n",
    "        fmax.append(G(r,x[1],x[0],V,l))\n",
    "        results.append(res)\n",
    "        pres.append(-fmax[-1]*fluid.energy_deposition(particle))\n",
    "\n",
    "        # Print some stuff\n",
    "        print(fluid.name + ': %.15e %.15e %.15e Pa'%(fun,fmax[-1],pres[-1]))\n",
    "\n",
    "\n",
    "    return fmax,pres,results\n",
    "\n",
    "\n",
    "\n",
    "# Calculate the maximum pressure given certain parameters\n",
    "def max_pressure(r,v,l,E=E):\n",
    "    # Initial token z position\n",
    "    z   = 0.1\n",
    "\n",
    "    # Estimator caller\n",
    "    p = lambda x: -E(r,x[1],x[0],v,l)\n",
    "\n",
    "    # Do the optimization\n",
    "    x0 = np.array([np.sqrt(r**2 + z**2),0])\n",
    "    res = minimize(p,x0,method='nelder-mead', options={'xatol': 1e-9, 'disp': True})\n",
    "\n",
    "    return -res['fun'], res['x'], res\n",
    "\n",
    "# Calculate the maximum pressure given certain parameters and constraints\n",
    "def max_pressure_constrained(r,v,l,JAC=None,HES=None,E=E):\n",
    "    # Initial token z position\n",
    "    z   = 0.1\n",
    "\n",
    "    # Define constraints\n",
    "    const   = lambda x: np.array(x[0] - np.sqrt(r**2 + x[1]**2))\n",
    "    cjac    = lambda x: np.array([1,-x[1]/np.sqrt(r**2 + x[1]**2)])\n",
    "    chess   = lambda x,v: v[0]*np.array([[0,0],[0,-r**2/np.sqrt(r**2+x[1]**2)**3]])\n",
    "    \n",
    "    constraint = NonlinearConstraint(const,0,np.inf,jac=cjac,hess=chess)\n",
    "\n",
    "    # Get jacobian and hessian estimator\n",
    "    if JAC is None:\n",
    "        print('Generating Jacobian')\n",
    "        JAC     = E.get_jacobian()\n",
    "    if HES is None:\n",
    "        print('Generating Hessian')\n",
    "        HES     = E.get_hessian()\n",
    "\n",
    "    # Jacobian and Hessian converters\n",
    "    jac = lambda x: JAC(r,x[1],x[0],v,l)\n",
    "    hes = lambda x: HES(r,x[1],x[0],v,l)\n",
    "\n",
    "    # Estimator caller\n",
    "    p = lambda x: -E(r,x[1],x[0],v,l)\n",
    "\n",
    "    # Do the optimization\n",
    "    print('Starting Optimization')\n",
    "    x0 = np.array([np.sqrt(r**2 + z**2)+0.0001,0])\n",
    "    res = minimize(p,x0,method='trust-constr', #jac=jac, hess=hes, \n",
    "                    constraints=[constraint], options={'verbose': 1, 'disp': True})\n",
    "\n",
    "    return -res['fun'], res['x'], res\n",
    "\n",
    "# Plot the maximum\n",
    "def plot_max(r,z,t,v,l,E=E,tol=0.01,Npts=10000):\n",
    "    # Create a figure\n",
    "    fig = plt.figure()\n",
    "    ax  = fig.add_subplot(111)\n",
    "    trans = mtransforms.blended_transform_factory(ax.transData, ax.transAxes)\n",
    "\n",
    "    # Get the time and plot everything\n",
    "    T   = np.linspace(t-tol,t+tol,Npts)\n",
    "    ax.plot(T,E(r,z,T,v,l))\n",
    "    ax.axvline(t,c='k')\n",
    "    # ax.fill_between(T,0,1,v*T - (z+r*np.sqrt(v**2-1)) < 0,facecolor='red',alpha=0.1,transform=trans)\n",
    "\n",
    "    return fig,ax"
   ]
  },
  {
   "cell_type": "code",
   "execution_count": 14,
   "metadata": {},
   "outputs": [
    {
     "name": "stdout",
     "output_type": "stream",
     "text": [
      "49999999.99999999 0.16666666666666663\n",
      "Warning: Maximum number of function evaluations has been exceeded.\n",
      " final_simplex: (array([[0.10000002, 0.00158961],\n",
      "       [0.10000002, 0.00158961],\n",
      "       [0.10000002, 0.00158961]]), array([-2.25337728e+19, -2.25337728e+19, -7.96689177e+18]))\n",
      "           fun: -2.253377278376911e+19\n",
      "       message: 'Maximum number of function evaluations has been exceeded.'\n",
      "          nfev: 400\n",
      "           nit: 167\n",
      "        status: 1\n",
      "       success: False\n",
      "             x: array([0.10000002, 0.00158961])\n"
     ]
    },
    {
     "data": {
      "application/vnd.jupyter.widget-view+json": {
       "model_id": "3a9a44d8ec594c07b16a394fffc331fb",
       "version_major": 2,
       "version_minor": 0
      },
      "image/png": "[encoded data removed]",
      "text/html": [
       "\n",
       "            <div style=\"display: inline-block;\">\n",
       "                <div class=\"jupyter-widgets widget-label\" style=\"text-align: center;\">\n",
       "                    Figure\n",
       "                </div>\n",
       "                <img src='data:image/png;base64,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' width=640.0/>\n",
       "            </div>\n",
       "        "
      ],
      "text/plain": [
       "Canvas(toolbar=Toolbar(toolitems=[('Home', 'Reset original view', 'home', 'home'), ('Back', 'Back to previous …"
      ]
     },
     "metadata": {},
     "output_type": "display_data"
    }
   ],
   "source": [
    "muon    = particles[0]\n",
    "xe      = fluids[3]\n",
    "\n",
    "muon(0.5*xe.sound_speed)\n",
    "muon(0.5e8)\n",
    "r = 10e-2\n",
    "v = muon.speed/xe.sound_speed\n",
    "l = xe.viscosity_coefficient()*xe.sound_speed\n",
    "print(v*xe.sound_speed,v*xe.sound_speed/3e8)\n",
    "\n",
    "fun,x,res = max_pressure(r,v,l)\n",
    "print(res)\n",
    "fig,ax = plot_max(r,x[1],x[0],v,l,tol=.1,Npts=100,E=G)"
   ]
  },
  {
   "cell_type": "code",
   "execution_count": 15,
   "metadata": {},
   "outputs": [
    {
     "data": {
      "text/plain": [
       "2.2228949230736252e+41"
      ]
     },
     "execution_count": 15,
     "metadata": {},
     "output_type": "execute_result"
    }
   ],
   "source": [
    "G(r,x[1],x[0],v,l)"
   ]
  },
  {
   "cell_type": "code",
   "execution_count": 23,
   "metadata": {},
   "outputs": [
    {
     "data": {
      "text/plain": [
       "(<Figure size 640x480 with 1 Axes>, <AxesSubplot:>)"
      ]
     },
     "execution_count": 23,
     "metadata": {},
     "output_type": "execute_result"
    },
    {
     "data": {
      "application/vnd.jupyter.widget-view+json": {
       "model_id": "efaa956eed8f4308bf421abb8dbe7883",
       "version_major": 2,
       "version_minor": 0
      },
      "image/png": "[encoded data removed]",
      "text/html": [
       "\n",
       "            <div style=\"display: inline-block;\">\n",
       "                <div class=\"jupyter-widgets widget-label\" style=\"text-align: center;\">\n",
       "                    Figure\n",
       "                </div>\n",
       "                <img src='data:image/png;base64,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' width=640.0/>\n",
       "            </div>\n",
       "        "
      ],
      "text/plain": [
       "Canvas(toolbar=Toolbar(toolitems=[('Home', 'Reset original view', 'home', 'home'), ('Back', 'Back to previous …"
      ]
     },
     "metadata": {},
     "output_type": "display_data"
    }
   ],
   "source": [
    "plot_max(r,x[1],x[0],v,l,tol=1,Npts=100)"
   ]
  },
  {
   "cell_type": "code",
   "execution_count": 17,
   "metadata": {},
   "outputs": [
    {
     "data": {
      "application/vnd.jupyter.widget-view+json": {
       "model_id": "9fad4b77363b4f31b0d912bda4893ec3",
       "version_major": 2,
       "version_minor": 0
      },
      "text/plain": [
       "  0%|          | 0/6 [00:00<?, ?it/s]"
      ]
     },
     "metadata": {},
     "output_type": "display_data"
    },
    {
     "name": "stdout",
     "output_type": "stream",
     "text": [
      "Optimization terminated successfully.\n",
      "         Current function value: -1035433244729070714880.000000\n",
      "         Iterations: 149\n",
      "         Function evaluations: 298\n",
      "LKR: 1.035433244729071e+21 1.223000683572036e+42 1.897084079661445e+33 Pa\n",
      "Warning: Maximum number of function evaluations has been exceeded.\n",
      "LXE2: 3.338115230751185e+21 1.498500104061532e+43 2.469104431747659e+34 Pa\n",
      "Warning: Maximum number of function evaluations has been exceeded.\n",
      "LAR: 5.605964668510580e+21 2.120170930455843e+43 2.704434536450483e+34 Pa\n",
      "Warning: Maximum number of function evaluations has been exceeded.\n",
      "LXE: 3.263243694642383e+21 4.661755475070289e+44 7.369843839023042e+35 Pa\n",
      "Warning: Maximum number of function evaluations has been exceeded.\n",
      "LNE: 3.718161819329929e+21 1.543301417416718e+43 -2.952882931914618e+38 Pa\n",
      "Optimization terminated successfully.\n",
      "         Current function value: -2885754325825992785920.000000\n",
      "         Iterations: 138\n",
      "         Function evaluations: 276\n",
      "LHG: 2.885754325825993e+21 7.239821263681372e+45 2.029228309764696e+36 Pa\n"
     ]
    }
   ],
   "source": [
    "# Calculate the table\n",
    "\n",
    "# Pick a velocity\n",
    "r = 1e-2\n",
    "v = 0.5e8 #200*xe.sound_speed/xe.sound_speed\n",
    "\n",
    "# Calculate the table\n",
    "fmax, pressure, results = max_pressure_fluids(r,v,fluids,particles[0],E=E,G=G)"
   ]
  },
  {
   "cell_type": "code",
   "execution_count": 90,
   "metadata": {},
   "outputs": [
    {
     "name": "stdout",
     "output_type": "stream",
     "text": [
      "LKR 33.88578338544801\n",
      "LXE2 30.915523602651263\n",
      "LAR 38.77909289721283\n",
      "LXE 47.8767809813477\n",
      "LNE 44.64001972184644\n",
      "LHG 27.679491491613533\n"
     ]
    }
   ],
   "source": [
    "particles[0](0.5e8)\n",
    "for i in range(6):\n",
    "    print(fluids[i].name,fluids[i].max_energy(particles[0]))"
   ]
  },
  {
   "cell_type": "code",
   "execution_count": null,
   "metadata": {},
   "outputs": [],
   "source": []
  }
 ],
 "metadata": {
  "kernelspec": {
   "display_name": "Python 3.9.10 ('base')",
   "language": "python",
   "name": "python3"
  },
  "language_info": {
   "codemirror_mode": {
    "name": "ipython",
    "version": 3
   },
   "file_extension": ".py",
   "mimetype": "text/x-python",
   "name": "python",
   "nbconvert_exporter": "python",
   "pygments_lexer": "ipython3",
   "version": "3.9.10"
  },
  "orig_nbformat": 4,
  "vscode": {
   "interpreter": {
    "hash": "2c590989cbc5d68801de99185b63dc2942e752ded1269407ddc2b842a5d0fef0"
   }
  }
 },
 "nbformat": 4,
 "nbformat_minor": 2
}
