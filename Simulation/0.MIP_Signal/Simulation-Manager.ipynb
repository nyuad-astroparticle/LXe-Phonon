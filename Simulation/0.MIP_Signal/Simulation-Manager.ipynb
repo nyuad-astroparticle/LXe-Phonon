{
 "cells": [
  {
   "cell_type": "markdown",
   "metadata": {},
   "source": [
    "# MIP Simulation\n",
    "\n",
    "Here we calculate the sound created by minimum ionizing particles by using PyPhonon."
   ]
  },
  {
   "cell_type": "code",
   "execution_count": 11,
   "metadata": {},
   "outputs": [
    {
     "name": "stdout",
     "output_type": "stream",
     "text": [
      "\u001b[92mGPU Support Enabled\u001b[0m\n"
     ]
    }
   ],
   "source": [
    "# Import libraries\n",
    "import os\n",
    "from pyphonon import *\n",
    "import matplotlib.pyplot as plt\n",
    "from scipy.signal import chirp, find_peaks, peak_widths\n",
    "\n",
    "# Check for GPU support\n",
    "try:\n",
    "    import cupy as cp\n",
    "    import numpy as np\n",
    "    GPU = True\n",
    "    print(bcolors.OKGREEN+'GPU Support Enabled'+bcolors.ENDC)\n",
    "except ImportError:\n",
    "    import numpy as np\n",
    "    GPU = False\n",
    "    print(bcolors.WARNING+'Cupy Not available in your system. No GPU Support'+bcolors.ENDC)\n",
    "\n",
    "# Ignore large warnings\n",
    "import sys\n",
    "if not sys.warnoptions:\n",
    "    import warnings\n",
    "    warnings.simplefilter(\"ignore\")\n",
    "\n",
    "# Set some flags and environment variables\n",
    "data_dir     = './data/'\n",
    "fluid_dir    = 'fluids/'\n",
    "particle_dir = 'particles/'\n",
    "\n",
    "%matplotlib ipympl"
   ]
  },
  {
   "cell_type": "code",
   "execution_count": 2,
   "metadata": {},
   "outputs": [
    {
     "name": "stdout",
     "output_type": "stream",
     "text": [
      "\u001b[1mGenerating Estimator for order 0\u001b[0m\n",
      "Assembling the estimator using multiprocessing on 20 cores\n",
      "Permuations created successfully\n",
      "\tSend the fast data to the pool\n",
      "\t\u001b[94mFast:\u001b[0m 0, 0 \u001b[92mDone!\u001b[0m\n",
      "Pool closed Successfully\n",
      "recasting functions\n"
     ]
    },
    {
     "data": {
      "application/vnd.jupyter.widget-view+json": {
       "model_id": "0240dd72f3ab4178a0f7a1de9aea55e6",
       "version_major": 2,
       "version_minor": 0
      },
      "text/plain": [
       "  0%|          | 0/1 [00:00<?, ?it/s]"
      ]
     },
     "metadata": {},
     "output_type": "display_data"
    },
    {
     "name": "stdout",
     "output_type": "stream",
     "text": [
      "\u001b[1m\u001b[4mEstimator Generated Successfully\u001b[0m\n",
      "\u001b[1m\u001b[93mWARNING!\u001b[0m Since you are using GPU accelleration you need to check that your input satisfies these conditions z < v t and (z-v t)^2 > r^2 (v^2 - 1). Otherwise there will be errors\n"
     ]
    }
   ],
   "source": [
    "# Simulator parameters\n",
    "max_order   = 0\n",
    "n_cores     = 20\n",
    "slow        = False\n",
    "\n",
    "# Create estimator\n",
    "E = estimator(max_order=max_order,n_cores=n_cores,slow=slow,GPU=GPU)"
   ]
  },
  {
   "cell_type": "code",
   "execution_count": 3,
   "metadata": {},
   "outputs": [],
   "source": [
    "# Create some additional helper functions\n",
    "\n",
    "# Get the fast particle waves as a function of R\n",
    "def get_params(r:float,v:float,T = np.array([-.1,.1]),N_pts:int=10000,GPU=GPU):\n",
    "    g = 1/(v**2-1)**0.5\n",
    "    z = r*g\n",
    "    T = T - (r**2 + z**2)**0.5\n",
    "    if GPU: t = cp.linspace(*T,N_pts)\n",
    "    else: t = np.linspace(*T,N_pts)\n",
    "    \n",
    "    return r,z,t,v\n",
    "\n",
    "# Calculate the average peak and FWHM\n",
    "def get_peak(p,t,rel_height:float=0.8):\n",
    "    peaks,_ = find_peaks(abs(p))\n",
    "    results = peak_widths(abs(p),peaks,rel_height=rel_height)\n",
    "    if len(peaks) == 0:\n",
    "        return 0,0\n",
    "\n",
    "    # Calculate the average width\n",
    "    avg_width   = np.mean(results[0])*(t[1]-t[0])\n",
    "    peak        = np.max(p[peaks])\n",
    "\n",
    "    return peak,avg_width\n",
    "\n",
    "# For a range of distances find the maximum\n",
    "def sweep_r(R=np.linspace(0.1,100,100),v=3.0,l=2e-5,GPU=GPU):\n",
    "    # Empty array to store the maxima over all the R's\n",
    "    maxima  = []\n",
    "    FWHM    = []\n",
    "\n",
    "    # For each radius\n",
    "    for rr in tqdm(R,desc='Radius GPU: '+str(GPU),leave=False):\n",
    "        r,z,t,v = get_params(rr,v,T = np.array([-10.,10.])/v)\n",
    "        p = E(r,z,t,v,l)\n",
    "\n",
    "        # Calculate the peaks and FWHM\n",
    "        if GPU: peak, avg_width = get_peak(p.get(),t.get())\n",
    "        else: peak, avg_width = get_peak(p,t)\n",
    "\n",
    "        # Append them to the appropriate arrays\n",
    "        maxima.append(peak)\n",
    "        FWHM.append(avg_width)\n",
    "\n",
    "    return maxima,FWHM\n",
    "\n",
    "\n",
    "# Given an array of velocities and radii predict the maxima for the supersonic speed\n",
    "def get_width_max(V,R,l):\n",
    "    pressure_max = []\n",
    "    pressure_wid = []\n",
    "\n",
    "    # Now do this for a range of velocities\n",
    "    for v in tqdm(V,desc='Velocities'):\n",
    "        MAX,WID = sweep_r(R,v,l)\n",
    "        pressure_max.append(MAX)\n",
    "        pressure_wid.append(WID)\n",
    "        \n",
    "    # Return the pressure maxima and average width\n",
    "    return pressure_max,pressure_wid\n",
    "\n",
    "\n",
    "# Create a figure of these measurements\n",
    "def plot_pressure(V,R,pressure_max,pressure_wid):\n",
    "    fig = plt.figure(figsize=(10,8))\n",
    "    ax1 = fig.add_subplot(211)\n",
    "    ax2 = fig.add_subplot(212)\n",
    "\n",
    "    # Plot all the thingys\n",
    "    for v,pressure,width in zip(V,pressure_max,pressure_wid):\n",
    "        ax1.plot(R,pressure,label=r'$v=%.1f$'%(v))\n",
    "        ax2.plot(R,width,label=r'$v=%.1f$'%(v))\n",
    "\n",
    "    # Add a legend\n",
    "    ax1.legend(frameon=False)\n",
    "    ax1.set_yscale('log')\n",
    "    ax1.set_xscale('log')\n",
    "    ax2.legend(frameon=False)\n",
    "    ax2.set_yscale('log')\n",
    "    ax2.set_xscale('log')"
   ]
  },
  {
   "cell_type": "code",
   "execution_count": 4,
   "metadata": {},
   "outputs": [],
   "source": [
    "# Collect the fluids and particles from the directories\n",
    "fluid_files     = [data_dir+fluid_dir+f for f in os.listdir(data_dir+fluid_dir)]\n",
    "fluid_names     = [f.replace('.txt','') for f in os.listdir(data_dir+fluid_dir)]\n",
    "particle_files  = [data_dir+particle_dir+f for f in os.listdir(data_dir+particle_dir)]\n",
    "particle_names  = [f.replace('.txt','') for f in os.listdir(data_dir+particle_dir)]\n",
    "fluids          = [fluid(fname,name=n) for fname,n in zip(fluid_files,fluid_names)] \n",
    "particles       = [particle(fname,name=n) for fname,n in zip(particle_files,particle_names)]"
   ]
  },
  {
   "cell_type": "code",
   "execution_count": 5,
   "metadata": {},
   "outputs": [
    {
     "data": {
      "application/vnd.jupyter.widget-view+json": {
       "model_id": "e973b23f4db64ec39ab5e30f893cdf34",
       "version_major": 2,
       "version_minor": 0
      },
      "text/plain": [
       "Velocities:   0%|          | 0/3 [00:00<?, ?it/s]"
      ]
     },
     "metadata": {},
     "output_type": "display_data"
    },
    {
     "data": {
      "application/vnd.jupyter.widget-view+json": {
       "model_id": "200017bdcc964ac0990e7d2971ac117e",
       "version_major": 2,
       "version_minor": 0
      },
      "text/plain": [
       "Radius GPU: True:   0%|          | 0/100 [00:00<?, ?it/s]"
      ]
     },
     "metadata": {},
     "output_type": "display_data"
    },
    {
     "data": {
      "application/vnd.jupyter.widget-view+json": {
       "model_id": "49e0842ee8a544b7b0b2aa2cfa365315",
       "version_major": 2,
       "version_minor": 0
      },
      "text/plain": [
       "Radius GPU: True:   0%|          | 0/100 [00:00<?, ?it/s]"
      ]
     },
     "metadata": {},
     "output_type": "display_data"
    },
    {
     "data": {
      "application/vnd.jupyter.widget-view+json": {
       "model_id": "c9316c491b7c48cfa71bb1080281895e",
       "version_major": 2,
       "version_minor": 0
      },
      "text/plain": [
       "Radius GPU: True:   0%|          | 0/100 [00:00<?, ?it/s]"
      ]
     },
     "metadata": {},
     "output_type": "display_data"
    }
   ],
   "source": [
    "# Calculate \n",
    "V = np.linspace(0.6e8/fluids[0].sound_speed,0.8e8/fluids[0].sound_speed,3)\n",
    "R = 10**np.linspace(-4,0,100)\n",
    "\n",
    "pressure_max, pressure_wid = get_width_max(V,R,fluids[0].viscosity_coefficient()*fluids[0].sound_speed)"
   ]
  },
  {
   "cell_type": "code",
   "execution_count": 6,
   "metadata": {},
   "outputs": [
    {
     "data": {
      "image/png": "[encoded data removed]",
      "text/plain": [
       "<Figure size 720x576 with 2 Axes>"
      ]
     },
     "metadata": {
      "needs_background": "light"
     },
     "output_type": "display_data"
    }
   ],
   "source": [
    "# Plot them\n",
    "plot_pressure(V,R,pressure_max,pressure_wid)"
   ]
  },
  {
   "cell_type": "code",
   "execution_count": 7,
   "metadata": {
    "scrolled": false
   },
   "outputs": [
    {
     "data": {
      "application/vnd.jupyter.widget-view+json": {
       "model_id": "d2598bea8f834a88ba259020235b6352",
       "version_major": 2,
       "version_minor": 0
      },
      "text/plain": [
       "  0%|          | 0/10 [00:00<?, ?it/s]"
      ]
     },
     "metadata": {},
     "output_type": "display_data"
    },
    {
     "data": {
      "application/vnd.jupyter.widget-view+json": {
       "model_id": "9b7ff05a32c149ff995f50e7ea356b78",
       "version_major": 2,
       "version_minor": 0
      },
      "text/plain": [
       "  0%|          | 0/3 [00:00<?, ?it/s]"
      ]
     },
     "metadata": {},
     "output_type": "display_data"
    },
    {
     "name": "stdout",
     "output_type": "stream",
     "text": [
      "5.610603872855099e+27\n",
      "2.942164025673701e+26\n",
      "2.553117789369669e+29\n"
     ]
    },
    {
     "data": {
      "application/vnd.jupyter.widget-view+json": {
       "model_id": "b5fb3d22e2a24423a39bef26c8bc568b",
       "version_major": 2,
       "version_minor": 0
      },
      "text/plain": [
       "  0%|          | 0/3 [00:00<?, ?it/s]"
      ]
     },
     "metadata": {},
     "output_type": "display_data"
    },
    {
     "name": "stdout",
     "output_type": "stream",
     "text": [
      "2.8347652408211083e+27\n",
      "1.4750195746769683e+27\n",
      "7.054307594156099e+26\n"
     ]
    },
    {
     "data": {
      "application/vnd.jupyter.widget-view+json": {
       "model_id": "787b6732e52a4180831770d9fd87a775",
       "version_major": 2,
       "version_minor": 0
      },
      "text/plain": [
       "  0%|          | 0/3 [00:00<?, ?it/s]"
      ]
     },
     "metadata": {},
     "output_type": "display_data"
    },
    {
     "name": "stdout",
     "output_type": "stream",
     "text": [
      "2.114096173429822e+26\n",
      "8.30904785261814e+25\n",
      "3.6480239760761545e+27\n"
     ]
    },
    {
     "data": {
      "application/vnd.jupyter.widget-view+json": {
       "model_id": "6e26ea73841e419482c0585108d99207",
       "version_major": 2,
       "version_minor": 0
      },
      "text/plain": [
       "  0%|          | 0/3 [00:00<?, ?it/s]"
      ]
     },
     "metadata": {},
     "output_type": "display_data"
    },
    {
     "name": "stdout",
     "output_type": "stream",
     "text": [
      "2.1987879644189555e+25\n",
      "5.280015634403255e+25\n",
      "3.182665087216956e+26\n"
     ]
    },
    {
     "data": {
      "application/vnd.jupyter.widget-view+json": {
       "model_id": "88e7ee1b69fb40048c5c7e0c8d0f7e0e",
       "version_major": 2,
       "version_minor": 0
      },
      "text/plain": [
       "  0%|          | 0/3 [00:00<?, ?it/s]"
      ]
     },
     "metadata": {},
     "output_type": "display_data"
    },
    {
     "name": "stdout",
     "output_type": "stream",
     "text": [
      "1.8160444770455978e+26\n",
      "6.707710366254282e+24\n",
      "4.5995336190248406e+24\n"
     ]
    },
    {
     "data": {
      "application/vnd.jupyter.widget-view+json": {
       "model_id": "a5256c9baf824e39953a7d4269406774",
       "version_major": 2,
       "version_minor": 0
      },
      "text/plain": [
       "  0%|          | 0/3 [00:00<?, ?it/s]"
      ]
     },
     "metadata": {},
     "output_type": "display_data"
    },
    {
     "name": "stdout",
     "output_type": "stream",
     "text": [
      "3.3950252725049134e+24\n",
      "6.253792878187979e+23\n",
      "5.615563331108466e+23\n"
     ]
    },
    {
     "data": {
      "application/vnd.jupyter.widget-view+json": {
       "model_id": "f822e9e79b654ba1a2daa717c4f1bcac",
       "version_major": 2,
       "version_minor": 0
      },
      "text/plain": [
       "  0%|          | 0/3 [00:00<?, ?it/s]"
      ]
     },
     "metadata": {},
     "output_type": "display_data"
    },
    {
     "name": "stdout",
     "output_type": "stream",
     "text": [
      "5.861049620047602e+24\n",
      "1.6539361497846462e+23\n",
      "4.2833973453629885e+24\n"
     ]
    },
    {
     "data": {
      "application/vnd.jupyter.widget-view+json": {
       "model_id": "c3e2c728ba8e45cc8e3a8f05ef280bf2",
       "version_major": 2,
       "version_minor": 0
      },
      "text/plain": [
       "  0%|          | 0/3 [00:00<?, ?it/s]"
      ]
     },
     "metadata": {},
     "output_type": "display_data"
    },
    {
     "name": "stdout",
     "output_type": "stream",
     "text": [
      "5.289915403208888e+22\n",
      "3.974881984368662e+22\n",
      "1.2700233129535979e+23\n"
     ]
    },
    {
     "data": {
      "application/vnd.jupyter.widget-view+json": {
       "model_id": "e00dec3c39a2494fa3cd4f1a644cdd79",
       "version_major": 2,
       "version_minor": 0
      },
      "text/plain": [
       "  0%|          | 0/3 [00:00<?, ?it/s]"
      ]
     },
     "metadata": {},
     "output_type": "display_data"
    },
    {
     "name": "stdout",
     "output_type": "stream",
     "text": [
      "2.895031431623374e+22\n",
      "7.949083886171629e+21\n",
      "3.852856414670737e+23\n"
     ]
    },
    {
     "data": {
      "application/vnd.jupyter.widget-view+json": {
       "model_id": "9f7a8007743448728f638963f3418ec6",
       "version_major": 2,
       "version_minor": 0
      },
      "text/plain": [
       "  0%|          | 0/3 [00:00<?, ?it/s]"
      ]
     },
     "metadata": {},
     "output_type": "display_data"
    },
    {
     "name": "stdout",
     "output_type": "stream",
     "text": [
      "1.4166068293236708e+22\n",
      "2.6412994977416815e+23\n",
      "8.246869396431121e+21\n"
     ]
    },
    {
     "data": {
      "image/png": "[encoded data removed]",
      "text/plain": [
       "<Figure size 432x288 with 1 Axes>"
      ]
     },
     "metadata": {
      "needs_background": "light"
     },
     "output_type": "display_data"
    }
   ],
   "source": [
    "R = 10**np.linspace(-3,0,10)\n",
    "l = fluids[0].viscosity_coefficient()*fluids[0].sound_speed\n",
    "T = np.array([-1e-16,0])\n",
    "N_pts= 10000\n",
    "\n",
    "c=0\n",
    "for rr in tqdm(R):\n",
    "    for v in tqdm(V,leave=False):\n",
    "        r,z,t,v = get_params(rr,v,T=T,N_pts=N_pts)\n",
    "        p = E(r,z,t,v,l)\n",
    "        print(max(abs(p)))\n",
    "\n",
    "        plt.plot(np.linspace(*T,N_pts),p.get()+0.5*c)\n",
    "#         plt.ylim(0,20)\n",
    "        c+=1"
   ]
  },
  {
   "cell_type": "code",
   "execution_count": 8,
   "metadata": {
    "scrolled": false
   },
   "outputs": [
    {
     "data": {
      "text/plain": [
       "[[0,\n",
       "  0,\n",
       "  0,\n",
       "  0,\n",
       "  0,\n",
       "  0,\n",
       "  0,\n",
       "  0,\n",
       "  0,\n",
       "  0,\n",
       "  0,\n",
       "  0,\n",
       "  0,\n",
       "  0,\n",
       "  0,\n",
       "  0,\n",
       "  0,\n",
       "  0,\n",
       "  0,\n",
       "  0,\n",
       "  0,\n",
       "  0,\n",
       "  0,\n",
       "  0,\n",
       "  0,\n",
       "  0,\n",
       "  0,\n",
       "  0,\n",
       "  0,\n",
       "  0,\n",
       "  0,\n",
       "  0,\n",
       "  0,\n",
       "  0,\n",
       "  0,\n",
       "  0,\n",
       "  0,\n",
       "  0,\n",
       "  0,\n",
       "  0,\n",
       "  0,\n",
       "  0,\n",
       "  0,\n",
       "  0,\n",
       "  0,\n",
       "  0,\n",
       "  0,\n",
       "  0,\n",
       "  0,\n",
       "  0,\n",
       "  0,\n",
       "  0,\n",
       "  0,\n",
       "  0,\n",
       "  0,\n",
       "  0,\n",
       "  0,\n",
       "  0,\n",
       "  0,\n",
       "  0,\n",
       "  0,\n",
       "  0,\n",
       "  0,\n",
       "  0,\n",
       "  0,\n",
       "  0,\n",
       "  0,\n",
       "  0,\n",
       "  0,\n",
       "  0,\n",
       "  0,\n",
       "  0,\n",
       "  0,\n",
       "  0,\n",
       "  0,\n",
       "  0,\n",
       "  0,\n",
       "  0,\n",
       "  0,\n",
       "  0,\n",
       "  0,\n",
       "  0,\n",
       "  0,\n",
       "  0,\n",
       "  0,\n",
       "  0,\n",
       "  0,\n",
       "  0,\n",
       "  0,\n",
       "  0,\n",
       "  0,\n",
       "  0,\n",
       "  0,\n",
       "  0,\n",
       "  0,\n",
       "  0,\n",
       "  0,\n",
       "  0,\n",
       "  0,\n",
       "  0],\n",
       " [0,\n",
       "  0,\n",
       "  0,\n",
       "  0,\n",
       "  0,\n",
       "  0,\n",
       "  0,\n",
       "  0,\n",
       "  0,\n",
       "  0,\n",
       "  0,\n",
       "  0,\n",
       "  0,\n",
       "  0,\n",
       "  0,\n",
       "  0,\n",
       "  0,\n",
       "  0,\n",
       "  0,\n",
       "  0,\n",
       "  0,\n",
       "  0,\n",
       "  0,\n",
       "  0,\n",
       "  0,\n",
       "  0,\n",
       "  0,\n",
       "  0,\n",
       "  0,\n",
       "  0,\n",
       "  0,\n",
       "  0,\n",
       "  0,\n",
       "  0,\n",
       "  0,\n",
       "  0,\n",
       "  0,\n",
       "  0,\n",
       "  0,\n",
       "  0,\n",
       "  0,\n",
       "  0,\n",
       "  0,\n",
       "  0,\n",
       "  0,\n",
       "  0,\n",
       "  0,\n",
       "  0,\n",
       "  0,\n",
       "  0,\n",
       "  0,\n",
       "  0,\n",
       "  0,\n",
       "  0,\n",
       "  0,\n",
       "  0,\n",
       "  0,\n",
       "  0,\n",
       "  0,\n",
       "  0,\n",
       "  0,\n",
       "  0,\n",
       "  0,\n",
       "  0,\n",
       "  0,\n",
       "  0,\n",
       "  0,\n",
       "  0,\n",
       "  0,\n",
       "  0,\n",
       "  0,\n",
       "  0,\n",
       "  0,\n",
       "  0,\n",
       "  0,\n",
       "  0,\n",
       "  0,\n",
       "  0,\n",
       "  0,\n",
       "  0,\n",
       "  0,\n",
       "  0,\n",
       "  0,\n",
       "  0,\n",
       "  0,\n",
       "  0,\n",
       "  0,\n",
       "  0,\n",
       "  0,\n",
       "  0,\n",
       "  0,\n",
       "  0,\n",
       "  0,\n",
       "  0,\n",
       "  0,\n",
       "  0,\n",
       "  0,\n",
       "  0,\n",
       "  0,\n",
       "  0],\n",
       " [0,\n",
       "  0,\n",
       "  0,\n",
       "  0,\n",
       "  0,\n",
       "  0,\n",
       "  0,\n",
       "  0,\n",
       "  0,\n",
       "  0,\n",
       "  0,\n",
       "  0,\n",
       "  0,\n",
       "  0,\n",
       "  0,\n",
       "  0,\n",
       "  0,\n",
       "  0,\n",
       "  0,\n",
       "  0,\n",
       "  0,\n",
       "  0,\n",
       "  0,\n",
       "  0,\n",
       "  0,\n",
       "  0,\n",
       "  0,\n",
       "  0,\n",
       "  0,\n",
       "  0,\n",
       "  0,\n",
       "  0,\n",
       "  0,\n",
       "  0,\n",
       "  0,\n",
       "  0,\n",
       "  0,\n",
       "  0,\n",
       "  0,\n",
       "  0,\n",
       "  0,\n",
       "  0,\n",
       "  0,\n",
       "  0,\n",
       "  0,\n",
       "  0,\n",
       "  0,\n",
       "  0,\n",
       "  0,\n",
       "  0,\n",
       "  0,\n",
       "  0,\n",
       "  0,\n",
       "  0,\n",
       "  0,\n",
       "  0,\n",
       "  0,\n",
       "  0,\n",
       "  0,\n",
       "  0,\n",
       "  0,\n",
       "  0,\n",
       "  0,\n",
       "  0,\n",
       "  0,\n",
       "  0,\n",
       "  0,\n",
       "  0,\n",
       "  0,\n",
       "  0,\n",
       "  0,\n",
       "  0,\n",
       "  0,\n",
       "  0,\n",
       "  0,\n",
       "  0,\n",
       "  0,\n",
       "  0,\n",
       "  0,\n",
       "  0,\n",
       "  0,\n",
       "  0,\n",
       "  0,\n",
       "  0,\n",
       "  0,\n",
       "  0,\n",
       "  0,\n",
       "  0,\n",
       "  0,\n",
       "  0,\n",
       "  0,\n",
       "  0,\n",
       "  0,\n",
       "  0,\n",
       "  0,\n",
       "  0,\n",
       "  0,\n",
       "  0,\n",
       "  0,\n",
       "  0]]"
      ]
     },
     "execution_count": 8,
     "metadata": {},
     "output_type": "execute_result"
    }
   ],
   "source": [
    "# %matplotlib notebook\n",
    "pressure_max"
   ]
  },
  {
   "cell_type": "code",
   "execution_count": 69,
   "metadata": {},
   "outputs": [
    {
     "name": "stdout",
     "output_type": "stream",
     "text": [
      "True\n",
      "True\n"
     ]
    },
    {
     "data": {
      "application/vnd.jupyter.widget-view+json": {
       "model_id": "a4314028e6494e8bb97f2ee22236eef0",
       "version_major": 2,
       "version_minor": 0
      },
      "image/png": "[encoded data removed]",
      "text/html": [
       "\n",
       "            <div style=\"display: inline-block;\">\n",
       "                <div class=\"jupyter-widgets widget-label\" style=\"text-align: center;\">\n",
       "                    Figure\n",
       "                </div>\n",
       "                <img src='data:image/png;base64,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' width=640.0/>\n",
       "            </div>\n",
       "        "
      ],
      "text/plain": [
       "Canvas(toolbar=Toolbar(toolitems=[('Home', 'Reset original view', 'home', 'home'), ('Back', 'Back to previous …"
      ]
     },
     "metadata": {},
     "output_type": "display_data"
    }
   ],
   "source": [
    "# Parameters\n",
    "v = 4\n",
    "l = 0\n",
    "r = 70\n",
    "t = r + cp.linspace(0,2.5,100000)\n",
    "z = +cp.sqrt(-r**2/(1-v**2))\n",
    "\n",
    "# Check conditions\n",
    "A = z.get()*np.ones(len(t)) < v * t.get()\n",
    "B = (abs(z - v*t) - r*cp.sqrt(v**2 - 1) > 0).get()\n",
    "print(np.all(A))\n",
    "print(np.any(B))\n",
    "\n",
    "fig = plt.figure()\n",
    "plt.plot(t.get(),E(r,z,t,v,l).get()*A*B)\n",
    "plt.plot(t.get(),B*A*1)\n",
    "plt.show()"
   ]
  },
  {
   "cell_type": "code",
   "execution_count": null,
   "metadata": {},
   "outputs": [],
   "source": []
  },
  {
   "cell_type": "code",
   "execution_count": null,
   "metadata": {},
   "outputs": [],
   "source": []
  }
 ],
 "metadata": {
  "kernelspec": {
   "display_name": "Python 3.9.7 ('base')",
   "language": "python",
   "name": "python3"
  },
  "language_info": {
   "codemirror_mode": {
    "name": "ipython",
    "version": 3
   },
   "file_extension": ".py",
   "mimetype": "text/x-python",
   "name": "python",
   "nbconvert_exporter": "python",
   "pygments_lexer": "ipython3",
   "version": "3.9.7"
  },
  "vscode": {
   "interpreter": {
    "hash": "3d597f4c481aa0f25dceb95d2a0067e73c0966dcbd003d741d821a7208527ecf"
   }
  }
 },
 "nbformat": 4,
 "nbformat_minor": 2
}
