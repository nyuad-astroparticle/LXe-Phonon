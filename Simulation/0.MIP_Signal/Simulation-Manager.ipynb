{
 "cells": [
  {
   "cell_type": "markdown",
   "metadata": {},
   "source": [
    "# MIP Simulation\n",
    "\n",
    "Here we calculate the sound created by minimum ionizing particles by using PyPhonon."
   ]
  },
  {
   "cell_type": "code",
   "execution_count": 1,
   "metadata": {},
   "outputs": [
    {
     "name": "stdout",
     "output_type": "stream",
     "text": [
      "\u001b[92mGPU Support Enabled\u001b[0m\n"
     ]
    }
   ],
   "source": [
    "# Import libraries\n",
    "import os\n",
    "from pyphonon import *\n",
    "import matplotlib.pyplot as plt\n",
    "from scipy.signal import chirp, find_peaks, peak_widths\n",
    "\n",
    "# Check for GPU support\n",
    "try:\n",
    "    import cupy as cp\n",
    "    import numpy as np\n",
    "    GPU = True\n",
    "    print(bcolors.OKGREEN+'GPU Support Enabled'+bcolors.ENDC)\n",
    "except ImportError:\n",
    "    import numpy as np\n",
    "    GPU = False\n",
    "    print(bcolors.WARNING+'Cupy Not available in your system. No GPU Support'+bcolors.ENDC)\n",
    "\n",
    "# Ignore large warnings\n",
    "import sys\n",
    "if not sys.warnoptions:\n",
    "    import warnings\n",
    "    warnings.simplefilter(\"ignore\")\n",
    "\n",
    "# Set some flags and environment variables\n",
    "data_dir     = './data/'\n",
    "fluid_dir    = 'fluids/'\n",
    "particle_dir = 'particles/'"
   ]
  },
  {
   "cell_type": "code",
   "execution_count": 2,
   "metadata": {},
   "outputs": [
    {
     "name": "stdout",
     "output_type": "stream",
     "text": [
      "\u001b[1mGenerating Estimator for order 0\u001b[0m\n",
      "Assembling the estimator using multiprocessing on 10 cores\n",
      "Permuations created successfully\n",
      "\tSend the fast data to the pool\n",
      "\t\u001b[94mFast:\u001b[0m 0, 0 \u001b[92mDone!\u001b[0m\n",
      "Pool closed Successfully\n",
      "recasting functions\n"
     ]
    },
    {
     "data": {
      "application/vnd.jupyter.widget-view+json": {
       "model_id": "54535a0910bd4d91bdc83bc0f0ce4342",
       "version_major": 2,
       "version_minor": 0
      },
      "text/plain": [
       "  0%|          | 0/1 [00:00<?, ?it/s]"
      ]
     },
     "metadata": {},
     "output_type": "display_data"
    },
    {
     "name": "stdout",
     "output_type": "stream",
     "text": [
      "\u001b[1m\u001b[4mEstimator Generated Successfully\u001b[0m\n",
      "\u001b[1m\u001b[93mWARNING!\u001b[0m Since you are using GPU accelleration you need to check that your input satisfies these conditions z < v t and (z-v t)^2 > r^2 (v^2 - 1). Otherwise there will be errors\n"
     ]
    }
   ],
   "source": [
    "# Simulator parameters\n",
    "max_order   = 0\n",
    "n_cores     = 10\n",
    "slow        = False\n",
    "\n",
    "# Create estimator\n",
    "E = estimator(max_order=max_order,n_cores=n_cores,slow=slow,GPU=GPU)"
   ]
  },
  {
   "cell_type": "code",
   "execution_count": 3,
   "metadata": {},
   "outputs": [],
   "source": [
    "# Create some additional helper functions\n",
    "\n",
    "# Get the fast particle waves as a function of R\n",
    "def get_params(r:float,v:float,T = np.array([-1.,40.]),N_pts:int=500,GPU=GPU):\n",
    "    g = 1/(v**2-1)**0.5\n",
    "    T = T + v * r\n",
    "    z = r/g\n",
    "    if GPU: t = cp.linspace(*T,N_pts)\n",
    "    else:\n",
    "        t = np.linspace(*T,N_pts)\n",
    "    \n",
    "    return r,z,t,v\n",
    "\n",
    "# Calculate the average peak and FWHM\n",
    "def get_peak(p,t,rel_height:float=0.8):\n",
    "    peaks,_ = find_peaks(abs(p))\n",
    "    results = peak_widths(abs(p),peaks,rel_height=rel_height)\n",
    "    if len(peaks) == 0:\n",
    "        return 0,0\n",
    "\n",
    "    # Calculate the average width\n",
    "    avg_width   = np.mean(results[0])*(t[1]-t[0])\n",
    "    peak        = np.max(p[peaks])\n",
    "\n",
    "    return peak,avg_width\n",
    "\n",
    "# For a range of distances find the maximum\n",
    "def sweep_r(R=np.linspace(0.1,100,100),v=3.0,l=2e-5,GPU=GPU):\n",
    "    # Empty array to store the maxima over all the R's\n",
    "    maxima  = []\n",
    "    FWHM    = []\n",
    "\n",
    "    # For each radius\n",
    "    for rr in tqdm(R,desc='Radius GPU: '+str(GPU),leave=False):\n",
    "        r,z,t,v = get_params(rr,v)\n",
    "        p = E(r,z,t,v,l)\n",
    "\n",
    "        # Calculate the peaks and FWHM\n",
    "        if GPU: peak, avg_width = get_peak(p.get(),t.get())\n",
    "        else: peak, avg_width = get_peak(p,t)\n",
    "\n",
    "        # Append them to the appropriate arrays\n",
    "        maxima.append(peak)\n",
    "        FWHM.append(avg_width)\n",
    "\n",
    "    return maxima,FWHM\n",
    "\n",
    "\n",
    "# Given an array of velocities and radii predict the maxima for the supersonic speed\n",
    "def get_width_max(V,R,l):\n",
    "    pressure_max = []\n",
    "    pressure_wid = []\n",
    "\n",
    "    # Now do this for a range of velocities\n",
    "    for v in tqdm(V,desc='Velocities'):\n",
    "        MAX,WID = sweep_r(R,v,l)\n",
    "        pressure_max.append(MAX)\n",
    "        pressure_wid.append(WID)\n",
    "        \n",
    "    # Return the pressure maxima and average width\n",
    "    return pressure_max,pressure_wid\n",
    "\n",
    "\n",
    "# Create a figure of these measurements\n",
    "def plot_pressure(V,R,pressure_max,pressure_wid):\n",
    "    fig = plt.figure(figsize=(10,8))\n",
    "    ax1 = fig.add_subplot(211)\n",
    "    ax2 = fig.add_subplot(212)\n",
    "\n",
    "    # Plot all the thingys\n",
    "    for v,pressure,width in zip(V,pressure_max,pressure_wid):\n",
    "        ax1.plot(R,pressure,label=r'$v=%.1f$'%(v))\n",
    "        ax2.plot(R,width,label=r'$v=%.1f$'%(v))\n",
    "\n",
    "    # Add a legend\n",
    "    ax1.legend(frameon=False)\n",
    "    ax1.set_yscale('log')\n",
    "    ax2.legend(frameon=False)\n",
    "    ax2.set_yscale('log')"
   ]
  },
  {
   "cell_type": "code",
   "execution_count": 4,
   "metadata": {},
   "outputs": [],
   "source": [
    "# Collect the fluids and particles from the directories\n",
    "fluid_files     = [data_dir+fluid_dir+f for f in os.listdir(data_dir+fluid_dir)]\n",
    "fluid_names     = [f.replace('.txt','') for f in os.listdir(data_dir+fluid_dir)]\n",
    "particle_files  = [data_dir+particle_dir+f for f in os.listdir(data_dir+particle_dir)]\n",
    "particle_names  = [f.replace('.txt','') for f in os.listdir(data_dir+particle_dir)]\n",
    "fluids          = [fluid(fname,name=n) for fname,n in zip(fluid_files,fluid_names)] \n",
    "particles       = [particle(fname,name=n) for fname,n in zip(particle_files,particle_names)]"
   ]
  },
  {
   "cell_type": "code",
   "execution_count": 5,
   "metadata": {},
   "outputs": [
    {
     "data": {
      "application/vnd.jupyter.widget-view+json": {
       "model_id": "c79b476ada2a4676b6e320d274518a63",
       "version_major": 2,
       "version_minor": 0
      },
      "text/plain": [
       "Velocities:   0%|          | 0/3 [00:00<?, ?it/s]"
      ]
     },
     "metadata": {},
     "output_type": "display_data"
    },
    {
     "data": {
      "application/vnd.jupyter.widget-view+json": {
       "model_id": "",
       "version_major": 2,
       "version_minor": 0
      },
      "text/plain": [
       "Radius GPU: True:   0%|          | 0/100 [00:00<?, ?it/s]"
      ]
     },
     "metadata": {},
     "output_type": "display_data"
    },
    {
     "data": {
      "application/vnd.jupyter.widget-view+json": {
       "model_id": "",
       "version_major": 2,
       "version_minor": 0
      },
      "text/plain": [
       "Radius GPU: True:   0%|          | 0/100 [00:00<?, ?it/s]"
      ]
     },
     "metadata": {},
     "output_type": "display_data"
    },
    {
     "data": {
      "application/vnd.jupyter.widget-view+json": {
       "model_id": "",
       "version_major": 2,
       "version_minor": 0
      },
      "text/plain": [
       "Radius GPU: True:   0%|          | 0/100 [00:00<?, ?it/s]"
      ]
     },
     "metadata": {},
     "output_type": "display_data"
    }
   ],
   "source": [
    "# Calculate \n",
    "V = np.linspace(3,10,3)\n",
    "R = np.linspace(0.1,100,100)\n",
    "\n",
    "pressure_max, pressure_wid = get_width_max(V,R,fluids[0].viscosity_coefficient())"
   ]
  },
  {
   "cell_type": "code",
   "execution_count": 6,
   "metadata": {},
   "outputs": [
    {
     "data": {
      "image/png": "[encoded data removed]",
      "text/plain": [
       "<Figure size 720x576 with 2 Axes>"
      ]
     },
     "metadata": {
      "needs_background": "light"
     },
     "output_type": "display_data"
    }
   ],
   "source": [
    "# Plot them\n",
    "plot_pressure(V,R,pressure_max,pressure_wid)"
   ]
  },
  {
   "cell_type": "code",
   "execution_count": 14,
   "metadata": {},
   "outputs": [
    {
     "data": {
      "text/plain": [
       "1.530919168327308"
      ]
     },
     "execution_count": 14,
     "metadata": {},
     "output_type": "execute_result"
    }
   ],
   "source": [
    "fluids[0].max_energy(particles[0],x=1e-1)"
   ]
  },
  {
   "cell_type": "code",
   "execution_count": 15,
   "metadata": {},
   "outputs": [
    {
     "data": {
      "text/plain": [
       "[<matplotlib.lines.Line2D at 0x7feba841e5e0>]"
      ]
     },
     "execution_count": 15,
     "metadata": {},
     "output_type": "execute_result"
    },
    {
     "data": {
      "image/png": "[encoded data removed]",
      "text/plain": [
       "<Figure size 432x288 with 1 Axes>"
      ]
     },
     "metadata": {
      "needs_background": "light"
     },
     "output_type": "display_data"
    }
   ],
   "source": [
    "x = np.linspace(1e-1,100e-1,100)\n",
    "plt.plot(x,fluids[0].max_energy(particles[0],x=x))"
   ]
  },
  {
   "cell_type": "code",
   "execution_count": null,
   "metadata": {},
   "outputs": [],
   "source": []
  }
 ],
 "metadata": {
  "interpreter": {
   "hash": "2c590989cbc5d68801de99185b63dc2942e752ded1269407ddc2b842a5d0fef0"
  },
  "kernelspec": {
   "display_name": "Python 3",
   "language": "python",
   "name": "python3"
  },
  "language_info": {
   "codemirror_mode": {
    "name": "ipython",
    "version": 3
   },
   "file_extension": ".py",
   "mimetype": "text/x-python",
   "name": "python",
   "nbconvert_exporter": "python",
   "pygments_lexer": "ipython3",
   "version": "3.9.7"
  }
 },
 "nbformat": 4,
 "nbformat_minor": 2
}
