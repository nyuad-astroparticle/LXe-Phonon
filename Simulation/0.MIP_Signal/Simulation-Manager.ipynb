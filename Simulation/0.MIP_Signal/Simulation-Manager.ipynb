{
 "cells": [
  {
   "cell_type": "markdown",
   "metadata": {},
   "source": [
    "# MIP Simulation\n",
    "\n",
    "Here we calculate the sound created by minimum ionizing particles by using PyPhonon."
   ]
  },
  {
   "cell_type": "code",
   "execution_count": 1,
   "metadata": {},
   "outputs": [
    {
     "name": "stdout",
     "output_type": "stream",
     "text": [
      "CUDA GPU Acceleration is unavailable for your system : (\n",
      "\u001b[93mCupy Not available in your system. No GPU Support\u001b[0m\n"
     ]
    }
   ],
   "source": [
    "# Import libraries\n",
    "import os\n",
    "from pyphonon import *\n",
    "import matplotlib.pyplot as plt\n",
    "from scipy.signal import chirp, find_peaks, peak_widths\n",
    "\n",
    "# Check for GPU support\n",
    "try:\n",
    "    import cupy as cp\n",
    "    import numpy as np\n",
    "    GPU = True\n",
    "    print(bcolors.OKGREEN+'GPU Support Enabled'+bcolors.ENDC)\n",
    "except ImportError:\n",
    "    import numpy as np\n",
    "    GPU = False\n",
    "    print(bcolors.WARNING+'Cupy Not available in your system. No GPU Support'+bcolors.ENDC)\n",
    "\n",
    "# Ignore large warnings\n",
    "import sys\n",
    "if not sys.warnoptions:\n",
    "    import warnings\n",
    "    warnings.simplefilter(\"ignore\")\n",
    "\n",
    "# Set some flags and environment variables\n",
    "data_dir     = './data/'\n",
    "fluid_dir    = 'fluids/'\n",
    "particle_dir = 'particles/'\n",
    "\n",
    "%matplotlib ipympl"
   ]
  },
  {
   "cell_type": "code",
   "execution_count": 6,
   "metadata": {},
   "outputs": [
    {
     "name": "stdout",
     "output_type": "stream",
     "text": [
      "\u001b[1mGenerating Estimator for order 0\u001b[0m\n",
      "Assembling the estimator using multiprocessing on 20 cores\n",
      "Permuations created successfully\n",
      "\tSend the fast data to the pool\n",
      "CUDA GPU Acceleration is unavailable for your system : (\n",
      "\t\u001b[94mFast:\u001b[0m 0, 0 \u001b[92mDone!\u001b[0m\n",
      "Pool closed Successfully\n",
      "recasting functions\n"
     ]
    },
    {
     "data": {
      "application/vnd.jupyter.widget-view+json": {
       "model_id": "0daf9a3e4db549e1a06c29693b82e035",
       "version_major": 2,
       "version_minor": 0
      },
      "text/plain": [
       "  0%|          | 0/1 [00:00<?, ?it/s]"
      ]
     },
     "metadata": {},
     "output_type": "display_data"
    },
    {
     "name": "stdout",
     "output_type": "stream",
     "text": [
      "\u001b[1m\u001b[4mEstimator Generated Successfully\u001b[0m\n"
     ]
    }
   ],
   "source": [
    "# Simulator parameters\n",
    "max_order   = 0\n",
    "n_cores     = 20\n",
    "slow        = False\n",
    "\n",
    "# Create estimator\n",
    "E = estimator(max_order=max_order,n_cores=n_cores,slow=slow,GPU=GPU)"
   ]
  },
  {
   "cell_type": "code",
   "execution_count": 7,
   "metadata": {},
   "outputs": [],
   "source": [
    "# Create some additional helper functions\n",
    "\n",
    "# Get the fast particle waves as a function of R\n",
    "def get_params(r:float,v:float,T = np.array([-.1,.1]),N_pts:int=10000,GPU=GPU):\n",
    "    g = 1/(v**2-1)**0.5\n",
    "    z = r*g\n",
    "    T = T - (r**2 + z**2)**0.5\n",
    "    if GPU: t = cp.linspace(*T,N_pts)\n",
    "    else: t = np.linspace(*T,N_pts)\n",
    "    \n",
    "    return r,z,t,v\n",
    "\n",
    "# Calculate the average peak and FWHM\n",
    "def get_peak(p,t,rel_height:float=0.8):\n",
    "    peaks,_ = find_peaks(abs(p))\n",
    "    results = peak_widths(abs(p),peaks,rel_height=rel_height)\n",
    "    if len(peaks) == 0:\n",
    "        return 0,0\n",
    "\n",
    "    # Calculate the average width\n",
    "    avg_width   = np.mean(results[0])*(t[1]-t[0])\n",
    "    peak        = np.max(p[peaks])\n",
    "\n",
    "    return peak,avg_width\n",
    "\n",
    "# For a range of distances find the maximum\n",
    "def sweep_r(R=np.linspace(0.1,100,100),v=3.0,l=2e-5,GPU=GPU):\n",
    "    # Empty array to store the maxima over all the R's\n",
    "    maxima  = []\n",
    "    FWHM    = []\n",
    "\n",
    "    # For each radius\n",
    "    for rr in tqdm(R,desc='Radius GPU: '+str(GPU),leave=False):\n",
    "        r,z,t,v = get_params(rr,v,T = np.array([-10.,10.])/v)\n",
    "        p = E(r,z,t,v,l)\n",
    "\n",
    "        # Calculate the peaks and FWHM\n",
    "        if GPU: peak, avg_width = get_peak(p.get(),t.get())\n",
    "        else: peak, avg_width = get_peak(p,t)\n",
    "\n",
    "        # Append them to the appropriate arrays\n",
    "        maxima.append(peak)\n",
    "        FWHM.append(avg_width)\n",
    "\n",
    "    return maxima,FWHM\n",
    "\n",
    "\n",
    "# Given an array of velocities and radii predict the maxima for the supersonic speed\n",
    "def get_width_max(V,R,l):\n",
    "    pressure_max = []\n",
    "    pressure_wid = []\n",
    "\n",
    "    # Now do this for a range of velocities\n",
    "    for v in tqdm(V,desc='Velocities'):\n",
    "        MAX,WID = sweep_r(R,v,l)\n",
    "        pressure_max.append(MAX)\n",
    "        pressure_wid.append(WID)\n",
    "        \n",
    "    # Return the pressure maxima and average width\n",
    "    return pressure_max,pressure_wid\n",
    "\n",
    "\n",
    "# Create a figure of these measurements\n",
    "def plot_pressure(V,R,pressure_max,pressure_wid):\n",
    "    fig = plt.figure(figsize=(10,8))\n",
    "    ax1 = fig.add_subplot(211)\n",
    "    ax2 = fig.add_subplot(212)\n",
    "\n",
    "    # Plot all the thingys\n",
    "    for v,pressure,width in zip(V,pressure_max,pressure_wid):\n",
    "        ax1.plot(R,pressure,label=r'$v=%.1f$'%(v))\n",
    "        ax2.plot(R,width,label=r'$v=%.1f$'%(v))\n",
    "\n",
    "    # Add a legend\n",
    "    ax1.legend(frameon=False)\n",
    "    ax1.set_yscale('log')\n",
    "    ax1.set_xscale('log')\n",
    "    ax2.legend(frameon=False)\n",
    "    ax2.set_yscale('log')\n",
    "    ax2.set_xscale('log')"
   ]
  },
  {
   "cell_type": "code",
   "execution_count": 8,
   "metadata": {},
   "outputs": [
    {
     "ename": "ValueError",
     "evalue": "could not convert string to float: \"\\t? (Can't find it! I only found values for the gas state.)\"",
     "output_type": "error",
     "traceback": [
      "\u001b[0;31m---------------------------------------------------------------------------\u001b[0m",
      "\u001b[0;31mValueError\u001b[0m                                Traceback (most recent call last)",
      "\u001b[1;32m/Users/panos/Documents/NYU/1. Courses/Capstone/Phonon Dark Matter/LXe-Phonon/Simulation/0.MIP_Signal/Simulation-Manager.ipynb Cell 5'\u001b[0m in \u001b[0;36m<cell line: 6>\u001b[0;34m()\u001b[0m\n\u001b[1;32m      <a href='vscode-notebook-cell:/Users/panos/Documents/NYU/1.%20Courses/Capstone/Phonon%20Dark%20Matter/LXe-Phonon/Simulation/0.MIP_Signal/Simulation-Manager.ipynb#ch0000004?line=3'>4</a>\u001b[0m particle_files  \u001b[39m=\u001b[39m [data_dir\u001b[39m+\u001b[39mparticle_dir\u001b[39m+\u001b[39mf \u001b[39mfor\u001b[39;00m f \u001b[39min\u001b[39;00m os\u001b[39m.\u001b[39mlistdir(data_dir\u001b[39m+\u001b[39mparticle_dir)]\n\u001b[1;32m      <a href='vscode-notebook-cell:/Users/panos/Documents/NYU/1.%20Courses/Capstone/Phonon%20Dark%20Matter/LXe-Phonon/Simulation/0.MIP_Signal/Simulation-Manager.ipynb#ch0000004?line=4'>5</a>\u001b[0m particle_names  \u001b[39m=\u001b[39m [f\u001b[39m.\u001b[39mreplace(\u001b[39m'\u001b[39m\u001b[39m.txt\u001b[39m\u001b[39m'\u001b[39m,\u001b[39m'\u001b[39m\u001b[39m'\u001b[39m) \u001b[39mfor\u001b[39;00m f \u001b[39min\u001b[39;00m os\u001b[39m.\u001b[39mlistdir(data_dir\u001b[39m+\u001b[39mparticle_dir)]\n\u001b[0;32m----> <a href='vscode-notebook-cell:/Users/panos/Documents/NYU/1.%20Courses/Capstone/Phonon%20Dark%20Matter/LXe-Phonon/Simulation/0.MIP_Signal/Simulation-Manager.ipynb#ch0000004?line=5'>6</a>\u001b[0m fluids          \u001b[39m=\u001b[39m [fluid(fname,name\u001b[39m=\u001b[39mn) \u001b[39mfor\u001b[39;00m fname,n \u001b[39min\u001b[39;00m \u001b[39mzip\u001b[39m(fluid_files,fluid_names)] \n\u001b[1;32m      <a href='vscode-notebook-cell:/Users/panos/Documents/NYU/1.%20Courses/Capstone/Phonon%20Dark%20Matter/LXe-Phonon/Simulation/0.MIP_Signal/Simulation-Manager.ipynb#ch0000004?line=6'>7</a>\u001b[0m particles       \u001b[39m=\u001b[39m [particle(fname,name\u001b[39m=\u001b[39mn) \u001b[39mfor\u001b[39;00m fname,n \u001b[39min\u001b[39;00m \u001b[39mzip\u001b[39m(particle_files,particle_names)]\n",
      "\u001b[1;32m/Users/panos/Documents/NYU/1. Courses/Capstone/Phonon Dark Matter/LXe-Phonon/Simulation/0.MIP_Signal/Simulation-Manager.ipynb Cell 5'\u001b[0m in \u001b[0;36m<listcomp>\u001b[0;34m(.0)\u001b[0m\n\u001b[1;32m      <a href='vscode-notebook-cell:/Users/panos/Documents/NYU/1.%20Courses/Capstone/Phonon%20Dark%20Matter/LXe-Phonon/Simulation/0.MIP_Signal/Simulation-Manager.ipynb#ch0000004?line=3'>4</a>\u001b[0m particle_files  \u001b[39m=\u001b[39m [data_dir\u001b[39m+\u001b[39mparticle_dir\u001b[39m+\u001b[39mf \u001b[39mfor\u001b[39;00m f \u001b[39min\u001b[39;00m os\u001b[39m.\u001b[39mlistdir(data_dir\u001b[39m+\u001b[39mparticle_dir)]\n\u001b[1;32m      <a href='vscode-notebook-cell:/Users/panos/Documents/NYU/1.%20Courses/Capstone/Phonon%20Dark%20Matter/LXe-Phonon/Simulation/0.MIP_Signal/Simulation-Manager.ipynb#ch0000004?line=4'>5</a>\u001b[0m particle_names  \u001b[39m=\u001b[39m [f\u001b[39m.\u001b[39mreplace(\u001b[39m'\u001b[39m\u001b[39m.txt\u001b[39m\u001b[39m'\u001b[39m,\u001b[39m'\u001b[39m\u001b[39m'\u001b[39m) \u001b[39mfor\u001b[39;00m f \u001b[39min\u001b[39;00m os\u001b[39m.\u001b[39mlistdir(data_dir\u001b[39m+\u001b[39mparticle_dir)]\n\u001b[0;32m----> <a href='vscode-notebook-cell:/Users/panos/Documents/NYU/1.%20Courses/Capstone/Phonon%20Dark%20Matter/LXe-Phonon/Simulation/0.MIP_Signal/Simulation-Manager.ipynb#ch0000004?line=5'>6</a>\u001b[0m fluids          \u001b[39m=\u001b[39m [fluid(fname,name\u001b[39m=\u001b[39;49mn) \u001b[39mfor\u001b[39;00m fname,n \u001b[39min\u001b[39;00m \u001b[39mzip\u001b[39m(fluid_files,fluid_names)] \n\u001b[1;32m      <a href='vscode-notebook-cell:/Users/panos/Documents/NYU/1.%20Courses/Capstone/Phonon%20Dark%20Matter/LXe-Phonon/Simulation/0.MIP_Signal/Simulation-Manager.ipynb#ch0000004?line=6'>7</a>\u001b[0m particles       \u001b[39m=\u001b[39m [particle(fname,name\u001b[39m=\u001b[39mn) \u001b[39mfor\u001b[39;00m fname,n \u001b[39min\u001b[39;00m \u001b[39mzip\u001b[39m(particle_files,particle_names)]\n",
      "File \u001b[0;32m~/Documents/NYU/1. Courses/Capstone/Phonon Dark Matter/LXe-Phonon/Simulation/0.MIP_Signal/pyphonon.py:259\u001b[0m, in \u001b[0;36mfluid.__init__\u001b[0;34m(self, filename, rest_density, viscosity, sound_speed, bulk_modulus, specific_heat, thermal_expansion, mean_excitation_energy, molar_mass, atomic_number, name)\u001b[0m\n\u001b[1;32m    257\u001b[0m     \u001b[39mself\u001b[39m\u001b[39m.\u001b[39matomic_number        \u001b[39m=\u001b[39m atomic_number\n\u001b[1;32m    258\u001b[0m \u001b[39melse\u001b[39;00m:\n\u001b[0;32m--> 259\u001b[0m                 \u001b[39mself\u001b[39m\u001b[39m.\u001b[39mrest_density,\u001b[39mself\u001b[39m\u001b[39m.\u001b[39mviscosity,\u001b[39mself\u001b[39m\u001b[39m.\u001b[39msound_speed,\u001b[39mself\u001b[39m\u001b[39m.\u001b[39mbulk_modulus,\u001b[39mself\u001b[39m\u001b[39m.\u001b[39mspecific_heat,\u001b[39mself\u001b[39m\u001b[39m.\u001b[39mthermal_expansion,\u001b[39mself\u001b[39m\u001b[39m.\u001b[39mmean_excitation_energy,\u001b[39mself\u001b[39m\u001b[39m.\u001b[39mmolar_mass,\u001b[39mself\u001b[39m\u001b[39m.\u001b[39matomic_number \u001b[39m=\u001b[39m \u001b[39mself\u001b[39;49m\u001b[39m.\u001b[39;49mcreate_from_filename(filename)\n",
      "File \u001b[0;32m~/Documents/NYU/1. Courses/Capstone/Phonon Dark Matter/LXe-Phonon/Simulation/0.MIP_Signal/pyphonon.py:266\u001b[0m, in \u001b[0;36mfluid.create_from_filename\u001b[0;34m(self, filename)\u001b[0m\n\u001b[1;32m    264\u001b[0m data \u001b[39m=\u001b[39m file\u001b[39m.\u001b[39mread()\n\u001b[1;32m    265\u001b[0m file\u001b[39m.\u001b[39mclose()\n\u001b[0;32m--> 266\u001b[0m \u001b[39mreturn\u001b[39;00m [\u001b[39mfloat\u001b[39m(l\u001b[39m.\u001b[39msplit(\u001b[39m'\u001b[39m\u001b[39m:\u001b[39m\u001b[39m'\u001b[39m)[\u001b[39m-\u001b[39m\u001b[39m1\u001b[39m]) \u001b[39mfor\u001b[39;00m l \u001b[39min\u001b[39;00m data\u001b[39m.\u001b[39msplit(\u001b[39m'\u001b[39m\u001b[39m\\n\u001b[39;00m\u001b[39m'\u001b[39m)[:\u001b[39m9\u001b[39m]]\n",
      "File \u001b[0;32m~/Documents/NYU/1. Courses/Capstone/Phonon Dark Matter/LXe-Phonon/Simulation/0.MIP_Signal/pyphonon.py:266\u001b[0m, in \u001b[0;36m<listcomp>\u001b[0;34m(.0)\u001b[0m\n\u001b[1;32m    264\u001b[0m data \u001b[39m=\u001b[39m file\u001b[39m.\u001b[39mread()\n\u001b[1;32m    265\u001b[0m file\u001b[39m.\u001b[39mclose()\n\u001b[0;32m--> 266\u001b[0m \u001b[39mreturn\u001b[39;00m [\u001b[39mfloat\u001b[39;49m(l\u001b[39m.\u001b[39;49msplit(\u001b[39m'\u001b[39;49m\u001b[39m:\u001b[39;49m\u001b[39m'\u001b[39;49m)[\u001b[39m-\u001b[39;49m\u001b[39m1\u001b[39;49m]) \u001b[39mfor\u001b[39;00m l \u001b[39min\u001b[39;00m data\u001b[39m.\u001b[39msplit(\u001b[39m'\u001b[39m\u001b[39m\\n\u001b[39;00m\u001b[39m'\u001b[39m)[:\u001b[39m9\u001b[39m]]\n",
      "\u001b[0;31mValueError\u001b[0m: could not convert string to float: \"\\t? (Can't find it! I only found values for the gas state.)\""
     ]
    }
   ],
   "source": [
    "# Collect the fluids and particles from the directories\n",
    "fluid_files     = [data_dir+fluid_dir+f for f in os.listdir(data_dir+fluid_dir)]\n",
    "fluid_names     = [f.replace('.txt','') for f in os.listdir(data_dir+fluid_dir)]\n",
    "particle_files  = [data_dir+particle_dir+f for f in os.listdir(data_dir+particle_dir)]\n",
    "particle_names  = [f.replace('.txt','') for f in os.listdir(data_dir+particle_dir)]\n",
    "fluids          = [fluid(fname,name=n) for fname,n in zip(fluid_files,fluid_names)] \n",
    "particles       = [particle(fname,name=n) for fname,n in zip(particle_files,particle_names)]"
   ]
  },
  {
   "cell_type": "code",
   "execution_count": 5,
   "metadata": {},
   "outputs": [
    {
     "data": {
      "application/vnd.jupyter.widget-view+json": {
       "model_id": "e973b23f4db64ec39ab5e30f893cdf34",
       "version_major": 2,
       "version_minor": 0
      },
      "text/plain": [
       "Velocities:   0%|          | 0/3 [00:00<?, ?it/s]"
      ]
     },
     "metadata": {},
     "output_type": "display_data"
    },
    {
     "data": {
      "application/vnd.jupyter.widget-view+json": {
       "model_id": "200017bdcc964ac0990e7d2971ac117e",
       "version_major": 2,
       "version_minor": 0
      },
      "text/plain": [
       "Radius GPU: True:   0%|          | 0/100 [00:00<?, ?it/s]"
      ]
     },
     "metadata": {},
     "output_type": "display_data"
    },
    {
     "data": {
      "application/vnd.jupyter.widget-view+json": {
       "model_id": "49e0842ee8a544b7b0b2aa2cfa365315",
       "version_major": 2,
       "version_minor": 0
      },
      "text/plain": [
       "Radius GPU: True:   0%|          | 0/100 [00:00<?, ?it/s]"
      ]
     },
     "metadata": {},
     "output_type": "display_data"
    },
    {
     "data": {
      "application/vnd.jupyter.widget-view+json": {
       "model_id": "c9316c491b7c48cfa71bb1080281895e",
       "version_major": 2,
       "version_minor": 0
      },
      "text/plain": [
       "Radius GPU: True:   0%|          | 0/100 [00:00<?, ?it/s]"
      ]
     },
     "metadata": {},
     "output_type": "display_data"
    }
   ],
   "source": [
    "# Calculate \n",
    "V = np.linspace(0.6e8/fluids[0].sound_speed,0.8e8/fluids[0].sound_speed,3)\n",
    "R = 10**np.linspace(-4,0,100)\n",
    "\n",
    "pressure_max, pressure_wid = get_width_max(V,R,fluids[0].viscosity_coefficient()*fluids[0].sound_speed)"
   ]
  },
  {
   "cell_type": "code",
   "execution_count": 6,
   "metadata": {},
   "outputs": [
    {
     "data": {
      "image/png": "[encoded data removed]",
      "text/plain": [
       "<Figure size 720x576 with 2 Axes>"
      ]
     },
     "metadata": {
      "needs_background": "light"
     },
     "output_type": "display_data"
    }
   ],
   "source": [
    "# Plot them\n",
    "plot_pressure(V,R,pressure_max,pressure_wid)"
   ]
  },
  {
   "cell_type": "code",
   "execution_count": 7,
   "metadata": {
    "scrolled": false
   },
   "outputs": [
    {
     "data": {
      "application/vnd.jupyter.widget-view+json": {
       "model_id": "d2598bea8f834a88ba259020235b6352",
       "version_major": 2,
       "version_minor": 0
      },
      "text/plain": [
       "  0%|          | 0/10 [00:00<?, ?it/s]"
      ]
     },
     "metadata": {},
     "output_type": "display_data"
    },
    {
     "data": {
      "application/vnd.jupyter.widget-view+json": {
       "model_id": "9b7ff05a32c149ff995f50e7ea356b78",
       "version_major": 2,
       "version_minor": 0
      },
      "text/plain": [
       "  0%|          | 0/3 [00:00<?, ?it/s]"
      ]
     },
     "metadata": {},
     "output_type": "display_data"
    },
    {
     "name": "stdout",
     "output_type": "stream",
     "text": [
      "5.610603872855099e+27\n",
      "2.942164025673701e+26\n",
      "2.553117789369669e+29\n"
     ]
    },
    {
     "data": {
      "application/vnd.jupyter.widget-view+json": {
       "model_id": "b5fb3d22e2a24423a39bef26c8bc568b",
       "version_major": 2,
       "version_minor": 0
      },
      "text/plain": [
       "  0%|          | 0/3 [00:00<?, ?it/s]"
      ]
     },
     "metadata": {},
     "output_type": "display_data"
    },
    {
     "name": "stdout",
     "output_type": "stream",
     "text": [
      "2.8347652408211083e+27\n",
      "1.4750195746769683e+27\n",
      "7.054307594156099e+26\n"
     ]
    },
    {
     "data": {
      "application/vnd.jupyter.widget-view+json": {
       "model_id": "787b6732e52a4180831770d9fd87a775",
       "version_major": 2,
       "version_minor": 0
      },
      "text/plain": [
       "  0%|          | 0/3 [00:00<?, ?it/s]"
      ]
     },
     "metadata": {},
     "output_type": "display_data"
    },
    {
     "name": "stdout",
     "output_type": "stream",
     "text": [
      "2.114096173429822e+26\n",
      "8.30904785261814e+25\n",
      "3.6480239760761545e+27\n"
     ]
    },
    {
     "data": {
      "application/vnd.jupyter.widget-view+json": {
       "model_id": "6e26ea73841e419482c0585108d99207",
       "version_major": 2,
       "version_minor": 0
      },
      "text/plain": [
       "  0%|          | 0/3 [00:00<?, ?it/s]"
      ]
     },
     "metadata": {},
     "output_type": "display_data"
    },
    {
     "name": "stdout",
     "output_type": "stream",
     "text": [
      "2.1987879644189555e+25\n",
      "5.280015634403255e+25\n",
      "3.182665087216956e+26\n"
     ]
    },
    {
     "data": {
      "application/vnd.jupyter.widget-view+json": {
       "model_id": "88e7ee1b69fb40048c5c7e0c8d0f7e0e",
       "version_major": 2,
       "version_minor": 0
      },
      "text/plain": [
       "  0%|          | 0/3 [00:00<?, ?it/s]"
      ]
     },
     "metadata": {},
     "output_type": "display_data"
    },
    {
     "name": "stdout",
     "output_type": "stream",
     "text": [
      "1.8160444770455978e+26\n",
      "6.707710366254282e+24\n",
      "4.5995336190248406e+24\n"
     ]
    },
    {
     "data": {
      "application/vnd.jupyter.widget-view+json": {
       "model_id": "a5256c9baf824e39953a7d4269406774",
       "version_major": 2,
       "version_minor": 0
      },
      "text/plain": [
       "  0%|          | 0/3 [00:00<?, ?it/s]"
      ]
     },
     "metadata": {},
     "output_type": "display_data"
    },
    {
     "name": "stdout",
     "output_type": "stream",
     "text": [
      "3.3950252725049134e+24\n",
      "6.253792878187979e+23\n",
      "5.615563331108466e+23\n"
     ]
    },
    {
     "data": {
      "application/vnd.jupyter.widget-view+json": {
       "model_id": "f822e9e79b654ba1a2daa717c4f1bcac",
       "version_major": 2,
       "version_minor": 0
      },
      "text/plain": [
       "  0%|          | 0/3 [00:00<?, ?it/s]"
      ]
     },
     "metadata": {},
     "output_type": "display_data"
    },
    {
     "name": "stdout",
     "output_type": "stream",
     "text": [
      "5.861049620047602e+24\n",
      "1.6539361497846462e+23\n",
      "4.2833973453629885e+24\n"
     ]
    },
    {
     "data": {
      "application/vnd.jupyter.widget-view+json": {
       "model_id": "c3e2c728ba8e45cc8e3a8f05ef280bf2",
       "version_major": 2,
       "version_minor": 0
      },
      "text/plain": [
       "  0%|          | 0/3 [00:00<?, ?it/s]"
      ]
     },
     "metadata": {},
     "output_type": "display_data"
    },
    {
     "name": "stdout",
     "output_type": "stream",
     "text": [
      "5.289915403208888e+22\n",
      "3.974881984368662e+22\n",
      "1.2700233129535979e+23\n"
     ]
    },
    {
     "data": {
      "application/vnd.jupyter.widget-view+json": {
       "model_id": "e00dec3c39a2494fa3cd4f1a644cdd79",
       "version_major": 2,
       "version_minor": 0
      },
      "text/plain": [
       "  0%|          | 0/3 [00:00<?, ?it/s]"
      ]
     },
     "metadata": {},
     "output_type": "display_data"
    },
    {
     "name": "stdout",
     "output_type": "stream",
     "text": [
      "2.895031431623374e+22\n",
      "7.949083886171629e+21\n",
      "3.852856414670737e+23\n"
     ]
    },
    {
     "data": {
      "application/vnd.jupyter.widget-view+json": {
       "model_id": "9f7a8007743448728f638963f3418ec6",
       "version_major": 2,
       "version_minor": 0
      },
      "text/plain": [
       "  0%|          | 0/3 [00:00<?, ?it/s]"
      ]
     },
     "metadata": {},
     "output_type": "display_data"
    },
    {
     "name": "stdout",
     "output_type": "stream",
     "text": [
      "1.4166068293236708e+22\n",
      "2.6412994977416815e+23\n",
      "8.246869396431121e+21\n"
     ]
    },
    {
     "data": {
      "image/png": "[encoded data removed]",
      "text/plain": [
       "<Figure size 432x288 with 1 Axes>"
      ]
     },
     "metadata": {
      "needs_background": "light"
     },
     "output_type": "display_data"
    }
   ],
   "source": [
    "R = 10**np.linspace(-3,0,10)\n",
    "l = fluids[0].viscosity_coefficient()*fluids[0].sound_speed\n",
    "T = np.array([-1e-16,0])\n",
    "N_pts= 10000\n",
    "\n",
    "c=0\n",
    "for rr in tqdm(R):\n",
    "    for v in tqdm(V,leave=False):\n",
    "        r,z,t,v = get_params(rr,v,T=T,N_pts=N_pts)\n",
    "        p = E(r,z,t,v,l)\n",
    "        print(max(abs(p)))\n",
    "\n",
    "        plt.plot(np.linspace(*T,N_pts),p.get()+0.5*c)\n",
    "#         plt.ylim(0,20)\n",
    "        c+=1"
   ]
  },
  {
   "cell_type": "code",
   "execution_count": 8,
   "metadata": {
    "scrolled": false
   },
   "outputs": [
    {
     "data": {
      "text/plain": [
       "[[0,\n",
       "  0,\n",
       "  0,\n",
       "  0,\n",
       "  0,\n",
       "  0,\n",
       "  0,\n",
       "  0,\n",
       "  0,\n",
       "  0,\n",
       "  0,\n",
       "  0,\n",
       "  0,\n",
       "  0,\n",
       "  0,\n",
       "  0,\n",
       "  0,\n",
       "  0,\n",
       "  0,\n",
       "  0,\n",
       "  0,\n",
       "  0,\n",
       "  0,\n",
       "  0,\n",
       "  0,\n",
       "  0,\n",
       "  0,\n",
       "  0,\n",
       "  0,\n",
       "  0,\n",
       "  0,\n",
       "  0,\n",
       "  0,\n",
       "  0,\n",
       "  0,\n",
       "  0,\n",
       "  0,\n",
       "  0,\n",
       "  0,\n",
       "  0,\n",
       "  0,\n",
       "  0,\n",
       "  0,\n",
       "  0,\n",
       "  0,\n",
       "  0,\n",
       "  0,\n",
       "  0,\n",
       "  0,\n",
       "  0,\n",
       "  0,\n",
       "  0,\n",
       "  0,\n",
       "  0,\n",
       "  0,\n",
       "  0,\n",
       "  0,\n",
       "  0,\n",
       "  0,\n",
       "  0,\n",
       "  0,\n",
       "  0,\n",
       "  0,\n",
       "  0,\n",
       "  0,\n",
       "  0,\n",
       "  0,\n",
       "  0,\n",
       "  0,\n",
       "  0,\n",
       "  0,\n",
       "  0,\n",
       "  0,\n",
       "  0,\n",
       "  0,\n",
       "  0,\n",
       "  0,\n",
       "  0,\n",
       "  0,\n",
       "  0,\n",
       "  0,\n",
       "  0,\n",
       "  0,\n",
       "  0,\n",
       "  0,\n",
       "  0,\n",
       "  0,\n",
       "  0,\n",
       "  0,\n",
       "  0,\n",
       "  0,\n",
       "  0,\n",
       "  0,\n",
       "  0,\n",
       "  0,\n",
       "  0,\n",
       "  0,\n",
       "  0,\n",
       "  0,\n",
       "  0],\n",
       " [0,\n",
       "  0,\n",
       "  0,\n",
       "  0,\n",
       "  0,\n",
       "  0,\n",
       "  0,\n",
       "  0,\n",
       "  0,\n",
       "  0,\n",
       "  0,\n",
       "  0,\n",
       "  0,\n",
       "  0,\n",
       "  0,\n",
       "  0,\n",
       "  0,\n",
       "  0,\n",
       "  0,\n",
       "  0,\n",
       "  0,\n",
       "  0,\n",
       "  0,\n",
       "  0,\n",
       "  0,\n",
       "  0,\n",
       "  0,\n",
       "  0,\n",
       "  0,\n",
       "  0,\n",
       "  0,\n",
       "  0,\n",
       "  0,\n",
       "  0,\n",
       "  0,\n",
       "  0,\n",
       "  0,\n",
       "  0,\n",
       "  0,\n",
       "  0,\n",
       "  0,\n",
       "  0,\n",
       "  0,\n",
       "  0,\n",
       "  0,\n",
       "  0,\n",
       "  0,\n",
       "  0,\n",
       "  0,\n",
       "  0,\n",
       "  0,\n",
       "  0,\n",
       "  0,\n",
       "  0,\n",
       "  0,\n",
       "  0,\n",
       "  0,\n",
       "  0,\n",
       "  0,\n",
       "  0,\n",
       "  0,\n",
       "  0,\n",
       "  0,\n",
       "  0,\n",
       "  0,\n",
       "  0,\n",
       "  0,\n",
       "  0,\n",
       "  0,\n",
       "  0,\n",
       "  0,\n",
       "  0,\n",
       "  0,\n",
       "  0,\n",
       "  0,\n",
       "  0,\n",
       "  0,\n",
       "  0,\n",
       "  0,\n",
       "  0,\n",
       "  0,\n",
       "  0,\n",
       "  0,\n",
       "  0,\n",
       "  0,\n",
       "  0,\n",
       "  0,\n",
       "  0,\n",
       "  0,\n",
       "  0,\n",
       "  0,\n",
       "  0,\n",
       "  0,\n",
       "  0,\n",
       "  0,\n",
       "  0,\n",
       "  0,\n",
       "  0,\n",
       "  0,\n",
       "  0],\n",
       " [0,\n",
       "  0,\n",
       "  0,\n",
       "  0,\n",
       "  0,\n",
       "  0,\n",
       "  0,\n",
       "  0,\n",
       "  0,\n",
       "  0,\n",
       "  0,\n",
       "  0,\n",
       "  0,\n",
       "  0,\n",
       "  0,\n",
       "  0,\n",
       "  0,\n",
       "  0,\n",
       "  0,\n",
       "  0,\n",
       "  0,\n",
       "  0,\n",
       "  0,\n",
       "  0,\n",
       "  0,\n",
       "  0,\n",
       "  0,\n",
       "  0,\n",
       "  0,\n",
       "  0,\n",
       "  0,\n",
       "  0,\n",
       "  0,\n",
       "  0,\n",
       "  0,\n",
       "  0,\n",
       "  0,\n",
       "  0,\n",
       "  0,\n",
       "  0,\n",
       "  0,\n",
       "  0,\n",
       "  0,\n",
       "  0,\n",
       "  0,\n",
       "  0,\n",
       "  0,\n",
       "  0,\n",
       "  0,\n",
       "  0,\n",
       "  0,\n",
       "  0,\n",
       "  0,\n",
       "  0,\n",
       "  0,\n",
       "  0,\n",
       "  0,\n",
       "  0,\n",
       "  0,\n",
       "  0,\n",
       "  0,\n",
       "  0,\n",
       "  0,\n",
       "  0,\n",
       "  0,\n",
       "  0,\n",
       "  0,\n",
       "  0,\n",
       "  0,\n",
       "  0,\n",
       "  0,\n",
       "  0,\n",
       "  0,\n",
       "  0,\n",
       "  0,\n",
       "  0,\n",
       "  0,\n",
       "  0,\n",
       "  0,\n",
       "  0,\n",
       "  0,\n",
       "  0,\n",
       "  0,\n",
       "  0,\n",
       "  0,\n",
       "  0,\n",
       "  0,\n",
       "  0,\n",
       "  0,\n",
       "  0,\n",
       "  0,\n",
       "  0,\n",
       "  0,\n",
       "  0,\n",
       "  0,\n",
       "  0,\n",
       "  0,\n",
       "  0,\n",
       "  0,\n",
       "  0]]"
      ]
     },
     "execution_count": 8,
     "metadata": {},
     "output_type": "execute_result"
    }
   ],
   "source": [
    "# %matplotlib notebook\n",
    "pressure_max"
   ]
  },
  {
   "cell_type": "code",
   "execution_count": 10,
   "metadata": {},
   "outputs": [
    {
     "ename": "NameError",
     "evalue": "name 'cp' is not defined",
     "output_type": "error",
     "traceback": [
      "\u001b[0;31m---------------------------------------------------------------------------\u001b[0m",
      "\u001b[0;31mNameError\u001b[0m                                 Traceback (most recent call last)",
      "\u001b[1;32m/Users/panos/Documents/NYU/1. Courses/Capstone/Phonon Dark Matter/LXe-Phonon/Simulation/0.MIP_Signal/Simulation-Manager.ipynb Cell 10'\u001b[0m in \u001b[0;36m<cell line: 5>\u001b[0;34m()\u001b[0m\n\u001b[1;32m      <a href='vscode-notebook-cell:/Users/panos/Documents/NYU/1.%20Courses/Capstone/Phonon%20Dark%20Matter/LXe-Phonon/Simulation/0.MIP_Signal/Simulation-Manager.ipynb#ch0000009?line=2'>3</a>\u001b[0m l \u001b[39m=\u001b[39m \u001b[39m0\u001b[39m\n\u001b[1;32m      <a href='vscode-notebook-cell:/Users/panos/Documents/NYU/1.%20Courses/Capstone/Phonon%20Dark%20Matter/LXe-Phonon/Simulation/0.MIP_Signal/Simulation-Manager.ipynb#ch0000009?line=3'>4</a>\u001b[0m r \u001b[39m=\u001b[39m \u001b[39m70\u001b[39m\n\u001b[0;32m----> <a href='vscode-notebook-cell:/Users/panos/Documents/NYU/1.%20Courses/Capstone/Phonon%20Dark%20Matter/LXe-Phonon/Simulation/0.MIP_Signal/Simulation-Manager.ipynb#ch0000009?line=4'>5</a>\u001b[0m t \u001b[39m=\u001b[39m r \u001b[39m+\u001b[39m cp\u001b[39m.\u001b[39mlinspace(\u001b[39m0\u001b[39m,\u001b[39m2.5\u001b[39m,\u001b[39m100000\u001b[39m)\n\u001b[1;32m      <a href='vscode-notebook-cell:/Users/panos/Documents/NYU/1.%20Courses/Capstone/Phonon%20Dark%20Matter/LXe-Phonon/Simulation/0.MIP_Signal/Simulation-Manager.ipynb#ch0000009?line=5'>6</a>\u001b[0m z \u001b[39m=\u001b[39m \u001b[39m+\u001b[39mcp\u001b[39m.\u001b[39msqrt(\u001b[39m-\u001b[39mr\u001b[39m*\u001b[39m\u001b[39m*\u001b[39m\u001b[39m2\u001b[39m\u001b[39m/\u001b[39m(\u001b[39m1\u001b[39m\u001b[39m-\u001b[39mv\u001b[39m*\u001b[39m\u001b[39m*\u001b[39m\u001b[39m2\u001b[39m))\n\u001b[1;32m      <a href='vscode-notebook-cell:/Users/panos/Documents/NYU/1.%20Courses/Capstone/Phonon%20Dark%20Matter/LXe-Phonon/Simulation/0.MIP_Signal/Simulation-Manager.ipynb#ch0000009?line=7'>8</a>\u001b[0m \u001b[39m# Check conditions\u001b[39;00m\n",
      "\u001b[0;31mNameError\u001b[0m: name 'cp' is not defined"
     ]
    }
   ],
   "source": [
    "# Parameters\n",
    "v = 4\n",
    "l = 0\n",
    "r = 70\n",
    "t = r + cp.linspace(0,2.5,100000)\n",
    "z = +cp.sqrt(-r**2/(1-v**2))\n",
    "\n",
    "# Check conditions\n",
    "A = z.get()*np.ones(len(t)) < v * t.get()\n",
    "B = (abs(z - v*t) - r*cp.sqrt(v**2 - 1) > 0).get()\n",
    "print(np.all(A))\n",
    "print(np.any(B))\n",
    "\n",
    "fig = plt.figure()\n",
    "plt.plot(t.get(),E(r,z,t,v,l).get()*A*B)\n",
    "plt.plot(t.get(),B*A*1)\n",
    "plt.show()"
   ]
  },
  {
   "cell_type": "code",
   "execution_count": null,
   "metadata": {},
   "outputs": [],
   "source": []
  },
  {
   "cell_type": "code",
   "execution_count": null,
   "metadata": {},
   "outputs": [],
   "source": []
  }
 ],
 "metadata": {
  "kernelspec": {
   "display_name": "Python 3.9.10",
   "language": "python",
   "name": "python3"
  },
  "language_info": {
   "codemirror_mode": {
    "name": "ipython",
    "version": 3
   },
   "file_extension": ".py",
   "mimetype": "text/x-python",
   "name": "python",
   "nbconvert_exporter": "python",
   "pygments_lexer": "ipython3",
   "version": "3.9.10"
  },
  "vscode": {
   "interpreter": {
    "hash": "2c590989cbc5d68801de99185b63dc2942e752ded1269407ddc2b842a5d0fef0"
   }
  }
 },
 "nbformat": 4,
 "nbformat_minor": 2
}
