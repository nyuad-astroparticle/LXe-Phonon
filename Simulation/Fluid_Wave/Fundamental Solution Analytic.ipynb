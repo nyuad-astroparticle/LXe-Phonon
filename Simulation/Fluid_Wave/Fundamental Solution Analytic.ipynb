{
 "cells": [
  {
   "cell_type": "markdown",
   "metadata": {},
   "source": [
    "# Solving Viscous Wave Equation\n",
    "\n",
    "This notebook is used to solve the particular viscous wave equation for the setup of a muon passing through liquid Xenon. The goal is to find the pressure distribution in a container and its decay as a function of distance and time.\n",
    "\n",
    "## Wave equation\n",
    "\n",
    "We can derive the viscous wave equation through the linearised Navier-Stokes Equations. The full derivation is in the notes, but the point is that we have added a single term that takes into account the viscous effects. The equation turns out to be as follows:\n",
    "\n",
    "$$\\Delta \\left(p(\\vec{x},t) - \\frac{1}{\\omega_0}\\frac{\\partial}{\\partial t}p(\\vec{x},t)\\right) = \\frac{1}{c^2} \\frac{\\partial}{\\partial}p(\\vec{x},t)$$\n",
    "\n",
    "where $c$ is the speed of the wave in the medium, $\\omega_0$ is the coefficient responsible for damping, and $p(\\vec{x},t)$ is pressure as a function of space and time.\n",
    "\n",
    "We now introduce the linear differential operator $\\mathcal{L}$.\n",
    "\n",
    "$$\\mathcal{L} := \\Delta \\left(p(\\vec{x},t) - \\frac{1}{\\omega_0}\\frac{\\partial}{\\partial t}p(\\vec{x},t)\\right) - \\frac{1}{c^2} \\frac{\\partial}{\\partial}p(\\vec{x},t)$$\n",
    "\n",
    "## Fundamental Solution\n",
    "\n",
    "Now we search for the fundamental solution $F(\\vec{x},t)$ that satisfies the follwing.\n",
    "\n",
    "$$\\mathcal{L}F(\\vec{x},t) = \\delta (\\vec{x})\\delta(t)$$\n",
    "\n",
    "We can solve it using fourier methods and then we obtain the fundamental solution in terms of this integral over fourier momentum. Now we just need to evaluate this.\n",
    "\n",
    "$$F(\\vec{x},t) = \\Theta(t) \\int_0^\\infty 8\\pi^2 c^2 k^2 e^{-\\frac{c^2 k^2}{2 \\omega_0}t} \\frac{e^{i k r} - e^{-ikr}}{2ikr} \\frac{e^{ikct\\sqrt{1-\\frac{k^2c^2}{4\\omega_0}}} - e^{-ikct\\sqrt{1-\\frac{k^2c^2}{4\\omega_0}}}}{2ikct\\sqrt{1-\\frac{k^2c^2}{4\\omega_0}}}dk$$\n",
    "\n",
    "Where $\\Theta(t)$ is the Heaviside function and $r:=\\left| \\vec{x}\\right|$\n",
    "\n",
    "## Numerical Integration\n",
    "\n",
    "To numerically evaluate this expression we first need to study it. Therefore let's define the function f as the inner part of the integral like so.\n",
    "\n",
    "$$F(\\vec{x},t) = \\Theta(t)\\int_0^\\infty f(k;\\vec{x},t)dk$$\n",
    "\n",
    "Now we realise that the function f is a piecewise function plotted below."
   ]
  },
  {
   "cell_type": "code",
   "execution_count": 4,
   "metadata": {},
   "outputs": [],
   "source": [
    "#import relevant libraries\n",
    "import numpy as np\n",
    "import scipy.constants as const\n",
    "import matplotlib.pyplot as plt\n",
    "from mpl_toolkits.mplot3d import Axes3D\n",
    "import ipywidgets as widgets\n",
    "from tqdm import tqdm\n",
    "\n",
    "# if this doesn't work run: \"python3 -m pip install ipympl\" \n",
    "# or just comment it out and learn to live without sliders on the graphs\n",
    "%matplotlib widget       \n",
    "\n",
    "# Define the relevant constants\n",
    "c   = 1    # Speed of wave\n",
    "w_0 = 1    # Damping frequency\n",
    "\n",
    "# Define integrable function f\n",
    "def f(k,r,t,w_0=w_0,c=c):\n",
    "    if t < 0:\n",
    "        return 0\n",
    "    \n",
    "    if k <= 0:\n",
    "        return 0;\n",
    "    \n",
    "    if k < 2*w_0/c:\n",
    "        return 8 * np.pi**2 * c**2 * k**2 * np.exp(-c**2 * k**2 * t / (2 * w_0)) *\\\n",
    "                np.sinc(k*c*t/np.pi *(1 - k**2 * c**2 / (4 * w_0**2))**0.5) *\\\n",
    "                np.sin(r*k)/(r*k)\n",
    "    \n",
    "    elif k > 2*w_0/c:\n",
    "        return 8 * np.pi**2 * c**2 * k**2 *\\\n",
    "                (np.exp(k*c*t *(-1 + k**2 * c**2 / (4 * w_0**2))**0.5 - c**2 * k**2 * t / (2 * w_0)) -\\\n",
    "                np.exp(-k*c*t *(-1 + k**2 * c**2 / (4 * w_0**2))**0.5 - c**2 * k**2 * t / (2 * w_0)))/\\\n",
    "                (2*k*c*t *(-1 + k**2 * c**2 / (4 * w_0**2))**0.5 ) * np.sin(r*k)/(r*k)\n",
    "    else: return 0\n",
    "    \n",
    "# Define the envelope function of f\n",
    "def e(k,r,t):\n",
    "    if t < 0:\n",
    "        return 0\n",
    "    \n",
    "    if k <= 0:\n",
    "        return 0;\n",
    "    \n",
    "    if k < 2*w_0/c:\n",
    "        return 8 * np.pi**2 * c**2 * np.exp(-c**2 * k**2 * t / (2 * w_0))/\\\n",
    "                (r*c*t *(1 - k**2 * c**2 / (4 * w_0**2))**0.5)\n",
    "    \n",
    "    elif k > 2*w_0/c:\n",
    "        return 8 * np.pi**2 * c**2 *\\\n",
    "                (np.exp(k*c*t *(-1 + k**2 * c**2 / (4 * w_0**2))**0.5 - c**2 * k**2 * t / (2 * w_0)) -\\\n",
    "                np.exp(-k*c*t *(-1 + k**2 * c**2 / (4 * w_0**2))**0.5 - c**2 * k**2 * t / (2 * w_0)))/\\\n",
    "                (2*c*t *(-1 + k**2 * c**2 / (4 * w_0**2))**0.5 )/r\n",
    "    else: return 0"
   ]
  },
  {
   "cell_type": "code",
   "execution_count": 5,
   "metadata": {},
   "outputs": [
    {
     "output_type": "display_data",
     "data": {
      "text/plain": "Canvas(toolbar=Toolbar(toolitems=[('Home', 'Reset original view', 'home', 'home'), ('Back', 'Back to  previous…",
      "application/vnd.jupyter.widget-view+json": {
       "version_major": 2,
       "version_minor": 0,
       "model_id": "e65b2b0e18864a798b0f69d1c903eef6"
      }
     },
     "metadata": {}
    },
    {
     "output_type": "display_data",
     "data": {
      "text/plain": "interactive(children=(FloatSlider(value=1.0, description='r', min=0.001), FloatSlider(value=1.0, description='…",
      "application/vnd.jupyter.widget-view+json": {
       "version_major": 2,
       "version_minor": 0,
       "model_id": "322673c414ba4230919cf240526987af"
      }
     },
     "metadata": {}
    }
   ],
   "source": [
    "# Set up the plot\n",
    "fig = plt.figure(figsize=(9,6))\n",
    "fig.suptitle(\"Integrand plot vs k\")\n",
    "ax = fig.add_subplot(111)\n",
    "\n",
    "k_min = 0\n",
    "k_max = 100\n",
    "Npts = 100\n",
    "\n",
    "ax.set_xlim([k_min, k_max])\n",
    "ax.set_ylabel(r'$f(k;r,t)$',fontsize = 15)\n",
    "ax.set_xlabel(r'$k$',fontsize = 15)\n",
    "ax.grid(True)\n",
    "\n",
    "# Generate x-y values\n",
    "k = np.linspace(k_min,k_max,Npts)\n",
    "def f_vect(K,r,t):\n",
    "    return np.array([f(k,r,t) for k in K])\n",
    "\n",
    "# Add the sliders\n",
    "@widgets.interact(r=(0.001, 100, 0.1), t=(0.001, 10, .01), Npts=(100,10000, 1))\n",
    "def update(r =1.0, t=1.0, Npts=1000):\n",
    "    [l.remove() for l in ax.lines]\n",
    "    k = np.linspace(k_min,k_max,Npts)\n",
    "    ax.plot(k, f_vect(k,r,t), color='C3')"
   ]
  },
  {
   "cell_type": "markdown",
   "metadata": {},
   "source": [
    "# Integration\n",
    "\n",
    "Now that we have the plot we need to somehow integrate it. To do this efficiently we need to find when does the wave decay over a specific amount. As a result we need to find its envelope. To do this we have to study each of the pieces of the piecewise function seperately.\n",
    "\n",
    "## Envelope\n",
    "\n",
    "Now based on the analytic expression of the integrand we can conclude that the envelope function $\\varepsilon(k;r,t)$ is the following.\n",
    "\n",
    "$$\n",
    "\\varepsilon(k;r,t) = \\begin{cases}\n",
    "\\frac{8\\pi^2 c^2 e^{-\\frac{c^2 k^2}{2 \\omega_0}t}}{rct\\sqrt{1-\\frac{k^2c^2}{4\\omega_0}}} & \\text{if } k \\leq \\frac{2\\omega_0}{c}\\\\ \n",
    "8\\pi^2 c^2 e^{-\\frac{c^2 k^2}{2 \\omega_0}t}\\frac{\\text{sinh}\\left(kct\\sqrt{\\frac{k^2c^2}{4\\omega_0}-1}\\right)}{rct\\sqrt{\\frac{k^2c^2}{4\\omega_0}-1}} & \\text{if } k > \\frac{2\\omega_0}{c}\\\\ \n",
    "\\end{cases}\n",
    "$$\n",
    "\n",
    "Let's try to plot one against the other"
   ]
  },
  {
   "cell_type": "code",
   "execution_count": 17,
   "metadata": {
    "scrolled": false
   },
   "outputs": [
    {
     "output_type": "display_data",
     "data": {
      "text/plain": "Canvas(toolbar=Toolbar(toolitems=[('Home', 'Reset original view', 'home', 'home'), ('Back', 'Back to  previous…",
      "application/vnd.jupyter.widget-view+json": {
       "version_major": 2,
       "version_minor": 0,
       "model_id": "5e9660c0012c44f289f6591235f4b90e"
      }
     },
     "metadata": {}
    },
    {
     "output_type": "display_data",
     "data": {
      "text/plain": "interactive(children=(FloatSlider(value=1.0, description='r', min=0.001), FloatSlider(value=1.0, description='…",
      "application/vnd.jupyter.widget-view+json": {
       "version_major": 2,
       "version_minor": 0,
       "model_id": "85453001d27d4b129b10e3dadc5990c6"
      }
     },
     "metadata": {}
    }
   ],
   "source": [
    "# Set up the plot\n",
    "fig2 = plt.figure(figsize=(9,6))\n",
    "fig2.suptitle(\"Integrand plot vs k with envelope\")\n",
    "ax2 = fig2.add_subplot(111)\n",
    "\n",
    "k_min = 0\n",
    "k_max = 100\n",
    "Npts = 100\n",
    "\n",
    "ax2.set_ylim([-10, 40])\n",
    "ax2.set_xlim([k_min, k_max])\n",
    "ax2.set_ylabel(r'$f(k;r,t)$',fontsize = 15)\n",
    "ax2.set_xlabel(r'$k$',fontsize = 15)\n",
    "ax2.grid(True)\n",
    "\n",
    "# Generate x-y values\n",
    "k2 = np.linspace(k_min,k_max,Npts)\n",
    "def f_vect(K,r,t):\n",
    "    return np.array([f(k,r,t) for k in K])\n",
    "\n",
    "def e_vect(K,r,t):\n",
    "    return np.array([e(k,r,t) for k in K])\n",
    "\n",
    "# Add the sliders\n",
    "@widgets.interact(r=(0.001, 100, 0.1), t=(0.001, 10, .01), Npts=(100,10000, 1))\n",
    "def update2(r = 1.0, t=1.0, Npts=1000):\n",
    "    [l.remove() for l in ax2.lines]\n",
    "    k2 = np.linspace(k_min,k_max,Npts)\n",
    "    ax2.plot(k2, f_vect(k2,r,t), color='C3')\n",
    "    ax2.plot(k2, e_vect(k2,r,t), color='C0')"
   ]
  },
  {
   "cell_type": "markdown",
   "metadata": {},
   "source": [
    "## Approximations\n",
    "\n",
    "Now it is easy to see how to find a limit for our integration. Specifically we can use this envelope equation to calculate the maximum $k$ to integrate to based on a small number $\\delta$ given by the user.\n",
    "\n",
    "To do this we approximate the envelope for the interval where $k>\\frac{2\\omega_0}{c}$ by the limit of the numerator like so:\n",
    "\n",
    "$$ \\varepsilon(k;\\vec{x},t) \\approx \\frac{2\\omega_0}{c} \\sqrt{\\frac{16 \\pi^4 c^2}{\\delta^2 \\left|\\vec{x}\\right|^2t^2}+1}$$\n",
    "\n",
    "Now the other thing we need to do is to find the step based on the frequency. That should not be hard though because the frequency is only due to a one sin at large $k$'s. Specifically, we know that the frequency f is equal to\n",
    "\n",
    "$$ f = \\frac{r}{2\\pi} $$\n",
    "\n",
    "Therefore now that we know that, we want to analyse the period in $N_{period} = N_p$ points. Therefore here is the number of points per segment as a function of the given varibles\n",
    "\n",
    "$$N_{pts} = k_0 f N_p = \\frac{k_0 r}{2\\pi} N_p = \\frac{\\omega_0 \\left|\\vec{x}\\right| N_p}{c \\pi} \\sqrt{\\frac{16 \\pi^4 c^2}{\\delta^2 \\left|\\vec{x}\\right|^2t^2}+1}$$\n",
    "\n",
    "By choosing our variables sufficiently well we can finally figure out the number of operations for the calculation of one point from the integral. This is graphed below."
   ]
  },
  {
   "cell_type": "code",
   "execution_count": 8,
   "metadata": {},
   "outputs": [
    {
     "output_type": "display_data",
     "data": {
      "text/plain": "Canvas(toolbar=Toolbar(toolitems=[('Home', 'Reset original view', 'home', 'home'), ('Back', 'Back to  previous…",
      "application/vnd.jupyter.widget-view+json": {
       "version_major": 2,
       "version_minor": 0,
       "model_id": "43128017ab604e28ba020314f6e504ce"
      }
     },
     "metadata": {}
    },
    {
     "output_type": "display_data",
     "data": {
      "text/plain": "interactive(children=(FloatSlider(value=0.001, description='delta', max=1.0, min=1e-05, step=1e-05), IntSlider…",
      "application/vnd.jupyter.widget-view+json": {
       "version_major": 2,
       "version_minor": 0,
       "model_id": "a37e576b078f41aebacf2b0e22ba1bd8"
      }
     },
     "metadata": {}
    }
   ],
   "source": [
    "# Set up the plot\n",
    "fig3 = plt.figure(figsize=(9,6))\n",
    "fig3.suptitle(\"Number of points vs radius\")\n",
    "ax3 = fig3.add_subplot(111)\n",
    "\n",
    "r_min = 1e-5\n",
    "r_max = 100\n",
    "Npts = 1000\n",
    "\n",
    "ax3.set_xlim([r_min, r_max])\n",
    "ax3.set_ylabel(r'$N_{pts}$',fontsize = 15)\n",
    "ax3.set_xlabel(r'$r$',fontsize = 15)\n",
    "ax3.grid(True)\n",
    "\n",
    "# Generate x-y values\n",
    "r = np.linspace(r_min,r_max,Npts)\n",
    "def Npts_vect(R,delta,N_p,t):\n",
    "    return np.array([w_0 * r * N_p/(c * np.pi) * (16*np.pi**4 * c**2/(delta**2 * r**2 * t**2)* np.exp(-2*w_0*t) + 1)**0.5 for r in R])\n",
    "\n",
    "# Add the sliders\n",
    "@widgets.interact(delta=(1e-5, 1, 1e-5), N_p=(1, 1000, 10), t=(1e-5,100, 0.1))\n",
    "def update3(delta = 1e-3, N_p=100, t=1):\n",
    "    [l.remove() for l in ax3.lines]\n",
    "    N = Npts_vect(r,delta,N_p,t)\n",
    "    ax3.plot(r, N, color='C3')\n",
    "    ax3.set_ylim(min(N),max(N))"
   ]
  },
  {
   "cell_type": "markdown",
   "metadata": {},
   "source": [
    "## Performing the integration\n",
    "\n",
    "Now we are actually going to perform the integration for the wave. To do this we are going to use a very simple integration algoritm by using the 1/3 Simpson's rule applied to each interval to hopefully reduce the number of points evaluated by an order of magnitude or two.\n",
    "\n",
    "To do this the basic idea is to integrate over an entire volume by estimating the integral between adjacent points $x_i$ and $x_{i+1}$ as shown below.\n",
    "\n",
    "$$\\int_{x_i}^{x_{i+1}} f(x) dx \\approx \\frac{N_{pts}}{6 k_0} \\left[f(x_i) + 4 f\\left(\\frac{x_i + x_{i+1}}{2}\\right) + f(x_{i+1})\\right]$$"
   ]
  },
  {
   "cell_type": "code",
   "execution_count": 9,
   "metadata": {},
   "outputs": [],
   "source": [
    "# Performing Simpson's integration over a predefined function\n",
    "\n",
    "# First do it between two points\n",
    "def simps_point(f,a,b,Dx=-1,params=()):\n",
    "    if Dx<0: Dx = abs(a-b)\n",
    "    \n",
    "    if params == ():\n",
    "        return Dx/6 * (f(a) + 4*f((a+b)/2) + f(b))\n",
    "    else:\n",
    "        return Dx/6 * (f(a,*params) + 4*f((a+b)/2,*params) + f(b,*params))\n",
    "\n",
    "# Now do it for Npts points in an interval\n",
    "def simps(f,a,b,Npts,progress = False,params = ()):\n",
    "    Dx = abs(a-b)/Npts\n",
    "    \n",
    "    integral = 0\n",
    "    if progress: \n",
    "        for i in tqdm(range(0,int(Npts))): \n",
    "            integral += simps_point(f,a,a+i*Dx,Dx,params)\n",
    "        \n",
    "    else: \n",
    "        for i in range(0,int(Npts)): \n",
    "            integral += simps_point(f,a,a+i*Dx,Dx,params)\n",
    "        \n",
    "    return integral"
   ]
  },
  {
   "cell_type": "code",
   "execution_count": 10,
   "metadata": {},
   "outputs": [],
   "source": [
    "# Now that we have our integrator we can attempt to calculate the integral\n",
    "\n",
    "# Function to calculate the number of points given a particular set of constants\n",
    "def Npts(r,t,delta,Np,w_0,c):\n",
    "    return w_0 * r * Np/(c * np.pi) * (16*np.pi**4 * c**2/(delta**2 * r**2 * t**2)* np.exp(-2*w_0*t) + 1)**0.5\n",
    "\n",
    "\n",
    "#function to calculate the maximum point to integrate based on delta\n",
    "def k_0(r,t,delta,w_0,c):\n",
    "    return 2*w_0/c * (16*np.pi**4*c**2/(delta**2 * r**2 * t**2)* np.exp(-2*w_0*t) + 1)**0.5\n",
    "\n",
    "\n",
    "# Now we are ready to calculate the integral for a single set of parameters\n",
    "def F(r,t,delta,Np,w_0,c,progress = False):\n",
    "    return simps(f, 1e-4, k_0(r,t,delta,w_0,c), Npts(r,t,delta,Np,w_0,c), params=(r,t,w_0,c), progress = progress)\n",
    "\n",
    "# print(F(1,1e-2,5e-3,7,w_0,c,progress = True))"
   ]
  },
  {
   "cell_type": "markdown",
   "metadata": {},
   "source": [
    "## Plotting the Fundamental Solution\n",
    "\n",
    "Now that we can calculate 1 point we can calculate a range of points! Therefore why don't we show the fundamental solution over a radius over time? \n",
    "\n",
    "Let's try to write a function that can calculate this for a range of values of r form r_min to r_max and t from t_min to t_max with respective dr and dt's. And plot at the end!\n"
   ]
  },
  {
   "cell_type": "code",
   "execution_count": 11,
   "metadata": {},
   "outputs": [],
   "source": [
    "def F_range(r_min,r_max,Nr,t_min,t_max,Nt,delta,Np,w_0,c,progress = True):\n",
    "    \n",
    "    \"\"\"Returns a Meshgrid for the 3D representation of wave in r and t\"\"\"\n",
    "    \n",
    "    print(\"\"\"\n",
    "    Simulation the fundamental solution of a sound wave produced by a delta source\n",
    "    ------------------------------------------------------------------------------\n",
    "    The simulation will generate a (\"\"\",Nr,\"\"\"x\"\"\",Nt,\"\"\") grid that contains the solution\n",
    "    over the mesh.\n",
    "    Ranges:\n",
    "        time: \"\"\",t_min,\"\"\",\"\"\",t_max,\"\"\"\\tdt =\"\"\",(t_max-t_min)/Nt,\"\"\"\n",
    "        dist: \"\"\",r_min,\"\"\",\"\"\",r_max,\"\"\"\\tdr =\"\"\",(r_max-r_min)/Nr,\"\"\"\n",
    "        \n",
    "    Constants:\n",
    "        c    =\"\"\",c  ,\"\"\"\n",
    "        w_0  =\"\"\",w_0,\"\"\"\n",
    "        2w/c =\"\"\",2*w_0/c,\"\"\"\n",
    "        \n",
    "    Integration Params:\n",
    "        δ      =\"\"\",delta,\"\"\" \n",
    "        k0_m   =\"\"\",k_0(r_min,t_min,delta,w_0,c),\"\"\"\n",
    "        k0_M   =\"\"\",k_0(r_max,t_min,delta,w_0,c),\"\"\"\n",
    "        Np     =\"\"\",Np,\"\"\"\n",
    "        Npts_m =\"\"\",int(Npts(r_min,t_max,delta,Np,w_0,c)),\"\"\"\n",
    "        Npts_M =\"\"\",int(Npts(r_max,t_min,delta,Np,w_0,c)),\"\"\"\n",
    "\n",
    "    Time remaining:\"\"\")\n",
    "    \n",
    "    R = np.linspace(r_min,r_max,Nr)\n",
    "    T = np.linspace(t_min,t_max,Nt)\n",
    "    \n",
    "    grid = []\n",
    "    if progress:\n",
    "        for t in tqdm(T):\n",
    "            grid.append([])\n",
    "            for r in R:\n",
    "                grid[-1].append(F(r,t,delta,Np,w_0,c))\n",
    "    else: \n",
    "        for t in T:\n",
    "            grid.append([])\n",
    "            for r in R:\n",
    "                grid[-1].append(F(r,t,delta,Np,w_0,c))\n",
    "                \n",
    "    return np.array(grid)\n",
    "\n",
    "\n",
    "def F_slice(r_min,r_max,Nr,t,delta,Np,w_0,c,progress = True):\n",
    "    \n",
    "    \"\"\"Returns The radius range for a particular time t\"\"\"\n",
    "    \n",
    "    print(\"\"\"\n",
    "    Simulation the fundamental solution of a sound wave produced by a delta source\n",
    "    ------------------------------------------------------------------------------\n",
    "    The simulation will generate a (\"\"\",Nr,\"\"\"x\"\"\",Nt,\"\"\") grid that contains the solution\n",
    "    over the mesh.\n",
    "    Ranges:\n",
    "        time: \"\"\",t,\"\"\"\n",
    "        dist: \"\"\",r_min,\"\"\",\"\"\",r_max,\"\"\"\\tdr =\"\"\",(r_max-r_min)/Nr,\"\"\"\n",
    "        \n",
    "    Constants:\n",
    "        c    =\"\"\",c  ,\"\"\"\n",
    "        w_0  =\"\"\",w_0,\"\"\"\n",
    "        2w/c =\"\"\",2*w_0/c,\"\"\"\n",
    "        \n",
    "    Integration Params:\n",
    "        δ      =\"\"\",delta,\"\"\" \n",
    "        k0_m   =\"\"\",k_0(r_min,t,delta,w_0,c),\"\"\"\n",
    "        k0_M   =\"\"\",k_0(r_max,t,delta,w_0,c),\"\"\"\n",
    "        Np     =\"\"\",Np,\"\"\"\n",
    "        Npts_m =\"\"\",int(Npts(r_min,t,delta,Np,w_0,c)),\"\"\"\n",
    "        Npts_M =\"\"\",int(Npts(r_max,t,delta,Np,w_0,c)),\"\"\"\n",
    "\n",
    "    Time remaining:\"\"\")\n",
    "    \n",
    "    R = np.linspace(r_min,r_max,Nr)\n",
    "    T = np.linspace(t_min,t_max,Nt)\n",
    "    \n",
    "    grid = []\n",
    "    if progress:\n",
    "        for r in tqdm(R):\n",
    "            grid.append(F(r,t,delta,Np,w_0,c))\n",
    "    else: \n",
    "        for r in R:\n",
    "            grid.append(F(r,t,delta,Np,w_0,c))\n",
    "                \n",
    "    return np.array(grid)"
   ]
  },
  {
   "cell_type": "code",
   "execution_count": 12,
   "metadata": {},
   "outputs": [
    {
     "output_type": "stream",
     "name": "stderr",
     "text": [
      "100%|██████████| 5/5 [00:00<00:00, 52.83it/s]\n",
      "    Simulation the fundamental solution of a sound wave produced by a delta source\n",
      "    ------------------------------------------------------------------------------\n",
      "    The simulation will generate a ( 5 x 5 ) grid that contains the solution\n",
      "    over the mesh.\n",
      "    Ranges:\n",
      "        time:  0.1 , 0.2 \tdt = 0.02 \n",
      "        dist:  0.001 , 0.005 \tdr = 0.0008 \n",
      "        \n",
      "    Constants:\n",
      "        c    = 1210 \n",
      "        w_0  = 696981 \n",
      "        2w/c = 1152.0347107438017 \n",
      "        \n",
      "    Integration Params:\n",
      "        δ      = 0.001  \n",
      "        k0_m   = 1152.0347107438017 \n",
      "        k0_M   = 1152.0347107438017 \n",
      "        Np     = 100 \n",
      "        Npts_m = 18 \n",
      "        Npts_M = 91 \n",
      "\n",
      "    Time remaining:\n",
      "\n"
     ]
    },
    {
     "output_type": "execute_result",
     "data": {
      "text/plain": [
       "array([[ 2.78423758e+02,  2.48160593e+02, -9.32126189e+02,\n",
       "         1.20852099e+05,  8.09205465e+02],\n",
       "       [ 2.78419936e+02,  2.48156901e+02,  2.70549422e+02,\n",
       "         7.32315391e+03,  2.25886107e+05],\n",
       "       [ 2.78415266e+02,  2.48152737e+02,  2.42276989e+02,\n",
       "        -2.02534731e+03,  1.59796952e+02],\n",
       "       [ 2.78409745e+02,  2.48147817e+02,  2.42016699e+02,\n",
       "        -2.54184191e+02, -2.00392374e+04],\n",
       "       [ 2.78403376e+02,  2.48142140e+02,  2.42096136e+02,\n",
       "         2.37902083e+02,  2.41539555e+02]])"
      ]
     },
     "metadata": {},
     "execution_count": 12
    }
   ],
   "source": [
    "F_range(0.001,0.005,5,0.1,0.2,5,delta=1e-3,Np=100,w_0=696981,c=1210)"
   ]
  },
  {
   "cell_type": "code",
   "execution_count": 13,
   "metadata": {},
   "outputs": [
    {
     "output_type": "stream",
     "name": "stderr",
     "text": [
      "  0%|          | 0/2 [00:00<?, ?it/s]\n",
      "    Simulation the fundamental solution of a sound wave produced by a delta source\n",
      "    ------------------------------------------------------------------------------\n",
      "    The simulation will generate a ( 100 x 2 ) grid that contains the solution\n",
      "    over the mesh.\n",
      "    Ranges:\n",
      "        time:  0.1 , 0.2 \tdt = 0.05 \n",
      "        dist:  0.0001 , 0.005 \tdr = 4.9e-05 \n",
      "        \n",
      "    Constants:\n",
      "        c    = 1210 \n",
      "        w_0  = 696981 \n",
      "        2w/c = 1152.0347107438017 \n",
      "        \n",
      "    Integration Params:\n",
      "        δ      = 0.001  \n",
      "        k0_m   = 1152.0347107438017 \n",
      "        k0_M   = 1152.0347107438017 \n",
      "        Np     = 5000 \n",
      "        Npts_m = 91 \n",
      "        Npts_M = 4583 \n",
      "\n",
      "    Time remaining:\n",
      "100%|██████████| 2/2 [00:20<00:00, 10.15s/it]\n"
     ]
    },
    {
     "output_type": "display_data",
     "data": {
      "text/plain": "Canvas(toolbar=Toolbar(toolitems=[('Home', 'Reset original view', 'home', 'home'), ('Back', 'Back to  previous…",
      "application/vnd.jupyter.widget-view+json": {
       "version_major": 2,
       "version_minor": 0,
       "model_id": "2bb7e8393de54066b96d7ee6b5b189f7"
      }
     },
     "metadata": {}
    },
    {
     "output_type": "execute_result",
     "data": {
      "text/plain": [
       "<mpl_toolkits.mplot3d.art3d.Poly3DCollection at 0x7f8444227eb8>"
      ]
     },
     "metadata": {},
     "execution_count": 13
    }
   ],
   "source": [
    "# Now create a 3D plot of the thingy\n",
    "\n",
    "def get_meshgrid(r_min,r_max,Nr,t_min,t_max,Nt):\n",
    "    R = np.linspace(r_min,r_max,Nr)\n",
    "    T = np.linspace(t_min,t_max,Nt)\n",
    "    \n",
    "    return np.meshgrid(R,T)\n",
    "\n",
    "# Parameters\n",
    "r_min = 0.0001\n",
    "r_max = 0.005\n",
    "Nr    = 100\n",
    "t_min = 0.1\n",
    "t_max = 0.2\n",
    "Nt    = 2\n",
    "\n",
    "rr, tt = get_meshgrid(r_min,r_max,Nr,t_min,t_max,Nt)\n",
    "zz = F_range(r_min,r_max,Nr,t_min,t_max,Nt,delta=1e-3,Np=5000,w_0=696981,c=1210)\n",
    "\n",
    "fig4 = plt.figure()\n",
    "ax4 = fig4.add_subplot(111, projection='3d')\n",
    "\n",
    "ax4.plot_surface(rr, tt, zz)"
   ]
  },
  {
   "cell_type": "code",
   "execution_count": 14,
   "metadata": {},
   "outputs": [
    {
     "output_type": "display_data",
     "data": {
      "text/plain": "Canvas(toolbar=Toolbar(toolitems=[('Home', 'Reset original view', 'home', 'home'), ('Back', 'Back to  previous…",
      "application/vnd.jupyter.widget-view+json": {
       "version_major": 2,
       "version_minor": 0,
       "model_id": "f1146a611132447cb9a4490dd0ce3c30"
      }
     },
     "metadata": {}
    },
    {
     "output_type": "stream",
     "name": "stderr",
     "text": [
      "  5%|▌         | 5/100 [00:00<00:02, 47.49it/s]\n",
      "    Simulation the fundamental solution of a sound wave produced by a delta source\n",
      "    ------------------------------------------------------------------------------\n",
      "    The simulation will generate a ( 100 x 2 ) grid that contains the solution\n",
      "    over the mesh.\n",
      "    Ranges:\n",
      "        time:  1 \n",
      "        dist:  0.0003 , 0.01 \tdr = 9.7e-05 \n",
      "        \n",
      "    Constants:\n",
      "        c    = 1210 \n",
      "        w_0  = 696981 \n",
      "        2w/c = 1152.0347107438017 \n",
      "        \n",
      "    Integration Params:\n",
      "        δ      = 0.001  \n",
      "        k0_m   = 1152.0347107438017 \n",
      "        k0_M   = 1152.0347107438017 \n",
      "        Np     = 5000 \n",
      "        Npts_m = 275 \n",
      "        Npts_M = 9167 \n",
      "\n",
      "    Time remaining:\n",
      "100%|██████████| 100/100 [00:20<00:00,  4.95it/s]\n"
     ]
    },
    {
     "output_type": "execute_result",
     "data": {
      "text/plain": [
       "[<matplotlib.lines.Line2D at 0x7f8444017780>]"
      ]
     },
     "metadata": {},
     "execution_count": 14
    }
   ],
   "source": [
    "# Set up the plot\n",
    "fig5 = plt.figure(figsize=(9,6))\n",
    "fig5.suptitle(\"Integrand plot vs k\")\n",
    "ax5 = fig5.add_subplot(111)\n",
    "\n",
    "r_min = 3e-4\n",
    "r_max = 1e-2\n",
    "Nr = 100\n",
    "t = 1\n",
    "\n",
    "ax5.set_xlim([r_min, r_max])\n",
    "ax5.set_ylabel(r'$P(r,t) [Pa]$',fontsize = 15)\n",
    "ax5.set_xlabel(r'$r [m]$',fontsize = 15)\n",
    "ax5.grid(True)\n",
    "\n",
    "R = np.linspace(r_min,r_max,Nr)\n",
    "P = F_slice(r_min,r_max,Nr,t,delta=1e-3,Np=5000,w_0=696981,c=1210,progress = True)\n",
    "\n",
    "ax5.plot(R,P,color='C3')"
   ]
  },
  {
   "cell_type": "code",
   "execution_count": null,
   "metadata": {},
   "outputs": [],
   "source": []
  }
 ],
 "metadata": {
  "kernelspec": {
   "display_name": "Python 3",
   "language": "python",
   "name": "python3"
  },
  "language_info": {
   "codemirror_mode": {
    "name": "ipython",
    "version": 3
   },
   "file_extension": ".py",
   "mimetype": "text/x-python",
   "name": "python",
   "nbconvert_exporter": "python",
   "pygments_lexer": "ipython3",
   "version": "3.6.5-final"
  }
 },
 "nbformat": 4,
 "nbformat_minor": 2
}