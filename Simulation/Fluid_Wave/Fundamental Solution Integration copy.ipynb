{
 "cells": [
  {
   "cell_type": "markdown",
   "metadata": {},
   "source": [
    "# Solving Viscous Wave Equation\n",
    "\n",
    "This notebook is used to solve the particular viscous wave equation for the setup of a muon passing through liquid Xenon. The goal is to find the pressure distribution in a container and its decay as a function of distance and time.\n",
    "\n",
    "## Wave equation\n",
    "\n",
    "We can derive the viscous wave equation through the linearised Navier-Stokes Equations. The full derivation is in the notes, but the point is that we have added a single term that takes into account the viscous effects. The equation turns out to be as follows:\n",
    "\n",
    "$$\\Delta \\left(p(\\vec{x},t) - \\frac{1}{\\omega_0}\\frac{\\partial}{\\partial t}p(\\vec{x},t)\\right) = \\frac{1}{c^2} \\frac{\\partial}{\\partial}p(\\vec{x},t)$$\n",
    "\n",
    "where $c$ is the speed of the wave in the medium, $\\omega_0$ is the coefficient responsible for damping, and $p(\\vec{x},t)$ is pressure as a function of space and time.\n",
    "\n",
    "We now introduce the linear differential operator $\\mathcal{L}$.\n",
    "\n",
    "$$\\mathcal{L} := \\Delta \\left(p(\\vec{x},t) - \\frac{1}{\\omega_0}\\frac{\\partial}{\\partial t}p(\\vec{x},t)\\right) - \\frac{1}{c^2} \\frac{\\partial}{\\partial}p(\\vec{x},t)$$\n",
    "\n",
    "## Fundamental Solution\n",
    "\n",
    "Now we search for the fundamental solution $F(\\vec{x},t)$ that satisfies the follwing.\n",
    "\n",
    "$$\\mathcal{L}F(\\vec{x},t) = \\delta (\\vec{x})\\delta(t)$$\n",
    "\n",
    "We can solve it using fourier methods and then we obtain the fundamental solution in terms of this integral over fourier momentum. Now we just need to evaluate this.\n",
    "\n",
    "$$F(\\vec{x},t) = \\Theta(t) \\int_0^\\infty 8\\pi^2 c^2 k^2 e^{-\\frac{c^2 k^2}{2 \\omega_0}t} \\frac{e^{i k r} - e^{-ikr}}{2ikr} \\frac{e^{ikct\\sqrt{1-\\frac{k^2c^2}{4\\omega_0}}} - e^{-ikct\\sqrt{1-\\frac{k^2c^2}{4\\omega_0}}}}{2ikct\\sqrt{1-\\frac{k^2c^2}{4\\omega_0}}}dk$$\n",
    "\n",
    "Where $\\Theta(t)$ is the Heaviside function and $r:=\\left| \\vec{x}\\right|$\n",
    "\n",
    "## Integration\n",
    "\n",
    "To numerically evaluate this expression we first need to study it. Therefore let's define the function f as the inner part of the integral like so.\n",
    "\n",
    "$$F(\\vec{x},t) = \\Theta(t)\\int_0^\\infty f(k;\\vec{x},t)dk$$\n",
    "\n",
    "Now we realise that the function f is a piecewise function plotted below."
   ]
  },
  {
   "cell_type": "code",
   "execution_count": 3,
   "metadata": {},
   "outputs": [],
   "source": [
    "#import relevant libraries\n",
    "import numpy as np\n",
    "import scipy.constants as const\n",
    "import matplotlib.pyplot as plt\n",
    "from mpl_toolkits.mplot3d import Axes3D\n",
    "import ipywidgets as widgets\n",
    "from tqdm import tqdm\n",
    "\n",
    "# if this doesn't work run: \"python3 -m pip install ipympl\" \n",
    "# or just comment it out and learn to live without sliders on the graphs\n",
    "%matplotlib widget       \n",
    "\n",
    "# Define the relevant constants\n",
    "c   = 1    # Speed of wave\n",
    "w_0 = 1    # Damping frequency\n",
    "\n",
    "# Define integrable function f\n",
    "def f(k,r,t,w_0=w_0,c=c):\n",
    "    if t < 0:\n",
    "        return 0\n",
    "    \n",
    "    if k <= 0:\n",
    "        return 0;\n",
    "    \n",
    "    if k < 2*w_0/c:\n",
    "        return 8 * np.pi**2 * c**2 * k**2 * np.exp(-c**2 * k**2 * t / (2 * w_0)) *\\\n",
    "                np.sinc(k*c*t/np.pi *(1 - k**2 * c**2 / (4 * w_0**2))**0.5) *\\\n",
    "                np.sin(r*k)/(r*k)\n",
    "    \n",
    "    elif k > 2*w_0/c:\n",
    "        return 8 * np.pi**2 * c**2 * k**2 *\\\n",
    "                (np.exp(k*c*t *(-1 + k**2 * c**2 / (4 * w_0**2))**0.5 - c**2 * k**2 * t / (2 * w_0)) -\\\n",
    "                np.exp(-k*c*t *(-1 + k**2 * c**2 / (4 * w_0**2))**0.5 - c**2 * k**2 * t / (2 * w_0)))/\\\n",
    "                (2*k*c*t *(-1 + k**2 * c**2 / (4 * w_0**2))**0.5 ) * np.sin(r*k)/(r*k)\n",
    "    else: return 0\n",
    "    \n",
    "# Define the envelope function of f\n",
    "def e(k,r,t):\n",
    "    if t < 0:\n",
    "        return 0\n",
    "    \n",
    "    if k <= 0:\n",
    "        return 0;\n",
    "    \n",
    "    if k < 2*w_0/c:\n",
    "        return 8 * np.pi**2 * c**2 * np.exp(-c**2 * k**2 * t / (2 * w_0))/\\\n",
    "                (r*c*t *(1 - k**2 * c**2 / (4 * w_0**2))**0.5)\n",
    "    \n",
    "    elif k > 2*w_0/c:\n",
    "        return 8 * np.pi**2 * c**2 *\\\n",
    "                (np.exp(k*c*t *(-1 + k**2 * c**2 / (4 * w_0**2))**0.5 - c**2 * k**2 * t / (2 * w_0)) -\\\n",
    "                np.exp(-k*c*t *(-1 + k**2 * c**2 / (4 * w_0**2))**0.5 - c**2 * k**2 * t / (2 * w_0)))/\\\n",
    "                (2*c*t *(-1 + k**2 * c**2 / (4 * w_0**2))**0.5 )/r\n",
    "    else: return 0"
   ]
  },
  {
   "cell_type": "code",
   "execution_count": 4,
   "metadata": {},
   "outputs": [
    {
     "output_type": "display_data",
     "data": {
      "text/plain": "Canvas(toolbar=Toolbar(toolitems=[('Home', 'Reset original view', 'home', 'home'), ('Back', 'Back to  previous…",
      "application/vnd.jupyter.widget-view+json": {
       "version_major": 2,
       "version_minor": 0,
       "model_id": "44f3a7aeb76a4a9fa1225b1cc4062dca"
      }
     },
     "metadata": {}
    },
    {
     "output_type": "display_data",
     "data": {
      "text/plain": "interactive(children=(FloatSlider(value=1.0, description='r', min=0.001), FloatSlider(value=1.0, description='…",
      "application/vnd.jupyter.widget-view+json": {
       "version_major": 2,
       "version_minor": 0,
       "model_id": "e796475627bf42d9ab4cfa56d53c5ef1"
      }
     },
     "metadata": {}
    }
   ],
   "source": [
    "# Set up the plot\n",
    "fig = plt.figure(figsize=(9,6))\n",
    "fig.suptitle(\"Integrand plot vs k\")\n",
    "ax = fig.add_subplot(111)\n",
    "\n",
    "k_min = 0\n",
    "k_max = 100\n",
    "Npts = 100\n",
    "\n",
    "ax.set_xlim([k_min, k_max])\n",
    "ax.set_ylabel(r'$f(k;r,t)$',fontsize = 15)\n",
    "ax.set_xlabel(r'$k$',fontsize = 15)\n",
    "ax.grid(True)\n",
    "\n",
    "# Generate x-y values\n",
    "k = np.linspace(k_min,k_max,Npts)\n",
    "def f_vect(K,r,t):\n",
    "    return np.array([f(k,r,t) for k in K])\n",
    "\n",
    "# Add the sliders\n",
    "@widgets.interact(r=(0.001, 100, 0.1), t=(0.001, 10, .01), Npts=(100,10000, 1))\n",
    "def update(r =1.0, t=1.0, Npts=1000):\n",
    "    [l.remove() for l in ax.lines]\n",
    "    k = np.linspace(k_min,k_max,Npts)\n",
    "    ax.plot(k, f_vect(k,r,t), color='C3')"
   ]
  },
  {
   "cell_type": "markdown",
   "metadata": {},
   "source": [
    "# Integration\n",
    "\n",
    "Now that we have the plot we need to somehow integrate it. To do this efficiently we need to find when does the wave decay over a specific amount. As a result we need to find its envelope. To do this we have to study each of the pieces of the piecewise function seperately.\n",
    "\n",
    "## Envelope\n",
    "\n",
    "Now based on the analytic expression of the integrand we can conclude that the envelope function $\\varepsilon(k;r,t)$ is the following.\n",
    "\n",
    "$$\n",
    "\\varepsilon(k;r,t) = \\begin{cases}\n",
    "\\frac{8\\pi^2 c^2 e^{-\\frac{c^2 k^2}{2 \\omega_0}t}}{rct\\sqrt{1-\\frac{k^2c^2}{4\\omega_0}}} & \\text{if } k \\leq \\frac{2\\omega_0}{c}\\\\ \n",
    "8\\pi^2 c^2 e^{-\\frac{c^2 k^2}{2 \\omega_0}t}\\frac{\\text{sinh}\\left(kct\\sqrt{\\frac{k^2c^2}{4\\omega_0}-1}\\right)}{rct\\sqrt{\\frac{k^2c^2}{4\\omega_0}-1}} & \\text{if } k > \\frac{2\\omega_0}{c}\\\\ \n",
    "\\end{cases}\n",
    "$$\n",
    "\n",
    "Let's try to plot one against the other"
   ]
  },
  {
   "cell_type": "code",
   "execution_count": 5,
   "metadata": {
    "scrolled": false
   },
   "outputs": [
    {
     "output_type": "display_data",
     "data": {
      "text/plain": "Canvas(toolbar=Toolbar(toolitems=[('Home', 'Reset original view', 'home', 'home'), ('Back', 'Back to  previous…",
      "application/vnd.jupyter.widget-view+json": {
       "version_major": 2,
       "version_minor": 0,
       "model_id": "5862b2cce0d34b028593b2b28e0aca1b"
      }
     },
     "metadata": {}
    },
    {
     "output_type": "display_data",
     "data": {
      "text/plain": "interactive(children=(FloatSlider(value=1.0, description='r', min=0.001), FloatSlider(value=1.0, description='…",
      "application/vnd.jupyter.widget-view+json": {
       "version_major": 2,
       "version_minor": 0,
       "model_id": "f6e5a79ac0374bfdb686c0c52a15f808"
      }
     },
     "metadata": {}
    }
   ],
   "source": [
    "# Set up the plot\n",
    "fig2 = plt.figure(figsize=(9,6))\n",
    "fig2.suptitle(\"Integrand plot vs k with envelope\")\n",
    "ax2 = fig2.add_subplot(111)\n",
    "\n",
    "k_min = 0\n",
    "k_max = 100\n",
    "Npts = 100\n",
    "\n",
    "ax2.set_ylim([-10, 40])\n",
    "ax2.set_xlim([k_min, k_max])\n",
    "ax2.set_ylabel(r'$f(k;r,t)$',fontsize = 15)\n",
    "ax2.set_xlabel(r'$k$',fontsize = 15)\n",
    "ax2.grid(True)\n",
    "\n",
    "# Generate x-y values\n",
    "k2 = np.linspace(k_min,k_max,Npts)\n",
    "def f_vect(K,r,t):\n",
    "    return np.array([f(k,r,t) for k in K])\n",
    "\n",
    "def e_vect(K,r,t):\n",
    "    return np.array([e(k,r,t) for k in K])\n",
    "\n",
    "# Add the sliders\n",
    "@widgets.interact(r=(0.001, 100, 0.1), t=(0.001, 10, .01), Npts=(100,10000, 1))\n",
    "def update2(r = 1.0, t=1.0, Npts=1000):\n",
    "    [l.remove() for l in ax2.lines]\n",
    "    k2 = np.linspace(k_min,k_max,Npts)\n",
    "    ax2.plot(k2, f_vect(k2,r,t), color='C3')\n",
    "    ax2.plot(k2, e_vect(k2,r,t), color='C0')"
   ]
  },
  {
   "cell_type": "markdown",
   "metadata": {},
   "source": [
    "## Approximations\n",
    "\n",
    "Now to analytically calculate the integral of that equation we need to make certain approximations. To do this we need some intuitive understanding of the order of magnitude of the constants we are using. \n",
    "\n",
    "### Constants\n",
    "\n",
    "We have two defining constants in the problem. The decay frequency $\\omega_0$ and the speed of sound in LXe $c$. From the wave equation we have derived that the speed of sound is:\n",
    "\n",
    "$$c = \\sqrt{\\frac{K}{\\rho_0}}$$\n",
    "\n",
    "Where $K$ is the bulk modulus and $\\rho_0$ is the rest density of Liquid Xenon. Now the biggest question comes from trying to find values for these constants. From [nist](https://webbook.nist.gov/cgi/fluid.cgi?ID=C7440633&Action=Page) we obtain the fololowing list of constants:\n",
    "\n",
    "- Bulk Modulus $K$ $[\\frac{kg}{s^2 m}]$: $1.2667 \\times 10^9$\n",
    "- Rest Density $\\rho_0$ $[\\frac{kg}{m^3}]$: $2.9663 \\times 10^3$\n",
    "\n",
    "Therefore we calculate the speed of sound in LXe to be:\n",
    "\n",
    "$$c = \\sqrt{\\frac{K}{\\rho_0}} = 653.47 \\frac{m}{s}$$\n",
    "\n",
    "Now for the attenuation frquency $\\omega_0$ we have derived in the equation that it is the ratio of the Bulk modulus to the viscocity. Similartly to the speed of sound we have obtained the following values from [nist](https://webbook.nist.gov/cgi/fluid.cgi?ID=C7440633&Action=Page).\n",
    "\n",
    "- Bulk Modulus $K$ $[\\frac{kg}{s^2 m}]$: $1.2667 \\times 10^9$\n",
    "- viscocity $\\mu$ $[\\text{Pa}s]$: $5.1701 \\times 10^{-4}$\n",
    "\n",
    "We therefore obtain that the attenuation frequency is:\n",
    "\n",
    "$$\\omega_0 = \\frac{K}{\\mu} = 2.4500 \\times 10^{12} $$\n",
    "\n",
    "Now that we have the values we can start estimating the possible evolution of the system, by using some very useful approximations.\n",
    "\n",
    "\n",
    "### Near... Far... wherever you are!\n",
    "\n",
    "We see that there is a special point in $f$ at which the root becomes imaginary. That happens when $k = \\frac{2\\omega_0}{c}$. If we evaluate we see that the graph will be attenuated before that point. Therefore we can approximate the function by just considering the following case where $k \\leq \\frac{2 \\omega_0}{c}$. We obtain the following expression for $f(k;r,t)$.\n",
    "\n",
    "$$f(k;r,t)=\\frac{8\\pi^2 c e^{-\\frac{c^2 k^2}{2 \\omega_0}t}}{rt\\sqrt{1-\\frac{k^2c^2}{4\\omega_0}}} \\sin(k r) \\sin \\left(kct\\sqrt{1-\\frac{k^2c^2}{4\\omega_0}}\\right) $$\n",
    "\n",
    "Now that's a way prettier equation. However it is still a pain in the *** to integrate. Therefore we can consider one more simplification. Let's look at the taylor series of the following function in x centered at 0 $\\forall \\alpha > 0$.\n",
    "\n",
    "$$ \\sqrt{1 - \\alpha x^2} = 1 - \\frac{\\alpha x^2}{2} - \\frac{\\alpha^2 x^4}{8} + \\mathcal{O}(x^6)$$\n",
    "\n",
    "in our case we notice how tiny $\\alpha$ is and hence we drop all the terms except the first in our expansion. Finally we obtain a much more manageble expression for the integral in question. We call that new function $\\phi$.\n",
    "\n",
    "$$f(k;r,t) \\approx \\phi(k;r,t) = \\frac{8\\pi^2 c}{rt} e^{-\\frac{c^2 k^2}{2 \\omega_0}t} \\sin(k r) \\sin \\left(kct\\right)$$\n",
    "\n",
    "In fact we can plot both $f(k;r,t)$ and $\\phi(k;r,t)$ to see their differences."
   ]
  },
  {
   "cell_type": "code",
   "execution_count": null,
   "metadata": {},
   "outputs": [],
   "source": []
  }
 ],
 "metadata": {
  "kernelspec": {
   "display_name": "Python 3",
   "language": "python",
   "name": "python3"
  },
  "language_info": {
   "codemirror_mode": {
    "name": "ipython",
    "version": 3
   },
   "file_extension": ".py",
   "mimetype": "text/x-python",
   "name": "python",
   "nbconvert_exporter": "python",
   "pygments_lexer": "ipython3",
   "version": "3.6.5-final"
  }
 },
 "nbformat": 4,
 "nbformat_minor": 2
}