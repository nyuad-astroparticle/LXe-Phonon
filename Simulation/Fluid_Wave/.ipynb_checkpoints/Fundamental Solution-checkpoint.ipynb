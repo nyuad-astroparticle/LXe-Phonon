{
 "cells": [
  {
   "cell_type": "markdown",
   "metadata": {},
   "source": [
    "# Solving Viscous Wave Equation\n",
    "\n",
    "This notebook is used to solve the particular viscous wave equation for the setup of a muon passing through liquid Xenon. The goal is to find the pressure distribution in a container and its decay as a function of distance and time.\n",
    "\n",
    "## Wave equation\n",
    "\n",
    "We can derive the viscous wave equation through the linearised Navier-Stokes Equations. The full derivation is in the notes, but the point is that we have added a single term that takes into account the viscous effects. The equation turns out to be as follows:\n",
    "\n",
    "$$\\Delta \\left(p(\\vec{x},t) - \\frac{1}{\\omega_0}\\frac{\\partial}{\\partial t}p(\\vec{x},t)\\right) = \\frac{1}{c^2} \\frac{\\partial}{\\partial}p(\\vec{x},t)$$\n",
    "\n",
    "where $c$ is the speed of the wave in the medium, $\\omega_0$ is the coefficient responsible for damping, and $p(\\vec{x},t)$ is pressure as a function of space and time.\n",
    "\n",
    "We now introduce the linear differential operator $\\mathcal{L}$.\n",
    "\n",
    "$$\\mathcal{L} := \\Delta \\left(p(\\vec{x},t) - \\frac{1}{\\omega_0}\\frac{\\partial}{\\partial t}p(\\vec{x},t)\\right) - \\frac{1}{c^2} \\frac{\\partial}{\\partial}p(\\vec{x},t)$$\n",
    "\n",
    "## Fundamental Solution\n",
    "\n",
    "Now we search for the fundamental solution $F(\\vec{x},t)$ that satisfies the follwing.\n",
    "\n",
    "$$\\mathcal{L}F(\\vec{x},t) = \\delta (\\vec{x})\\delta(t)$$\n",
    "\n",
    "We can solve it using fourier methods and then we obtain the fundamental solution in terms of this integral over fourier momentum. Now we just need to evaluate this.\n",
    "\n",
    "$$F(\\vec{x},t) = \\Theta(t) \\int_0^\\infty 8\\pi^2 c^2 k^2 e^{-\\frac{c^2 k^2}{2 \\omega_0}t} \\frac{e^{i k r} - e^{-ikr}}{2ikr} \\frac{e^{ikct\\sqrt{1-\\frac{k^2c^2}{4\\omega_0}}} - e^{-ikct\\sqrt{1-\\frac{k^2c^2}{4\\omega_0}}}}{2ikct\\sqrt{1-\\frac{k^2c^2}{4\\omega_0}}}dk$$\n",
    "\n",
    "Where $\\Theta(t)$ is the Heaviside function and $r:=\\left| \\vec{x}\\right|$\n",
    "\n",
    "## Integration\n",
    "\n",
    "To numerically evaluate this expression we first need to study it. Therefore let's define the function f as the inner part of the integral like so.\n",
    "\n",
    "$$F(\\vec{x},t) = \\Theta(t)\\int_0^\\infty f(k;\\vec{x},t)dk$$\n",
    "\n",
    "Now we realise that the function f is a piecewise function plotted below."
   ]
  },
  {
   "cell_type": "code",
   "execution_count": 14,
   "metadata": {},
   "outputs": [],
   "source": [
    "#import relevant libraries\n",
    "import numpy as np\n",
    "import scipy.constants as const\n",
    "import matplotlib.pyplot as plt\n",
    "from mpl_toolkits.mplot3d import Axes3D\n",
    "import ipywidgets as widgets\n",
    "from tqdm import tqdm\n",
    "\n",
    "# if this doesn't work run: \"python3 -m pip install ipympl\" \n",
    "# or just comment it out and learn to live without sliders on the graphs\n",
    "%matplotlib widget       \n",
    "\n",
    "# Define the relevant constants\n",
    "c   = 653.47     # Speed of wave\n",
    "w_0 = 2.45e12    # Damping frequency\n",
    "\n",
    "# Define integrable function f\n",
    "def f(k,r,t,w_0=w_0,c=c):\n",
    "    if t < 0:\n",
    "        return 0\n",
    "    \n",
    "    if k <= 0:\n",
    "        return 0;\n",
    "    \n",
    "    if k < 2*w_0/c:\n",
    "        return 8 * np.pi**2 * c**2 * k**2 * np.exp(-c**2 * k**2 * t / (2 * w_0)) *\\\n",
    "                np.sinc(k*c*t/np.pi *(1 - k**2 * c**2 / (4 * w_0**2))**0.5) *\\\n",
    "                np.sin(r*k)/(r*k)\n",
    "    \n",
    "    elif k > 2*w_0/c:\n",
    "        return 8 * np.pi**2 * c**2 * k**2 *\\\n",
    "                (np.exp(k*c*t *(-1 + k**2 * c**2 / (4 * w_0**2))**0.5 - c**2 * k**2 * t / (2 * w_0)) -\\\n",
    "                np.exp(-k*c*t *(-1 + k**2 * c**2 / (4 * w_0**2))**0.5 - c**2 * k**2 * t / (2 * w_0)))/\\\n",
    "                (2*k*c*t *(-1 + k**2 * c**2 / (4 * w_0**2))**0.5 ) * np.sin(r*k)/(r*k)\n",
    "    else: return 0\n",
    "    \n",
    "# Define integrable function phi\n",
    "def phi(k,r,t,w_0=w_0,c=c):\n",
    "    if t < 0:\n",
    "        return 0\n",
    "    \n",
    "    if k <= 0:\n",
    "        return 0;\n",
    "    \n",
    "    if k < 2*w_0/c:\n",
    "        return 8 * np.pi**2 * c * np.exp(-c**2 * k**2 * t / (2 * w_0)) * np.sin(k*c*t) * np.sin(r*k)/(r*t)\n",
    "    \n",
    "    elif k > 2*w_0/c:\n",
    "        return 8 * np.pi**2 * c**2 * k**2 *\\\n",
    "                (np.exp(k*c*t *(-1 + k**2 * c**2 / (4 * w_0**2))**0.5 - c**2 * k**2 * t / (2 * w_0)) -\\\n",
    "                np.exp(-k*c*t *(-1 + k**2 * c**2 / (4 * w_0**2))**0.5 - c**2 * k**2 * t / (2 * w_0)))/\\\n",
    "                (2*k*c*t *(-1 + k**2 * c**2 / (4 * w_0**2))**0.5 ) * np.sin(r*k)/(r*k)\n",
    "    else: return 0\n",
    "    \n",
    "# Define the envelope function of f\n",
    "def e(k,r,t):\n",
    "    if t < 0:\n",
    "        return 0\n",
    "    \n",
    "    if k <= 0:\n",
    "        return 0;\n",
    "    \n",
    "    if k < 2*w_0/c:\n",
    "        return 8 * np.pi**2 * c**2 * np.exp(-c**2 * k**2 * t / (2 * w_0))/\\\n",
    "                (r*c*t *(1 - k**2 * c**2 / (4 * w_0**2))**0.5)\n",
    "    \n",
    "    elif k > 2*w_0/c:\n",
    "        return 8 * np.pi**2 * c**2 *\\\n",
    "                (np.exp(k*c*t *(-1 + k**2 * c**2 / (4 * w_0**2))**0.5 - c**2 * k**2 * t / (2 * w_0)) -\\\n",
    "                np.exp(-k*c*t *(-1 + k**2 * c**2 / (4 * w_0**2))**0.5 - c**2 * k**2 * t / (2 * w_0)))/\\\n",
    "                (2*c*t *(-1 + k**2 * c**2 / (4 * w_0**2))**0.5 )/r\n",
    "    else: return 0\n",
    "    \n",
    "    \n",
    "\n",
    "# Define the actual function F\n",
    "def F(r,t,w_0=w_0,c=c):\n",
    "#     if t < 0:\n",
    "#         return 0\n",
    "    \n",
    "    return (np.pi*w_0/(c**2 * t))**0.5 * (np.exp(-r**2*w_0/(c**2 * t) - t*w_0 + (r+c*t)**2*w_0/(2*c**2*t)) -\\\n",
    "                                         np.exp(-r**2*w_0/(c**2 * t) - t*w_0 + (r-c*t)**2*w_0/(2*c**2*t)))"
   ]
  },
  {
   "cell_type": "code",
   "execution_count": 3,
   "metadata": {},
   "outputs": [
    {
     "data": {
      "application/vnd.jupyter.widget-view+json": {
       "model_id": "5c792c3eead6413a8f39a60d13b26132",
       "version_major": 2,
       "version_minor": 0
      },
      "text/plain": [
       "Canvas(toolbar=Toolbar(toolitems=[('Home', 'Reset original view', 'home', 'home'), ('Back', 'Back to previous …"
      ]
     },
     "metadata": {},
     "output_type": "display_data"
    },
    {
     "data": {
      "application/vnd.jupyter.widget-view+json": {
       "model_id": "91841a7a4ca949158e9242690f7b500f",
       "version_major": 2,
       "version_minor": 0
      },
      "text/plain": [
       "interactive(children=(FloatSlider(value=1.0, description='r', min=0.001), FloatSlider(value=1.0, description='…"
      ]
     },
     "metadata": {},
     "output_type": "display_data"
    }
   ],
   "source": [
    "# Set up the plot\n",
    "fig = plt.figure(figsize=(9,6))\n",
    "fig.suptitle(\"Integrand plot vs k\")\n",
    "ax = fig.add_subplot(111)\n",
    "\n",
    "k_min = 0\n",
    "k_max = 7000\n",
    "Npts = 100\n",
    "\n",
    "ax.set_xlim([k_min, k_max])\n",
    "ax.set_ylabel(r'$f(k;r,t)$',fontsize = 15)\n",
    "ax.set_xlabel(r'$k$',fontsize = 15)\n",
    "ax.grid(True)\n",
    "\n",
    "# Generate x-y values\n",
    "k = np.linspace(k_min,k_max,Npts)\n",
    "def f_vect(K,r,t):\n",
    "    return np.array([f(k,r,t) for k in K])\n",
    "\n",
    "# Add the sliders\n",
    "@widgets.interact(r=(0.001, 100, 0.1), t=(0.001, 10, .01), Npts=(100,10000, 1))\n",
    "def update(r =1.0, t=1.0, Npts=1000):\n",
    "    [l.remove() for l in ax.lines]\n",
    "    k = np.linspace(k_min,k_max,Npts)\n",
    "    ax.plot(k, f_vect(k,r,t), color='C3')"
   ]
  },
  {
   "cell_type": "markdown",
   "metadata": {},
   "source": [
    "# Integration\n",
    "\n",
    "Now that we have the plot we need to somehow integrate it. To do this efficiently we need to find when does the wave decay over a specific amount. As a result we need to find its envelope. To do this we have to study each of the pieces of the piecewise function seperately.\n",
    "\n",
    "## Envelope\n",
    "\n",
    "Now based on the analytic expression of the integrand we can conclude that the envelope function $\\varepsilon(k;r,t)$ is the following.\n",
    "\n",
    "$$\n",
    "\\varepsilon(k;r,t) = \\begin{cases}\n",
    "\\frac{8\\pi^2 c^2 e^{-\\frac{c^2 k^2}{2 \\omega_0}t}}{rct\\sqrt{1-\\frac{k^2c^2}{4\\omega_0}}} & \\text{if } k \\leq \\frac{2\\omega_0}{c}\\\\ \n",
    "8\\pi^2 c^2 e^{-\\frac{c^2 k^2}{2 \\omega_0}t}\\frac{\\text{sinh}\\left(kct\\sqrt{\\frac{k^2c^2}{4\\omega_0}-1}\\right)}{rct\\sqrt{\\frac{k^2c^2}{4\\omega_0}-1}} & \\text{if } k > \\frac{2\\omega_0}{c}\\\\ \n",
    "\\end{cases}\n",
    "$$\n",
    "\n",
    "Let's try to plot one against the other"
   ]
  },
  {
   "cell_type": "code",
   "execution_count": 4,
   "metadata": {
    "scrolled": false
   },
   "outputs": [
    {
     "data": {
      "application/vnd.jupyter.widget-view+json": {
       "model_id": "65e2130ec1c24953a05af5a1f1dfc2a4",
       "version_major": 2,
       "version_minor": 0
      },
      "text/plain": [
       "Canvas(toolbar=Toolbar(toolitems=[('Home', 'Reset original view', 'home', 'home'), ('Back', 'Back to previous …"
      ]
     },
     "metadata": {},
     "output_type": "display_data"
    },
    {
     "data": {
      "application/vnd.jupyter.widget-view+json": {
       "model_id": "7164d068c2004240ac3d53605a73c53c",
       "version_major": 2,
       "version_minor": 0
      },
      "text/plain": [
       "interactive(children=(FloatSlider(value=1.0, description='r', min=0.001), FloatSlider(value=1.0, description='…"
      ]
     },
     "metadata": {},
     "output_type": "display_data"
    }
   ],
   "source": [
    "# Set up the plot\n",
    "fig2 = plt.figure(figsize=(9,6))\n",
    "fig2.suptitle(\"Integrand plot vs k with envelope\")\n",
    "ax2 = fig2.add_subplot(111)\n",
    "\n",
    "k_min = 0\n",
    "k_max = 7000\n",
    "Npts = 100\n",
    "\n",
    "ax2.set_ylim([-10, 40])\n",
    "ax2.set_xlim([k_min, k_max])\n",
    "ax2.set_ylabel(r'$f(k;r,t)$',fontsize = 15)\n",
    "ax2.set_xlabel(r'$k$',fontsize = 15)\n",
    "ax2.grid(True)\n",
    "\n",
    "# Generate x-y values\n",
    "k2 = np.linspace(k_min,k_max,Npts)\n",
    "def f_vect(K,r,t):\n",
    "    return np.array([f(k,r,t) for k in K])\n",
    "\n",
    "def e_vect(K,r,t):\n",
    "    return np.array([e(k,r,t) for k in K])\n",
    "\n",
    "# Add the sliders\n",
    "@widgets.interact(r=(0.001, 100, 0.1), t=(0.001, 10, .01), Npts=(100,10000, 1))\n",
    "def update2(r = 1.0, t=1.0, Npts=1000):\n",
    "    [l.remove() for l in ax2.lines]\n",
    "    k2 = np.linspace(k_min,k_max,Npts)\n",
    "    ax2.plot(k2, f_vect(k2,r,t), color='C3')\n",
    "    ax2.plot(k2, e_vect(k2,r,t), color='C0')\n",
    "    ax2.set_ylim([min(f_vect(k2,r,t))*1.1, 1.1*max(f_vect(k2,r,t))])"
   ]
  },
  {
   "cell_type": "markdown",
   "metadata": {},
   "source": [
    "## Approximations\n",
    "\n",
    "Now to analytically calculate the integral of that equation we need to make certain approximations. To do this we need some intuitive understanding of the order of magnitude of the constants we are using. \n",
    "\n",
    "### Constants\n",
    "\n",
    "We have two defining constants in the problem. The decay frequency $\\omega_0$ and the speed of sound in LXe $c$. From the wave equation we have derived that the speed of sound is:\n",
    "\n",
    "$$c = \\sqrt{\\frac{K}{\\rho_0}}$$\n",
    "\n",
    "Where $K$ is the bulk modulus and $\\rho_0$ is the rest density of Liquid Xenon. Now the biggest question comes from trying to find values for these constants. From [nist](https://webbook.nist.gov/cgi/fluid.cgi?ID=C7440633&Action=Page) we obtain the fololowing list of constants:\n",
    "\n",
    "- Bulk Modulus $K$ $[\\frac{kg}{s^2 m}]$: $1.2667 \\times 10^9$\n",
    "- Rest Density $\\rho_0$ $[\\frac{kg}{m^3}]$: $2.9663 \\times 10^3$\n",
    "\n",
    "Therefore we calculate the speed of sound in LXe to be:\n",
    "\n",
    "$$c = \\sqrt{\\frac{K}{\\rho_0}} = 653.47 \\frac{m}{s}$$\n",
    "\n",
    "Now for the attenuation frquency $\\omega_0$ we have derived in the equation that it is the ratio of the Bulk modulus to the viscocity. Similartly to the speed of sound we have obtained the following values from [nist](https://webbook.nist.gov/cgi/fluid.cgi?ID=C7440633&Action=Page).\n",
    "\n",
    "- Bulk Modulus $K$ $[\\frac{kg}{s^2 m}]$: $1.2667 \\times 10^9$\n",
    "- viscocity $\\mu$ $[\\text{Pa}s]$: $5.1701 \\times 10^{-4}$\n",
    "\n",
    "We therefore obtain that the attenuation frequency is:\n",
    "\n",
    "$$\\omega_0 = \\frac{K}{\\mu} = 2.4500 \\times 10^{12} $$\n",
    "\n",
    "Now that we have the values we can start estimating the possible evolution of the system, by using some very useful approximations.\n",
    "\n",
    "\n",
    "### Near... Far... wherever you are!\n",
    "\n",
    "We see that there is a special point in $f$ at which the root becomes imaginary. That happens when $k = \\frac{2\\omega_0}{c}$. If we evaluate we see that the graph will be attenuated before that point. Therefore we can approximate the function by just considering the following case where $k \\leq \\frac{2 \\omega_0}{c}$. We obtain the following expression for $f(k;r,t)$.\n",
    "\n",
    "$$f(k;r,t)=\\frac{8\\pi^2 c e^{-\\frac{c^2 k^2}{2 \\omega_0}t}}{rt\\sqrt{1-\\frac{k^2c^2}{4\\omega_0}}} \\sin(k r) \\sin \\left(kct\\sqrt{1-\\frac{k^2c^2}{4\\omega_0}}\\right) $$\n",
    "\n",
    "Now that's a way prettier equation. However it is still a pain in the *** to integrate. Therefore we can consider one more simplification. Let's look at the taylor series of the following function in x centered at 0 $\\forall \\alpha > 0$.\n",
    "\n",
    "$$ \\sqrt{1 - \\alpha x^2} = 1 - \\frac{\\alpha x^2}{2} - \\frac{\\alpha^2 x^4}{8} + \\mathcal{O}(x^6)$$\n",
    "\n",
    "in our case we notice how tiny $\\alpha$ is and hence we drop all the terms except the first in our expansion. Finally we obtain a much more manageble expression for the integral in question. We call that new function $\\phi$.\n",
    "\n",
    "$$f(k;r,t) \\approx \\phi(k;r,t) = \\frac{8\\pi^2 c}{rt} e^{-\\frac{c^2 k^2}{2 \\omega_0}t} \\sin(k r) \\sin \\left(kct\\right)$$\n",
    "\n",
    "In fact we can plot both $f(k;r,t)$ and $\\phi(k;r,t)$ to see their differences."
   ]
  },
  {
   "cell_type": "code",
   "execution_count": 27,
   "metadata": {},
   "outputs": [
    {
     "data": {
      "application/vnd.jupyter.widget-view+json": {
       "model_id": "8f14cd6e08134484911798b72e68b6e0",
       "version_major": 2,
       "version_minor": 0
      },
      "text/plain": [
       "Canvas(toolbar=Toolbar(toolitems=[('Home', 'Reset original view', 'home', 'home'), ('Back', 'Back to previous …"
      ]
     },
     "metadata": {},
     "output_type": "display_data"
    },
    {
     "data": {
      "application/vnd.jupyter.widget-view+json": {
       "model_id": "3522243b337f4c26a1703a7db4ccd4cb",
       "version_major": 2,
       "version_minor": 0
      },
      "text/plain": [
       "interactive(children=(FloatSlider(value=1.0, description='r', min=0.001), FloatSlider(value=1.0, description='…"
      ]
     },
     "metadata": {},
     "output_type": "display_data"
    },
    {
     "data": {
      "text/plain": [
       "<matplotlib.legend.Legend at 0x7f94aad45280>"
      ]
     },
     "execution_count": 27,
     "metadata": {},
     "output_type": "execute_result"
    }
   ],
   "source": [
    "# Set up the plot\n",
    "fig3 = plt.figure(figsize=(9,6))\n",
    "fig3.suptitle(\"Integrand plot vs k with envelope\")\n",
    "ax3 = fig3.add_subplot(111)\n",
    "\n",
    "k_min = 0\n",
    "k_max = 7000\n",
    "Npts = 100\n",
    "\n",
    "ax3.set_xlim([k_min, k_max])\n",
    "ax3.set_ylabel(r'$f(k;r,t)$',fontsize = 15)\n",
    "ax3.set_xlabel(r'$k$',fontsize = 15)\n",
    "ax3.grid(True)\n",
    "\n",
    "# Generate x-y values\n",
    "k3 = np.linspace(k_min,k_max,Npts)\n",
    "def f_vect(K,r,t):\n",
    "    return np.array([f(k,r,t) for k in K])\n",
    "\n",
    "def phi_vect(K,r,t):\n",
    "    return np.array([phi(k,r,t) for k in K])\n",
    "\n",
    "# Add the sliders\n",
    "@widgets.interact(r=(0.001, 100, 0.1), t=(0.001, 10, .01), Npts=(100,10000, 1))\n",
    "def update2(r = 1.0, t=1.0, Npts=1000):\n",
    "    [l.remove() for l in ax3.lines]\n",
    "    k3 = np.linspace(k_min,k_max,Npts)\n",
    "    ax3.plot(k3, f_vect(k3,r,t), color='C3',label=r\"$f(k;r,t)$\")\n",
    "    ax3.plot(k3, phi_vect(k3,r,t), color='C0',alpha=0.5,label=r\"$\\phi(k;r,t)$\")\n",
    "    ax3.set_ylim([min(f_vect(k3,r,t))*1.1, 1.1*max(f_vect(k3,r,t))])\n",
    "\n",
    "ax3.legend()"
   ]
  },
  {
   "cell_type": "markdown",
   "metadata": {},
   "source": [
    "As we can see the two plots are very similar too! This is amazing because when it comes to estimate the integral, $\\phi(k;r,t)$ is so much better than the ugly thingy that we had before. Let's try to do this integral.\n",
    "\n",
    "# Analytic Solution\n",
    "\n",
    "Finally, after a lot of plots and months of sweat here is the final solution. We can just analyse this in terms of exponentials and after realising that for any realistic value of $(r,t)$ we are at the constant part of the error function integral, we can represent the solution like so.\n",
    "\n",
    "$$F(r,t) = \\Theta(t) \\sqrt{\\frac{\\pi \\omega_0}{8 c^2 t}} \\exp \\left(-\\frac{r^2 \\omega_0}{c^2t}-t\\omega_0\\right) \\left[\\exp\\left(\\frac{(r+ct)^2\\omega_0}{2c^2t}\\right)-\\exp\\left(\\frac{(r-ct)^2\\omega_0}{2c^2t}\\right)\\right]$$\n",
    "\n",
    "Now I know this looks complicated but in reality it isn't. Let's examine a few features. Just like any solution to the wave equation we observe that the fundamental solution is indeed a superposition of two waves as functions of $r \\pm ct$. Also we see a characterstic exponential decay term dependent or the radius and time. Let's plot and animate this to make sure."
   ]
  },
  {
   "cell_type": "code",
   "execution_count": 29,
   "metadata": {},
   "outputs": [
    {
     "data": {
      "application/vnd.jupyter.widget-view+json": {
       "model_id": "b9a429bbbee6485e8043a95e4f3d558b",
       "version_major": 2,
       "version_minor": 0
      },
      "text/plain": [
       "Canvas(toolbar=Toolbar(toolitems=[('Home', 'Reset original view', 'home', 'home'), ('Back', 'Back to previous …"
      ]
     },
     "metadata": {},
     "output_type": "display_data"
    },
    {
     "data": {
      "application/vnd.jupyter.widget-view+json": {
       "model_id": "3fbbc5991ee747b6920d5e3c78ed1f3f",
       "version_major": 2,
       "version_minor": 0
      },
      "text/plain": [
       "interactive(children=(FloatSlider(value=0.01, description='t', max=10.0, min=1e-05, step=1e-05), IntSlider(val…"
      ]
     },
     "metadata": {},
     "output_type": "display_data"
    },
    {
     "data": {
      "text/plain": [
       "<matplotlib.legend.Legend at 0x7f94aa68d400>"
      ]
     },
     "execution_count": 29,
     "metadata": {},
     "output_type": "execute_result"
    }
   ],
   "source": [
    "# Set up the plot\n",
    "fig4 = plt.figure(figsize=(9,6))\n",
    "fig4.suptitle(\"Integrand plot vs k with envelope\")\n",
    "ax4 = fig4.add_subplot(111)\n",
    "\n",
    "r_min = 5.53\n",
    "r_max = 5.54\n",
    "Npts = 100\n",
    "\n",
    "ax4.set_xlim([r_min, r_max])\n",
    "ax4.set_ylabel(r'$F(r,t)$',fontsize = 15)\n",
    "ax4.set_xlabel(r'$r$',fontsize = 15)\n",
    "ax4.grid(True)\n",
    "\n",
    "# Generate x-y values\n",
    "r = np.linspace(r_min,r_max,Npts)\n",
    "def F_vect(R,t):\n",
    "    return np.array([F(r,t) for r in R])\n",
    "\n",
    "# Add the sliders\n",
    "@widgets.interact(t=(0.00001, 10, 0.00001), Npts=(100,10000, 1))\n",
    "def update2(t=0.01, Npts=1000):\n",
    "    [l.remove() for l in ax4.lines]\n",
    "    r = np.linspace(r_min,r_max,Npts)\n",
    "    F_vector = F_vect(r,t)\n",
    "    ax4.plot(r, F_vector, color='C3',label=r\"$F(r,t)$\")\n",
    "    ax4.set_ylim([min(F_vector)*1.1, 1.1*max(F_vector)])\n",
    "\n",
    "ax4.legend()"
   ]
  },
  {
   "cell_type": "code",
   "execution_count": null,
   "metadata": {},
   "outputs": [],
   "source": []
  }
 ],
 "metadata": {
  "kernelspec": {
   "display_name": "Python 3",
   "language": "python",
   "name": "python3"
  },
  "language_info": {
   "codemirror_mode": {
    "name": "ipython",
    "version": 3
   },
   "file_extension": ".py",
   "mimetype": "text/x-python",
   "name": "python",
   "nbconvert_exporter": "python",
   "pygments_lexer": "ipython3",
   "version": "3.8.2"
  }
 },
 "nbformat": 4,
 "nbformat_minor": 2
}
