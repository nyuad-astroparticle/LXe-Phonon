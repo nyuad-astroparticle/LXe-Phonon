{
 "metadata": {
  "language_info": {
   "codemirror_mode": {
    "name": "ipython",
    "version": 3
   },
   "file_extension": ".py",
   "mimetype": "text/x-python",
   "name": "python",
   "nbconvert_exporter": "python",
   "pygments_lexer": "ipython3",
   "version": "3.6.5-final"
  },
  "orig_nbformat": 2,
  "kernelspec": {
   "name": "python3",
   "display_name": "Python 3",
   "language": "python"
  }
 },
 "nbformat": 4,
 "nbformat_minor": 2,
 "cells": [
  {
   "source": [
    "# Calculating the actual wave\n",
    "\n",
    "## The Problem\n",
    "In the **Fundamental Solution** jupyter notebook we have analytically approximated the fundamental solution. Here we are going to use that solution in order to solve the following Cauchy Global Problem.\n",
    "\n",
    "$$\n",
    "\\begin{cases}\n",
    "\n",
    "    \\Delta \\left( p(\\vec{x},t) - \\frac{1}{\\omega_0}\\frac{\\partial}{\\partial t} p(\\vec{x},t)\\right) - \\frac{1}{c^2} \\frac{\\partial^2}{\\partial t^2} p(\\vec{x},t) = -\\frac{\\beta}{C_p} \\frac{\\partial E}{\\partial t} & \\forall (\\vec{x},t) \\in \\mathbb{R}^3 \\times \\mathbb{R}^+\\\\\n",
    "    p(\\vec{x},0) = 0 & \\forall \\vec{x} \\in \\mathbb{R}^3\\\\\n",
    "    \\frac{\\partial}{\\partial t} p(\\vec{x},0) = 0 & \\forall \\vec{x} \\in \\mathbb{R}^3 \n",
    "\n",
    "\\end{cases}\n",
    "$$\n",
    "\n",
    "\n",
    "## Notation\n",
    "\n",
    "This notation, even though it is the most accurate is pretentious and cumbersome to work with. Therefore, from now on we will employ a different notation that is cleaner and simpler to read and write. \n",
    "\n",
    "First we define the linear differential operator $\\mathcal{L}$ as such.\n",
    "\n",
    "$$\\mathcal{L} u(\\vec{x},t) = \\Delta \\left( u(\\vec{x},t) - \\frac{1}{\\omega_0}\\frac{\\partial}{\\partial t} u(\\vec{x},t)\\right) - \\frac{1}{c^2} \\frac{\\partial^2}{\\partial t^2} u(\\vec{x},t)$$\n",
    "\n",
    "Now we can rewrite the cauchy problem like so:\n",
    "\n",
    "$$\n",
    "\\begin{cases}\n",
    "\n",
    "    \\mathcal{L} p(\\vec{x},t) = -\\frac{\\beta}{C_p} \\frac{\\partial E}{\\partial t} = \\psi(\\vec{x},t) & \\forall (\\vec{x},t) \\in \\mathbb{R}^3 \\times \\mathbb{R}^+\\\\\n",
    "    p(\\vec{x},0) = 0 & \\forall \\vec{x} \\in \\mathbb{R}^3\\\\\n",
    "    p_t(\\vec{x},0) = 0 & \\forall \\vec{x} \\in \\mathbb{R}^3 \n",
    "\n",
    "\\end{cases}\n",
    "$$\n",
    "\n",
    "This is undoubtedly better. Now let's try to find the solution."
   ],
   "cell_type": "markdown",
   "metadata": {}
  },
  {
   "source": [
    "# Duhamel's Method\n",
    "\n",
    "Duhamel's method is used in this case to simplify and solve the problem by solving the following set of problems: Let $F(\\vec{x},t)$ be the *Fundamental Solution* solution defined by the following global cauchy problem:\n",
    " \n",
    " $$\n",
    "\\begin{cases}\n",
    "\n",
    "    \\mathcal{L} F(\\vec{x},t) = \\delta(\\vec{x})\\delta(t) & \\forall (\\vec{x},t) \\in \\mathbb{R}^3 \\times \\mathbb{R}^+\\\\\n",
    "    F(\\vec{x},0) = 0 & \\forall \\vec{x} \\in \\mathbb{R}^3\\\\\n",
    "    F_t(\\vec{x},0) = 0 & \\forall \\vec{x} \\in \\mathbb{R}^3 \n",
    "\n",
    "\\end{cases}\n",
    "$$\n",
    "\n",
    "Now we can use it to find the solutions $u(\\vec{x},t;s)$ to the following family of problems that arise from decomposing $\\psi(\\vec{x},t)$ in time. So $\\forall s > 0$:\n",
    "\n",
    "$$\n",
    "\\begin{cases}\n",
    "\n",
    "    \\mathcal{L} u(\\vec{x},t;s) = 0 & \\forall (\\vec{x},t) \\in \\mathbb{R}^3 \\times (s,+\\infty)\\\\\n",
    "    u(\\vec{x},s;s) = 0 & \\forall \\vec{x} \\in \\mathbb{R}^3\\\\\n",
    "    u_t(\\vec{x},s;s) = \\psi(\\vec{x},s) & \\forall \\vec{x} \\in \\mathbb{R}^3 \n",
    "\n",
    "\\end{cases}\n",
    "$$\n",
    "\n",
    "Therefore the solution to our original PDE will be the following convolution\n",
    "\n",
    "$$p(\\vec{x},t) = \\int_0^t \\int_{\\mathbb{R}^3} \\psi(\\vec{y},s) F(\\vec{x}-\\vec{y},t-s) \\ d\\vec{y} ds$$"
   ],
   "cell_type": "markdown",
   "metadata": {}
  },
  {
   "source": [
    "# Forcing Term\n",
    "\n",
    "Now we need to find $\\psi(\\vec{x},t)$. To do this we need to think of the analytical form of the energy deposition of the particle in the fluid. Hence we introduce the Bethe-Bloch formula that will predict the spatial rate of energy deposition of the particle through the medium along the distance travelled from its path. \n",
    "\n",
    "$$ -\\frac{d E}{dx} \\approx - \\left \\langle \\frac{dE}{dx} \\right \\rangle = \\frac{4\\pi}{m_e c^2}\\frac{n z^2}{\\beta^2}\\left(\\frac{e^2}{4\\pi \\varepsilon_0}\\right)^2 \\left[ \\ln \\left( \\frac{2 m_e c^2 \\beta^2}{I \\cdot (1 - \\beta^2)}\\right) -\\beta^2\\right]$$\n",
    "\n",
    "Now what we can do, is to assume that this energy is deposition will be Gaussian distributed over time and space in the medium. As a result the energy deposition in the medium is:\n",
    "\n",
    "$$-\\frac{dE}{dx} \\cdot G(\\vec{x},t)$$\n",
    "\n",
    "where $G(\\vec{x},t)$ is a distribution in $\\vec{x}$ and $t$:\n",
    "\n",
    "$$G(\\vec{x},t) = \\frac{1}{4\\pi^2 \\sigma_x^3 \\sigma_t} \\exp\\left(-\\frac{|\\vec{x}|^2}{2\\sigma_x^2}\\right) \\exp\\left(-\\frac{t^2}{2\\sigma_t^2} \\right)$$\n",
    "\n",
    "Therefore we can write the forcing function $\\psi(\\vec{x},t)$ like so.\n",
    "\n",
    "$$\\psi(\\vec{x},t) = -\\frac{\\beta_{Xe}}{C_p} \\frac{dE}{dx} \\frac{dx}{dt} G(\\vec{x},t)$$\n",
    "\n",
    "Below we plot the energy envelope."
   ],
   "cell_type": "markdown",
   "metadata": {}
  },
  {
   "cell_type": "code",
   "execution_count": 3,
   "metadata": {},
   "outputs": [],
   "source": [
    "# Plotting of the energy envelope\n",
    "\n",
    "#import relevant libraries\n",
    "import numpy as np\n",
    "import scipy.constants as const\n",
    "import matplotlib.pyplot as plt\n",
    "from mpl_toolkits.mplot3d import Axes3D\n",
    "import ipywidgets as widgets\n",
    "from tqdm import tqdm\n",
    "\n",
    "# if this doesn't work run: \"python3 -m pip install ipympl\" \n",
    "# or just comment it out and learn to live without sliders on the graphs\n",
    "%matplotlib widget\n",
    "\n",
    "s_x = 1\n",
    "s_t = 1\n",
    "\n",
    "def G(x,t,s_x=s_x,s_t=s_t):\n",
    "    return 1/(4*np.pi**2 * s_x**3 * s_t)*np.exp(-np.dot(x,x)/(2*s_x**2))*np.exp(-t**2/(2*s_t**2))"
   ]
  },
  {
   "cell_type": "code",
   "execution_count": 4,
   "metadata": {},
   "outputs": [
    {
     "output_type": "display_data",
     "data": {
      "text/plain": "Canvas(toolbar=Toolbar(toolitems=[('Home', 'Reset original view', 'home', 'home'), ('Back', 'Back to  previous…",
      "application/vnd.jupyter.widget-view+json": {
       "version_major": 2,
       "version_minor": 0,
       "model_id": "40ce8fc42c5d4df4b52dea0f4693ebe9"
      }
     },
     "metadata": {}
    },
    {
     "output_type": "execute_result",
     "data": {
      "text/plain": [
       "<matplotlib.collections.QuadMesh at 0x7f9583026eb8>"
      ]
     },
     "metadata": {},
     "execution_count": 4
    }
   ],
   "source": [
    "# Plot the 2D graph\n",
    "fig = plt.figure(figsize=(9,6))\n",
    "fig.suptitle(\"Distribution of heat in space and time\")\n",
    "ax = fig.add_subplot(111)\n",
    "ax.set_xlabel(r\"Radius $|\\vec{x}|$\")\n",
    "ax.set_ylabel(r\"Time t\")\n",
    "\n",
    "x_min = 0\n",
    "x_max = 3\n",
    "t_min = -1\n",
    "t_max = 1\n",
    "Npts = 20\n",
    "\n",
    "x = np.linspace(x_min,x_max,Npts)\n",
    "t = np.linspace(t_min,t_max,Npts)\n",
    "\n",
    "xx, tt = np.meshgrid(x,t)\n",
    "\n",
    "def mesh_wrapper(X,T,f,params=()):\n",
    "    z = np.zeros((len(X),len(T)))\n",
    "    if params == ():\n",
    "        for i in range(0,len(X)):\n",
    "            for j in range(0,len(T)):\n",
    "                z[j][i] = f(X[i],T[j])\n",
    "    else:\n",
    "        for i in range(0,len(X)):\n",
    "            for j in range(0,len(T)):\n",
    "                z[j][i] = f(X[i],T[j],*params)\n",
    "\n",
    "    return z \n",
    "\n",
    "zz = mesh_wrapper(x,t,G)\n",
    "\n",
    "\n",
    "ax.pcolormesh(xx,tt,zz, shading='gouraud', cmap=plt.cm.hot)\n"
   ]
  },
  {
   "source": [
    "# Integrating\n",
    "\n",
    "Now to do this integral we need to first express it analytically. This should be fun!\n",
    "\n",
    "$$\n",
    "p(\\vec{x},t) = \\int_0^t \\int_{\\mathbb{R}^3} -\\frac{\\beta_{Xe}}{C_p} \\frac{4\\pi}{m_e c^2}\\frac{n z^2}{\\beta^2}\\left(\\frac{e^2}{4\\pi \\varepsilon_0}\\right)^2 \\left[ \\ln \\left( \\frac{2 m_e c^2 \\beta^2}{I \\cdot (1 - \\beta^2)}\\right) -\\beta^2\\right] \\frac{dz}{dt} \\frac{1}{4\\pi^2 \\sigma_x^3 \\sigma_t} e^{-\\frac{|\\vec{y}|^2}{2\\sigma_x^2}} e^{-\\frac{s^2}{2\\sigma_t^2}} \n",
    "\n",
    "\\Theta(t-s) \\frac{8\\pi^2 c}{|\\vec{x}-\\vec{y}|(t-s)}\\sqrt{\\frac{\\pi \\omega_0}{8 c^2 (t-s)}} \\exp \\left(-\\frac{|\\vec{x}-\\vec{y}|^2 \\omega_0}{c^2(t-s)}-(t-s)\\omega_0\\right) \\left[\\exp\\left(\\frac{(|\\vec{x}-\\vec{y}|+c(t-s))^2\\omega_0}{2c^2(t-s)}\\right)-\\exp\\left(\\frac{(|\\vec{x}-\\vec{y}|-c(t-s))^2\\omega_0}{2c^2(t-s)}\\right)\\right]\n",
    "\n",
    " \\ d\\vec{y} ds\n",
    "$$\n",
    "\n",
    "cool...\n",
    "\n",
    "This keeps happening. But I think we can simplify the integral to a much better form. Frist of all, assuming the velocity of the particle to be constantnt we can reqwrite everything like this.\n",
    "\n",
    "\n",
    "$$\n",
    "p(\\vec{x},t) = \\mathcal{A} \\int_0^t \\int_{\\mathbb{R}^3} \n",
    "\n",
    "\\frac{1}{|\\vec{x}-\\vec{y}|(t-s)^{\\frac{3}{2}}} \\exp \\left(-\\frac{|\\vec{y}|^2}{2\\sigma_x^2} -\\frac{s^2}{2\\sigma_t^2} -\\frac{|\\vec{x}-\\vec{y}|^2 \\omega_0}{c^2(t-s)}-(t-s)\\omega_0\\right) \\left[\\exp\\left(\\frac{(|\\vec{x}-\\vec{y}|+c(t-s))^2\\omega_0}{2c^2(t-s)}\\right)-\\exp\\left(\\frac{(|\\vec{x}-\\vec{y}|-c(t-s))^2\\omega_0}{2c^2(t-s)}\\right)\\right]\n",
    "\n",
    " \\ d\\vec{y} ds\n",
    "$$\n"
   ],
   "cell_type": "markdown",
   "metadata": {}
  },
  {
   "cell_type": "code",
   "execution_count": null,
   "metadata": {},
   "outputs": [],
   "source": []
  }
 ]
}