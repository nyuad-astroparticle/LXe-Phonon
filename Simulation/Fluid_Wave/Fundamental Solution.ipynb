{
 "cells": [
  {
   "cell_type": "markdown",
   "metadata": {},
   "source": [
    "# Solving Viscous Wave Equation\n",
    "\n",
    "This notebook is used to solve the particular viscous wave equation for the setup of a muon passing through liquid Xenon. The goal is to find the pressure distribution in a container and its decay as a function of distance and time.\n",
    "\n",
    "## Wave equation\n",
    "\n",
    "We can derive the viscous wave equation through the linearised Navier-Stokes Equations. The full derivation is in the notes, but the point is that we have added a single term that takes into account the viscous effects. The equation turns out to be as follows:\n",
    "\n",
    "$$\\Delta \\left(p(\\vec{x},t) - \\frac{1}{\\omega_0}\\frac{\\partial}{\\partial t}p(\\vec{x},t)\\right) = \\frac{1}{c^2} \\frac{\\partial^2}{\\partial t^2}p(\\vec{x},t)$$\n",
    "\n",
    "where $c$ is the speed of the wave in the medium, $\\omega_0$ is the coefficient responsible for damping, and $p(\\vec{x},t)$ is pressure as a function of space and time.\n",
    "\n",
    "We now introduce the linear differential operator $\\mathcal{L}$.\n",
    "\n",
    "$$\\mathcal{L}p := \\Delta \\left(p(\\vec{x},t) - \\frac{1}{\\omega_0}\\frac{\\partial}{\\partial t}p(\\vec{x},t)\\right) - \\frac{1}{c^2} \\frac{\\partial^2}{\\partial t^2}p(\\vec{x},t)$$\n",
    "\n",
    "## Fundamental Solution\n",
    "\n",
    "Now we search for the fundamental solution $F(\\vec{x},t)$ that satisfies the follwing.\n",
    "\n",
    "$$\\mathcal{L}F(\\vec{x},t) = \\delta (\\vec{x})\\delta(t)$$\n",
    "\n",
    "We can solve it using fourier methods and then we obtain the fundamental solution in terms of this integral over fourier momentum. Now we just need to evaluate this.\n",
    "\n",
    "$$F(\\vec{x},t) = \\Theta(t) \\int_0^\\infty 8\\pi^2 c^2 k^2 e^{-\\frac{c^2 k^2}{2 \\omega_0}t} \\frac{e^{i k r} - e^{-ikr}}{2ikr} \\frac{e^{ikct\\sqrt{1-\\frac{k^2c^2}{4\\omega_0}}} - e^{-ikct\\sqrt{1-\\frac{k^2c^2}{4\\omega_0}}}}{2ikct\\sqrt{1-\\frac{k^2c^2}{4\\omega_0}}}dk$$\n",
    "\n",
    "Where $\\Theta(t)$ is the Heaviside function and $r:=\\left| \\vec{x}\\right|$\n",
    "\n",
    "## Integration\n",
    "\n",
    "To numerically evaluate this expression we first need to study it. Therefore let's define the function f as the inner part of the integral like so.\n",
    "\n",
    "$$F(\\vec{x},t) = \\Theta(t)\\int_0^\\infty f(k;\\vec{x},t)dk$$\n",
    "\n",
    "Now we realise that the function f is a piecewise function plotted below."
   ]
  },
  {
   "cell_type": "code",
   "execution_count": 7,
   "metadata": {},
   "outputs": [],
   "source": [
    "#import relevant libraries\n",
    "import numpy as np\n",
    "import scipy.constants as const\n",
    "import matplotlib.pyplot as plt\n",
    "from mpl_toolkits.mplot3d import Axes3D\n",
    "import ipywidgets as widgets\n",
    "from tqdm import tqdm\n",
    "\n",
    "# if this doesn't work run: \"python3 -m pip install ipympl\" \n",
    "# or just comment it out and learn to live without sliders on the graphs\n",
    "%matplotlib widget       \n",
    "\n",
    "# Define the relevant constants\n",
    "c   = 653.47     # Speed of wave\n",
    "w_0 = 2.45e12    # Damping frequency|\n",
    "\n",
    "# Define integrable function f\n",
    "def f(k,r,t,w_0=w_0,c=c):\n",
    "    if t < 0:\n",
    "        return 0\n",
    "    \n",
    "    if k <= 0:\n",
    "        return 0;\n",
    "    \n",
    "    if k < 2*w_0/c:\n",
    "        return 8 * np.pi**2 * c**2 * k**2 * np.exp(-c**2 * k**2 * t / (2 * w_0)) *\\\n",
    "                np.sinc(k*c*t/np.pi *(1 - k**2 * c**2 / (4 * w_0**2))**0.5) *\\\n",
    "                np.sin(r*k)/(r*k)\n",
    "    \n",
    "    elif k > 2*w_0/c:\n",
    "        return 8 * np.pi**2 * c**2 * k**2 *\\\n",
    "                (np.exp(k*c*t *(-1 + k**2 * c**2 / (4 * w_0**2))**0.5 - c**2 * k**2 * t / (2 * w_0)) -\\\n",
    "                np.exp(-k*c*t *(-1 + k**2 * c**2 / (4 * w_0**2))**0.5 - c**2 * k**2 * t / (2 * w_0)))/\\\n",
    "                (2*k*c*t *(-1 + k**2 * c**2 / (4 * w_0**2))**0.5 ) * np.sin(r*k)/(r*k)\n",
    "    else: return 0\n",
    "    \n",
    "# Define integrable function phi\n",
    "def phi(k,r,t,w_0=w_0,c=c):\n",
    "    if t < 0:\n",
    "        return 0\n",
    "    \n",
    "    if k <= 0:\n",
    "        return 0;\n",
    "    \n",
    "    if k < 2*w_0/c:\n",
    "        return 8 * np.pi**2 * c * np.exp(-c**2 * k**2 * t / (2 * w_0)) * np.sin(k*c*t) * np.sin(r*k)/(r*t)\n",
    "    \n",
    "    elif k > 2*w_0/c:\n",
    "        return 8 * np.pi**2 * c**2 * k**2 *\\\n",
    "                (np.exp(k*c*t *(-1 + k**2 * c**2 / (4 * w_0**2))**0.5 - c**2 * k**2 * t / (2 * w_0)) -\\\n",
    "                np.exp(-k*c*t *(-1 + k**2 * c**2 / (4 * w_0**2))**0.5 - c**2 * k**2 * t / (2 * w_0)))/\\\n",
    "                (2*k*c*t *(-1 + k**2 * c**2 / (4 * w_0**2))**0.5 ) * np.sin(r*k)/(r*k)\n",
    "    else: return 0\n",
    "    \n",
    "# Define the envelope function of f\n",
    "def e(k,r,t):\n",
    "    if t < 0:\n",
    "        return 0\n",
    "    \n",
    "    if k <= 0:\n",
    "        return 0;\n",
    "    \n",
    "    if k < 2*w_0/c:\n",
    "        return 8 * np.pi**2 * c**2 * np.exp(-c**2 * k**2 * t / (2 * w_0))/\\\n",
    "                (r*c*t *(1 - k**2 * c**2 / (4 * w_0**2))**0.5)\n",
    "    \n",
    "    elif k > 2*w_0/c:\n",
    "        return 8 * np.pi**2 * c**2 *\\\n",
    "                (np.exp(k*c*t *(-1 + k**2 * c**2 / (4 * w_0**2))**0.5 - c**2 * k**2 * t / (2 * w_0)) -\\\n",
    "                np.exp(-k*c*t *(-1 + k**2 * c**2 / (4 * w_0**2))**0.5 - c**2 * k**2 * t / (2 * w_0)))/\\\n",
    "                (2*c*t *(-1 + k**2 * c**2 / (4 * w_0**2))**0.5 )/r\n",
    "    else: return 0\n",
    "    \n",
    "    \n",
    "\n",
    "# Define the actual function F\n",
    "def F(r,t,w_0=w_0,c=c):\n",
    "#     if t < 0:\n",
    "#         return 0\n",
    "    \n",
    "    return (8*np.pi**2*c/(r*t))*(np.pi*w_0/(c**2 * t))**0.5 * (np.exp(-r**2*w_0/(c**2 * t) - t*w_0 + (r+c*t)**2*w_0/(2*c**2*t)) -\\\n",
    "                                         np.exp(-r**2*w_0/(c**2 * t) - t*w_0 + (r-c*t)**2*w_0/(2*c**2*t)))"
   ]
  },
  {
   "cell_type": "code",
   "execution_count": 8,
   "metadata": {},
   "outputs": [
    {
     "output_type": "display_data",
     "data": {
      "text/plain": "Canvas(toolbar=Toolbar(toolitems=[('Home', 'Reset original view', 'home', 'home'), ('Back', 'Back to  previous…",
      "application/vnd.jupyter.widget-view+json": {
       "version_major": 2,
       "version_minor": 0,
       "model_id": "1c521cd3b6e149e8bf4a17254690d4a0"
      }
     },
     "metadata": {}
    },
    {
     "output_type": "display_data",
     "data": {
      "text/plain": "interactive(children=(FloatSlider(value=1.0, description='r', min=0.001), FloatSlider(value=1.0, description='…",
      "application/vnd.jupyter.widget-view+json": {
       "version_major": 2,
       "version_minor": 0,
       "model_id": "3857d1fb53ae40ab98d960af922c403a"
      }
     },
     "metadata": {}
    }
   ],
   "source": [
    "# Set up the plot\n",
    "fig = plt.figure(figsize=(9,6))\n",
    "fig.suptitle(\"Integrand plot vs k\")\n",
    "ax = fig.add_subplot(111)\n",
    "\n",
    "k_min = 0\n",
    "k_max = 7000\n",
    "Npts = 100\n",
    "\n",
    "ax.set_xlim([k_min, k_max])\n",
    "ax.set_ylabel(r'$f(k;r,t)$',fontsize = 15)\n",
    "ax.set_xlabel(r'$k$',fontsize = 15)\n",
    "ax.grid(True)\n",
    "\n",
    "# Generate x-y values\n",
    "k = np.linspace(k_min,k_max,Npts)\n",
    "def f_vect(K,r,t):\n",
    "    return np.array([f(k,r,t) for k in K])\n",
    "\n",
    "# k = np.linspace(k_min,k_max,1000)\n",
    "# ax.plot(k, f_vect(k,1,1), color='C3')\n",
    "\n",
    "# Add the sliders\n",
    "@widgets.interact(r=(0.001, 100, 0.1), t=(0.001, 10, .01), Npts=(100,10000, 1))\n",
    "def update(r =1.0, t=1.0, Npts=1000):\n",
    "    [l.remove() for l in ax.lines]\n",
    "    k = np.linspace(k_min,k_max,Npts)\n",
    "    ax.plot(k, f_vect(k,r,t), color='C3')"
   ]
  },
  {
   "cell_type": "markdown",
   "metadata": {},
   "source": [
    "# Integration\n",
    "\n",
    "Now that we have the plot we need to somehow integrate it. To do this efficiently we need to find when does the wave decay over a specific amount. As a result we need to find its envelope. To do this we have to study each of the pieces of the piecewise function seperately.\n",
    "\n",
    "## Envelope\n",
    "\n",
    "Now based on the analytic expression of the integrand we can conclude that the envelope function $\\varepsilon(k;r,t)$ is the following.\n",
    "\n",
    "$$\n",
    "\\varepsilon(k;r,t) = \\begin{cases}\n",
    "\\frac{8\\pi^2 c^2 e^{-\\frac{c^2 k^2}{2 \\omega_0}t}}{rct\\sqrt{1-\\frac{k^2c^2}{4\\omega_0}}} & \\text{if } k \\leq \\frac{2\\omega_0}{c}\\\\ \n",
    "8\\pi^2 c^2 e^{-\\frac{c^2 k^2}{2 \\omega_0}t}\\frac{\\text{sinh}\\left(kct\\sqrt{\\frac{k^2c^2}{4\\omega_0}-1}\\right)}{rct\\sqrt{\\frac{k^2c^2}{4\\omega_0}-1}} & \\text{if } k > \\frac{2\\omega_0}{c}\\\\ \n",
    "\\end{cases}\n",
    "$$\n",
    "\n",
    "Let's try to plot one against the other"
   ]
  },
  {
   "cell_type": "code",
   "execution_count": 9,
   "metadata": {
    "scrolled": false
   },
   "outputs": [
    {
     "output_type": "display_data",
     "data": {
      "text/plain": "Canvas(toolbar=Toolbar(toolitems=[('Home', 'Reset original view', 'home', 'home'), ('Back', 'Back to  previous…",
      "application/vnd.jupyter.widget-view+json": {
       "version_major": 2,
       "version_minor": 0,
       "model_id": "3433f9b75d884838bbcfc01069eb6613"
      }
     },
     "metadata": {}
    },
    {
     "output_type": "display_data",
     "data": {
      "text/plain": "interactive(children=(FloatSlider(value=1.0, description='r', min=0.001), FloatSlider(value=1.0, description='…",
      "application/vnd.jupyter.widget-view+json": {
       "version_major": 2,
       "version_minor": 0,
       "model_id": "8f516fc02fcf4dae8bacadc604e9056a"
      }
     },
     "metadata": {}
    }
   ],
   "source": [
    "# Set up the plot\n",
    "fig2 = plt.figure(figsize=(9,6))\n",
    "fig2.suptitle(\"Integrand plot vs k with envelope\")\n",
    "ax2 = fig2.add_subplot(111)\n",
    "\n",
    "k_min = 0\n",
    "k_max = 7000\n",
    "Npts = 100\n",
    "\n",
    "ax2.set_ylim([-10, 40])\n",
    "ax2.set_xlim([k_min, k_max])\n",
    "ax2.set_ylabel(r'$f(k;r,t)$',fontsize = 15)\n",
    "ax2.set_xlabel(r'$k$',fontsize = 15)\n",
    "ax2.grid(True)\n",
    "\n",
    "# Generate x-y values\n",
    "k2 = np.linspace(k_min,k_max,Npts)\n",
    "def f_vect(K,r,t):\n",
    "    return np.array([f(k,r,t) for k in K])\n",
    "\n",
    "def e_vect(K,r,t):\n",
    "    return np.array([e(k,r,t) for k in K])\n",
    "\n",
    "# k2 = np.linspace(k_min,k_max,1000)\n",
    "# ax2.plot(k2, f_vect(k2,1,1), color='C3')\n",
    "# ax2.plot(k2, e_vect(k2,1,1), color='C0')\n",
    "# ax2.set_ylim([min(f_vect(k2,1,1))*1.1, 1.1*max(f_vect(k2,1,1))])\n",
    "\n",
    "# Add the sliders\n",
    "@widgets.interact(r=(0.001, 100, 0.1), t=(0.001, 10, .01), Npts=(100,10000, 1))\n",
    "def update2(r = 1.0, t=1.0, Npts=1000):\n",
    "    [l.remove() for l in ax2.lines]\n",
    "    k2 = np.linspace(k_min,k_max,Npts)\n",
    "    ax2.plot(k2, f_vect(k2,r,t), color='C3')\n",
    "    ax2.plot(k2, e_vect(k2,r,t), color='C0')\n",
    "    ax2.set_ylim([min(f_vect(k2,r,t))*1.1, 1.1*max(f_vect(k2,r,t))])"
   ]
  },
  {
   "cell_type": "markdown",
   "metadata": {},
   "source": [
    "## Approximations\n",
    "\n",
    "Now to analytically calculate the integral of that equation we need to make certain approximations. To do this we need some intuitive understanding of the order of magnitude of the constants we are using. \n",
    "\n",
    "### Constants\n",
    "\n",
    "We have two defining constants in the problem. The decay frequency $\\omega_0$ and the speed of sound in LXe $c$. From the wave equation we have derived that the speed of sound is:\n",
    "\n",
    "$$c = \\sqrt{\\frac{K}{\\rho_0}}$$\n",
    "\n",
    "Where $K$ is the bulk modulus and $\\rho_0$ is the rest density of Liquid Xenon. Now the biggest question comes from trying to find values for these constants. From [nist](https://webbook.nist.gov/cgi/fluid.cgi?ID=C7440633&Action=Page) we obtain the fololowing list of constants:\n",
    "\n",
    "- Bulk Modulus $K$ $[\\frac{kg}{s^2 m}]$: $1.2667 \\times 10^9$\n",
    "- Rest Density $\\rho_0$ $[\\frac{kg}{m^3}]$: $2.9663 \\times 10^3$\n",
    "\n",
    "Therefore we calculate the speed of sound in LXe to be:\n",
    "\n",
    "$$c = \\sqrt{\\frac{K}{\\rho_0}} = 653.47 \\frac{m}{s}$$\n",
    "\n",
    "Now for the attenuation frquency $\\omega_0$ we have derived in the equation that it is the ratio of the Bulk modulus to the viscocity. Similartly to the speed of sound we have obtained the following values from [nist](https://webbook.nist.gov/cgi/fluid.cgi?ID=C7440633&Action=Page).\n",
    "\n",
    "- Bulk Modulus $K$ $[\\frac{kg}{s^2 m}]$: $1.2667 \\times 10^9$\n",
    "- viscocity $\\mu$ $[\\text{Pa}s]$: $5.1701 \\times 10^{-4}$\n",
    "\n",
    "We therefore obtain that the attenuation frequency is:\n",
    "\n",
    "$$\\omega_0 = \\frac{K}{\\mu} = 2.4500 \\times 10^{12} Hz$$\n",
    "\n",
    "Now that we have the values we can start estimating the possible evolution of the system, by using some very useful approximations.\n",
    "\n",
    "\n",
    "### Near... Far... wherever you are!\n",
    "\n",
    "We see that there is a special point in $f$ at which the root becomes imaginary. That happens when $k = \\frac{2\\omega_0}{c}$. If we evaluate we see that the graph will be attenuated before that point. Therefore we can approximate the function by just considering the following case where $k \\leq \\frac{2 \\omega_0}{c}$. We obtain the following expression for $f(k;r,t)$.\n",
    "\n",
    "$$f(k;r,t)=\\frac{8\\pi^2 c e^{-\\frac{c^2 k^2}{2 \\omega_0}t}}{rt\\sqrt{1-\\frac{k^2c^2}{4\\omega_0}}} \\sin(k r) \\sin \\left(kct\\sqrt{1-\\frac{k^2c^2}{4\\omega_0}}\\right) $$\n",
    "\n",
    "Now that's a way prettier equation. However it is still a pain in the *** to integrate. Therefore we can consider one more simplification. Let's look at the taylor series of the following function in x centered at 0 $\\forall \\alpha > 0$.\n",
    "\n",
    "$$ \\sqrt{1 - \\alpha x^2} = 1 - \\frac{\\alpha x^2}{2} - \\frac{\\alpha^2 x^4}{8} + \\mathcal{O}(x^6)$$\n",
    "\n",
    "in our case we notice how tiny $\\alpha$ is and hence we drop all the terms except the first in our expansion. Finally we obtain a much more manageble expression for the integral in question. We call that new function $\\phi$.\n",
    "\n",
    "$$f(k;r,t) \\approx \\phi(k;r,t) = \\frac{8\\pi^2 c}{rt} e^{-\\frac{c^2 k^2}{2 \\omega_0}t} \\sin(k r) \\sin \\left(kct\\right)$$\n",
    "\n",
    "In fact we can plot both $f(k;r,t)$ and $\\phi(k;r,t)$ to see their differences."
   ]
  },
  {
   "cell_type": "code",
   "execution_count": 10,
   "metadata": {},
   "outputs": [
    {
     "output_type": "display_data",
     "data": {
      "text/plain": "Canvas(toolbar=Toolbar(toolitems=[('Home', 'Reset original view', 'home', 'home'), ('Back', 'Back to  previous…",
      "application/vnd.jupyter.widget-view+json": {
       "version_major": 2,
       "version_minor": 0,
       "model_id": "2f6cd2ea5cc64aa1b101c344c67308ab"
      }
     },
     "metadata": {}
    },
    {
     "output_type": "display_data",
     "data": {
      "text/plain": "interactive(children=(FloatSlider(value=1.0, description='r', min=0.001), FloatSlider(value=1.0, description='…",
      "application/vnd.jupyter.widget-view+json": {
       "version_major": 2,
       "version_minor": 0,
       "model_id": "b173df319f034247a1094502c4d8ce63"
      }
     },
     "metadata": {}
    }
   ],
   "source": [
    "# Set up the plot\n",
    "fig3 = plt.figure(figsize=(9,6))\n",
    "fig3.suptitle(\"Integrand plot with Approximation\")\n",
    "ax3 = fig3.add_subplot(111)\n",
    "\n",
    "k_min = 0\n",
    "k_max = 7000\n",
    "Npts = 100\n",
    "\n",
    "ax3.set_xlim([k_min, k_max])\n",
    "ax3.set_ylabel(r'$f(k;r,t)$',fontsize = 15)\n",
    "ax3.set_xlabel(r'$k$',fontsize = 15)\n",
    "ax3.grid(True)\n",
    "\n",
    "\n",
    "# Generate x-y values\n",
    "k3 = np.linspace(k_min,k_max,Npts)\n",
    "def f_vect(K,r,t):\n",
    "    return np.array([f(k,r,t) for k in K])\n",
    "\n",
    "def phi_vect(K,r,t):\n",
    "    return np.array([phi(k,r,t) for k in K])\n",
    "\n",
    "# k3 = np.linspace(k_min,k_max,1000)\n",
    "# ax3.plot(k3, f_vect(k3,1,1), color='C3',label=r\"$f(k;r,t)$\")\n",
    "# ax3.plot(k3, phi_vect(k3,1,1), color='C0',alpha=0.5,label=r\"$\\phi(k;r,t)$\")\n",
    "# ax3.set_ylim([min(f_vect(k3,1,1))*1.1, 1.1*max(f_vect(k3,1,1))])\n",
    "# ax3.legend()\n",
    "\n",
    "# Add the sliders\n",
    "@widgets.interact(r=(0.001, 100, 0.1), t=(0.001, 10, .01), Npts=(100,10000, 1))\n",
    "def update2(r = 1.0, t=1.0, Npts=1000):\n",
    "    [l.remove() for l in ax3.lines]\n",
    "    k3 = np.linspace(k_min,k_max,Npts)\n",
    "    ax3.plot(k3, f_vect(k3,r,t), color='C3',label=r\"$f(k;r,t)$\")\n",
    "    ax3.plot(k3, phi_vect(k3,r,t), color='C0',alpha=0.5,label=r\"$\\phi(k;r,t)$\")\n",
    "    ax3.set_ylim([min(f_vect(k3,r,t))*1.1, 1.1*max(f_vect(k3,r,t))])"
   ]
  },
  {
   "cell_type": "markdown",
   "metadata": {},
   "source": [
    "As we can see the two plots are very similar too! This is amazing because when it comes to estimate the integral, $\\phi(k;r,t)$ is so much better than the ugly thingy that we had before. Let's try to do this integral.\n",
    "\n",
    "# Analytic Solution\n",
    "\n",
    "Finally, after a lot of plots and months of sweat here is the final solution. We can just analyse this in terms of exponentials and after realising that for any realistic value of $(r,t)$ we are at the constant part of the error function integral, we can represent the solution like so.\n",
    "\n",
    "$$F(r,t) = \\Theta(t) \\frac{8\\pi^2 c}{rt}\\sqrt{\\frac{\\pi \\omega_0}{8 c^2 t}} \\exp \\left(-\\frac{r^2 \\omega_0}{c^2t}-t\\omega_0\\right) \\left[\\exp\\left(\\frac{(r+ct)^2\\omega_0}{2c^2t}\\right)-\\exp\\left(\\frac{(r-ct)^2\\omega_0}{2c^2t}\\right)\\right]$$\n",
    "\n",
    "Now I know this looks complicated but in reality it isn't. Let's examine a few features. Just like any solution to the wave equation we observe that the fundamental solution is indeed a superposition of two waves as functions of $r \\pm ct$. Also we see a characterstic exponential decay term dependent or the radius and time. Let's plot and animate this to make sure."
   ]
  },
  {
   "cell_type": "code",
   "execution_count": 11,
   "metadata": {},
   "outputs": [
    {
     "output_type": "display_data",
     "data": {
      "text/plain": "Canvas(toolbar=Toolbar(toolitems=[('Home', 'Reset original view', 'home', 'home'), ('Back', 'Back to  previous…",
      "application/vnd.jupyter.widget-view+json": {
       "version_major": 2,
       "version_minor": 0,
       "model_id": "1444c8f01716467eb1f84de2d8c4b23e"
      }
     },
     "metadata": {}
    },
    {
     "output_type": "display_data",
     "data": {
      "text/plain": "interactive(children=(FloatSlider(value=9994.0, description='t', max=10008.0, min=9991.0, step=0.01), IntSlide…",
      "application/vnd.jupyter.widget-view+json": {
       "version_major": 2,
       "version_minor": 0,
       "model_id": "597dee9bd40f4096a09b27f6eae01746"
      }
     },
     "metadata": {}
    },
    {
     "output_type": "execute_result",
     "data": {
      "text/plain": [
       "<matplotlib.legend.Legend at 0x7f8d069da2b0>"
      ]
     },
     "metadata": {},
     "execution_count": 11
    }
   ],
   "source": [
    "# Set up the plot\n",
    "fig4 = plt.figure(figsize=(9,6))\n",
    "fig4.suptitle(\"Snapshot of Fundamental Solution\")\n",
    "ax4 = fig4.add_subplot(111)\n",
    "\n",
    "r_min = 6.53\n",
    "r_max = 6.54\n",
    "Npts = 100\n",
    "\n",
    "ax4.set_xlim([r_min, r_max])\n",
    "ax4.set_ylabel(r'$F(r,t)$',fontsize = 15)\n",
    "ax4.set_xlabel(r'$r$',fontsize = 15)\n",
    "ax4.grid(True)\n",
    "\n",
    "# Generate x-y values\n",
    "r = np.linspace(r_min,r_max,Npts)\n",
    "def F_vect(R,t):\n",
    "    return np.array([F(r,t) for r in R])\n",
    "\n",
    "# r = np.linspace(r_min,r_max,1000)\n",
    "# F_vector = F_vect(r,10000.49*1e-6)\n",
    "# ax4.plot(r, F_vector, color='C2',label=r\"$F(r,t)$\")\n",
    "# ax4.set_ylim([0, 3.7e10])\n",
    "\n",
    "#Add the sliders\n",
    "@widgets.interact(t=(9991, 10008, 0.01), Npts=(100,10000, 1))\n",
    "def update2(t=9994, Npts=1000):\n",
    "    [l.remove() for l in ax4.lines]\n",
    "    r = np.linspace(r_min,r_max,Npts)\n",
    "    F_vector = F_vect(r,t*1e-6)\n",
    "    ax4.plot(r, F_vector, color='C2',label=r\"$F(r,t)$\")\n",
    "    ax4.set_ylim([0, 3.7e10])\n",
    "\n",
    "ax4.legend()"
   ]
  },
  {
   "cell_type": "markdown",
   "metadata": {},
   "source": [
    "# Conclusion\n",
    "\n",
    "It is important to recognise that the final solution is the solution to the following equation\n",
    "\n",
    "$$\\mathcal{L} F(\\vec{x},t) = \\delta(\\vec{x})\\delta(t)$$\n",
    "\n",
    "Which means that the solution is a distribution. Therefore the numbers on the y axis of the above plot do not mean much in terms of the actual thing. HOWEVER! It is possible to express every solution as a convolution with this. Specifically let's consider the following equation.\n",
    "\n",
    "$$\\mathcal{L} p(\\vec{x},t) = \\psi(\\vec{x},t)$$\n",
    "\n",
    "Where $\\psi(\\vec{x},t)$ is any forcing functions according to the previous note, we can analytically expres the solution in the form of a convolution. Specifically the solution for the pressure can be expreessed as.\n",
    "\n",
    "$$p(\\vec{x},t) = \\psi * F = \\int_{\\mathbb{R^3}} \\int_{\\mathbb{R}} \\psi(\\vec{y},s)\\ F(\\vec{x} - \\vec{y}, t-s)\\  ds d\\vec{y}$$\n",
    "\n",
    "Well now we are doing buisness. Almost there now we need to replace $\\psi$ with the Bethe-Bloch formula and we can get the analytic formula for the pressure due to this. Shouldn't be very hard at this point."
   ]
  },
  {
   "cell_type": "code",
   "execution_count": null,
   "metadata": {},
   "outputs": [],
   "source": []
  }
 ],
 "metadata": {
  "kernelspec": {
   "display_name": "Python 3",
   "language": "python",
   "name": "python3"
  },
  "language_info": {
   "codemirror_mode": {
    "name": "ipython",
    "version": 3
   },
   "file_extension": ".py",
   "mimetype": "text/x-python",
   "name": "python",
   "nbconvert_exporter": "python",
   "pygments_lexer": "ipython3",
   "version": "3.6.5-final"
  }
 },
 "nbformat": 4,
 "nbformat_minor": 2
}