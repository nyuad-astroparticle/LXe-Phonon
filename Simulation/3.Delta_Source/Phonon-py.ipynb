{
 "cells": [
  {
   "cell_type": "code",
   "execution_count": 1,
   "id": "4b86d90b",
   "metadata": {},
   "outputs": [],
   "source": [
    "from phononpy import *\n",
    "import matplotlib.pyplot as plt"
   ]
  },
  {
   "cell_type": "code",
   "execution_count": null,
   "id": "fb79195e",
   "metadata": {
    "scrolled": true
   },
   "outputs": [
    {
     "name": "stdout",
     "output_type": "stream",
     "text": [
      "\u001b[1mGenerating Estimator for order 2\u001b[0m\n",
      "Assembling the estimator using multiprocessing on 10 cores\n",
      "Permuations created successfully\n",
      "\tSend the fast data to the pool\n",
      "\t\u001b[94mFast:\u001b[0m 0, 0 \u001b[92mDone!\u001b[0m\n",
      "\t\u001b[94mFast:\u001b[0m 1, 0 \u001b[92mDone!\u001b[0m\n",
      "\t\u001b[94mFast:\u001b[0m 2, 0 \u001b[92mDone!\u001b[0m\n",
      "\t\u001b[94mFast:\u001b[0m 1, 1 \u001b[92mDone!\u001b[0m\n",
      "\t\u001b[94mFast:\u001b[0m 2, 1 \u001b[92mDone!\u001b[0m\n",
      "\t\u001b[94mFast:\u001b[0m 2, 2 \u001b[92mDone!\u001b[0m\n",
      "Pool closed Successfully\n",
      "recasting functions\n"
     ]
    },
    {
     "data": {
      "application/vnd.jupyter.widget-view+json": {
       "model_id": "e26e8442a2544b08a26cf72085524a08",
       "version_major": 2,
       "version_minor": 0
      },
      "text/plain": [
       "  0%|          | 0/6 [00:00<?, ?it/s]"
      ]
     },
     "metadata": {},
     "output_type": "display_data"
    }
   ],
   "source": [
    "E = estimator(max_order=2,n_cores=10,slow=False)"
   ]
  },
  {
   "cell_type": "code",
   "execution_count": null,
   "id": "3eeecc03",
   "metadata": {},
   "outputs": [],
   "source": [
    "# Get the fast particle waves as a function of R\n",
    "def get_params(r,v,T = np.array([-1.,60.]),N_pts:int=500):\n",
    "    g = 1/np.sqrt(v**2-1)\n",
    "    T = T + v * r\n",
    "    z = r/g\n",
    "    t = np.linspace(*T,N_pts)\n",
    "    \n",
    "    return r,z,t,v"
   ]
  },
  {
   "cell_type": "code",
   "execution_count": null,
   "id": "0b9e9ea4",
   "metadata": {},
   "outputs": [],
   "source": [
    "r,z,t,v = get_params(1,v)\n",
    "plt.plot(t-v*r,E(r,z,t,v,2e-1));"
   ]
  },
  {
   "cell_type": "code",
   "execution_count": null,
   "id": "4aa4061c",
   "metadata": {},
   "outputs": [],
   "source": []
  }
 ],
 "metadata": {
  "kernelspec": {
   "display_name": "Python 3 (ipykernel)",
   "language": "python",
   "name": "python3"
  },
  "language_info": {
   "codemirror_mode": {
    "name": "ipython",
    "version": 3
   },
   "file_extension": ".py",
   "mimetype": "text/x-python",
   "name": "python",
   "nbconvert_exporter": "python",
   "pygments_lexer": "ipython3",
   "version": "3.9.10"
  }
 },
 "nbformat": 4,
 "nbformat_minor": 5
}
