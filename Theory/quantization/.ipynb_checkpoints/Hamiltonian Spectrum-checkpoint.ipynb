{
 "cells": [
  {
   "cell_type": "markdown",
   "metadata": {},
   "source": [
    "# Energy Spectrum of Hamiltonian\n",
    "\n",
    "Here we create a plot of the enrgy spectrum of the hamiltonian of the quantized damped wave. It is important to know what in order to find where the spectrum is real we need to combine both phonon and antiphonon states. Check it out!"
   ]
  },
  {
   "cell_type": "code",
   "execution_count": null,
   "metadata": {},
   "outputs": [],
   "source": [
    "import numpy as np\n",
    "import matplotlib.pyplot as plt\n",
    "%matplotlib notebook\n",
    "\n",
    "# Model Parameters\n",
    "Npts = 300\n",
    "L = 1\n",
    "k = np.linspace(0,3/L)\n",
    "\n",
    "f1 = lambda k: 1j *L*k**2 + np.sqrt(k**2 - L**2 k**4)\n",
    "f2 = lambda k: 1j *L*k**2 - np.sqrt(k**2 - L**2 k**4)\n",
    "\n",
    "g1 = lambda k: -1j *L*k**2 + np.sqrt(k**2 - L**2 k**4)\n",
    "g2 = lambda k: -1j *L*k**2 - np.sqrt(k**2 - L**2 k**4)\n",
    "\n",
    "\n",
    "# Phonons\n",
    "kk = np.concatenate(k,k,axis=0)\n",
    "xx = np.concatenate(f1(k).real,f2(k).real,axis=0)\n",
    "xx = np.concatenate(f1(k).imag,f2(k).imag,axis=0)"
   ]
  }
 ],
 "metadata": {
  "kernelspec": {
   "display_name": "Python 3",
   "language": "python",
   "name": "python3"
  },
  "language_info": {
   "codemirror_mode": {
    "name": "ipython",
    "version": 3
   },
   "file_extension": ".py",
   "mimetype": "text/x-python",
   "name": "python",
   "nbconvert_exporter": "python",
   "pygments_lexer": "ipython3",
   "version": "3.8.2"
  }
 },
 "nbformat": 4,
 "nbformat_minor": 4
}
