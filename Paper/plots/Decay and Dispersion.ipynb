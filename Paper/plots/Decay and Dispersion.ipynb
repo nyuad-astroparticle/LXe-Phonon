{
 "cells": [
  {
   "cell_type": "markdown",
   "metadata": {},
   "source": [
    "# Decay and Dispersion\n",
    "All the plots related to decay and dispersion are located here. Specifically time dependent plots, etc."
   ]
  },
  {
   "cell_type": "code",
   "execution_count": 15,
   "metadata": {},
   "outputs": [],
   "source": [
    "# import libraries\n",
    "import numpy as np\n",
    "import matplotlib.pyplot as plt\n",
    "from matplotlib import ticker, cm\n",
    "import matplotlib as mpl\n",
    "mpl.use(\"pgf\")\n",
    "%config InlineBackend.figure_format = 'svg'\n",
    "plt.style.use('classic')\n",
    "\n",
    "%matplotlib inline"
   ]
  },
  {
   "cell_type": "code",
   "execution_count": 24,
   "metadata": {},
   "outputs": [
    {
     "output_type": "error",
     "ename": "SyntaxError",
     "evalue": "invalid syntax (<ipython-input-24-2f3cc1db3cdc>, line 10)",
     "traceback": [
      "\u001b[0;36m  File \u001b[0;32m\"<ipython-input-24-2f3cc1db3cdc>\"\u001b[0;36m, line \u001b[0;32m10\u001b[0m\n\u001b[0;31m    F = lambda x,a,c = np.exp(c)**(a/(1+1j*a)*x)\u001b[0m\n\u001b[0m                                                ^\u001b[0m\n\u001b[0;31mSyntaxError\u001b[0m\u001b[0;31m:\u001b[0m invalid syntax\n"
     ]
    }
   ],
   "source": [
    "# Define relevant constants\n",
    "w  = 1\n",
    "w0 = 1\n",
    "c  = 1\n",
    "\n",
    "# Relevant generators\n",
    "k = lambda w, w0=w0, c=c: (w/c)/(1+1j*w/w0)**(0.5)\n",
    "k_= lambda w_,r=1: r*w_/(1+1j*w_)**0.5\n",
    "f = lambda x,t,w=w,w0=w0,c=c: np.exp(-1j*(x*k(w,w0,c) - w*t))\n",
    "F = lambda x,a,c: np.exp(c)**(a/(1+1j*a)*x)\n",
    "\n",
    "\n",
    "# Create figure\n",
    "fig = plt.figure(figsize = (9,7))\n",
    "ax = fig.add_subplot(111)\n",
    "ax.set_xlabel(r'$\\omega/\\omega_0$')\n",
    "ax.set_ylabel(r'$\\exp (\\omega_0 x/c)$')\n",
    "\n",
    "# Plot data\n",
    "x = 1\n",
    "a = 10**np.linspace(-4,4,1000)\n",
    "c = 10**np.linspace(-2,2,1000)\n",
    "A,C = np.meshgrid(w,r)\n",
    "Z = F(x,a,c)\n",
    "\n",
    "ax.plot(w,F(1,w),c='k',lw=1)\n",
    "ax.set_xscale('log')\n",
    "ax.set_xlim(min(w),max(w))\n",
    "ax.set_ylim(-0.,1.1)\n",
    "\n",
    "plt.show()\n",
    "# plt.savefig('file.pgf')"
   ]
  },
  {
   "cell_type": "code",
   "execution_count": null,
   "metadata": {},
   "outputs": [],
   "source": []
  },
  {
   "cell_type": "code",
   "execution_count": null,
   "metadata": {},
   "outputs": [],
   "source": []
  }
 ],
 "metadata": {
  "kernelspec": {
   "display_name": "Python 3",
   "language": "python",
   "name": "python3"
  },
  "language_info": {
   "codemirror_mode": {
    "name": "ipython",
    "version": 3
   },
   "file_extension": ".py",
   "mimetype": "text/x-python",
   "name": "python",
   "nbconvert_exporter": "python",
   "pygments_lexer": "ipython3",
   "version": "3.8.2-final"
  }
 },
 "nbformat": 4,
 "nbformat_minor": 4
}